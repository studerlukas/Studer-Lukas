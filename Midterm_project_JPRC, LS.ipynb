{
  "nbformat": 4,
  "nbformat_minor": 0,
  "metadata": {
    "colab": {
      "provenance": [],
      "toc_visible": true,
      "include_colab_link": true
    },
    "kernelspec": {
      "name": "python3",
      "display_name": "Python 3"
    },
    "language_info": {
      "name": "python"
    }
  },
  "cells": [
    {
      "cell_type": "markdown",
      "metadata": {
        "id": "view-in-github",
        "colab_type": "text"
      },
      "source": [
        "<a href=\"https://colab.research.google.com/github/studerlukas/Studer-Lukas/blob/main/Midterm_project_JPRC.ipynb\" target=\"_parent\"><img src=\"https://colab.research.google.com/assets/colab-badge.svg\" alt=\"Open In Colab\"/></a>"
      ]
    },
    {
      "cell_type": "markdown",
      "source": [
        "#**Mid Term Project**\n",
        "### Project carried out by Group 5\n",
        "Notebook by Juan Pablo Romero Cruz\n"
      ],
      "metadata": {
        "id": "k9ewCO1lEZY_"
      }
    },
    {
      "cell_type": "markdown",
      "source": [
        "# 1. Organize your group (5 pts)\n",
        "https://cloud-new.gdb.tools/index.php/s/scRaYPtdqCe2JaG"
      ],
      "metadata": {
        "id": "ZaMg9lp2FHi_"
      }
    },
    {
      "cell_type": "markdown",
      "source": [
        "# 2. Answer background questions, and upload them to your github (5 pts)"
      ],
      "metadata": {
        "id": "yEtBZEMqFXGY"
      }
    },
    {
      "cell_type": "markdown",
      "source": [
        "1. Which packages are available for ML? Describe the pros and cons and document the availability.\n",
        "2. What is Chembl? How do you access it?\n",
        "3. What is machine learning, and how does it differ from traditional programming?\n",
        "4. What are the key concepts and techniques in machine learning?\n",
        "5. What are the different types of machine learning algorithms?\n",
        "6. What are the common applications of machine learning?\n",
        "7. How do you evaluate the performance of a machine learning model?\n",
        "8. How do you prepare data for use in a machine learning model?\n",
        "9. What are some common challenges in machine learning, and how can they be addressed?\n",
        "10. What are some resources and tools available to help you learn and practice machine learning?"
      ],
      "metadata": {
        "id": "PwJWmWUXFoL7"
      }
    },
    {
      "cell_type": "markdown",
      "source": [
        "1. There are numerous packages available for Machine Learning (ML), including Scikit-Learn, TensorFlow, Keras, PyTorch, and many more. Scikit-Learn is a popular and well-documented package that is easy to learn and use, but it may not be the best choice for all use cases. TensorFlow and Keras are powerful packages for deep learning, but they require more advanced programming skills. PyTorch is another powerful package for deep learning that is gaining popularity due to its user-friendly interface and flexibility. \n",
        "\n",
        "2. Chembl is a database of bioactive molecules with drug-like properties that can be used in drug discovery and development. It is freely available online and can be accessed through its website, as well as through Python and R.\n",
        "\n",
        "3. Machine learning is a type of artificial intelligence that enables computers to learn and improve from experience without being explicitly programmed. It differs from traditional programming in that it allows the computer to learn patterns and relationships in data and make predictions or decisions based on that learning, rather than following a fixed set of rules.\n",
        "\n",
        "4. Key concepts and techniques in machine learning include supervised learning, unsupervised learning, reinforcement learning, deep learning, neural networks, decision trees, clustering, and dimensionality reduction. Techniques for data preprocessing, feature engineering, model selection, and evaluation are also important.\n",
        "\n",
        "5. The different types of machine learning algorithms include supervised learning algorithms such as linear regression, logistic regression, and support vector machines, unsupervised learning algorithms such as k-means clustering and principal component analysis, and reinforcement learning algorithms such as Q-learning and deep reinforcement learning.\n",
        "\n",
        "6. Common applications of machine learning include image and speech recognition, natural language processing, recommendation systems, fraud detection, and predictive maintenance.\n",
        "\n",
        "7. The performance of a machine learning model can be evaluated using metrics such as accuracy, precision, recall, F1 score, and area under the receiver operating characteristic (ROC) curve. Cross-validation and hyperparameter tuning can also be used to optimize model performance.\n",
        "\n",
        "8. Data preparation for machine learning involves tasks such as data cleaning, feature scaling, feature selection, and data augmentation. It is important to ensure that the data used for training the model is representative of the problem domain and is not biased.\n",
        "\n",
        "9. Common challenges in machine learning include overfitting, underfitting, imbalanced data, noisy data, and lack of interpretability. These can be addressed through techniques such as regularization, ensemble methods, data balancing, feature selection, and model interpretability methods.\n",
        "\n",
        "10. There are many resources and tools available to learn and practice machine learning, including online courses such as those offered by Coursera and edX, books such as \"Hands-On Machine Learning with Scikit-Learn, Keras, and TensorFlow\" by Aurélien Géron, and programming platforms such as Kaggle and Google Colab. Many libraries and packages are also available in programming languages such as Python and R, including Scikit-Learn, TensorFlow, and Keras, which can be used for training and evaluating machine learning models."
      ],
      "metadata": {
        "id": "ujt6-60sGxHc"
      }
    },
    {
      "cell_type": "markdown",
      "source": [
        "# 3. Read tutorial in full before starting anything & answer questions and document the important steps of the process (10 pts)\n",
        "The tutorial you will follow is below, however we will NOT use their training set.\n",
        "https://projects.volkamerlab.org/teachopencadd/talktorials/\n",
        "T022_ligand_based_screening_neural_network.html\n",
        "The dataset for kinases can be found here (you might need to prepare or alter it):\n",
        "https://cloud-new.gdb.tools/index.php/s/ZfZM7itQf3rm6Sw\n",
        "1. What is in the training set, how big is it?\n",
        "2. What modifications do you need to do to the data set to perform the tutorial.\n",
        "3. What is a test set? Any other types of set?\n",
        "4. Before starting describe with 1-2 sentences, in your own words, what is done in each\n",
        "of the cells."
      ],
      "metadata": {
        "id": "blcKY4azFyG_"
      }
    },
    {
      "cell_type": "markdown",
      "source": [
        "# 4. Perform the tutorial on either your computer or google colab (10 pts)\n",
        "Document with screenshots or notebook to get the points.\n"
      ],
      "metadata": {
        "id": "-MFnFXFLGDO7"
      }
    },
    {
      "cell_type": "markdown",
      "source": [
        "# 5. Gain access to Ubelix (5 pts)\n",
        "Read the documentation: https://hpc-unibe-ch.github.io/\n",
        "1. What is Ubelix?\n",
        "2. How do you gain access?\n",
        "3. How do you submit a job?\n",
        "4. Who can have access?\n",
        "5. What resources are available there?\n"
      ],
      "metadata": {
        "id": "3NYuxdQLGDqy"
      }
    },
    {
      "cell_type": "markdown",
      "source": [
        "1. Ubelix stands for **U**niversity of **B**ern **Li**nu**x** Cluster and is a the HPC (**H**igh **P**erformance **C**omputing) system from the University of Bern. This cluster consits of an array of 320 conncted nodes which can be managed as a single system.\n",
        "2. Before you can gain access, your campus account must be activated. You can do so by filling in this [form](https://serviceportal.unibe.ch/hpc). Your account will then be activated by the administrators. Afterwards, an SSH (**S**ecure **Sh**ell) connection can be estabilshed from within network of the university of Bern or while being connected to the VPN.\n",
        "3. To submit a job, the sbatch command is used for later execution. It is the most common way due to its reusability. The command is used according to the following example:\n",
        "\n"
      ],
      "metadata": {
        "id": "cYeorB-SWh0j"
      }
    },
    {
      "cell_type": "code",
      "source": [
        "sbatch job.sh"
      ],
      "metadata": {
        "id": "dcPIdVrXcps4"
      },
      "execution_count": null,
      "outputs": []
    },
    {
      "cell_type": "markdown",
      "source": [
        "3. Along with this command, various terms and conditions on how to job should run can be submitted. For example the used number of nodes, the expected time,  the amount of tasks and many more parameters can be specified. \n",
        "\n",
        "4. Anyone owner of a campus account can gain access to Ubelix. The system may then be used for projects or research. External researchers can collab and apply for a campus account to gain access to Ubelix.\n",
        "5. Both computational power and storage are provided. General workspaces can be crated to simplyfy collaborations. \n"
      ],
      "metadata": {
        "id": "aRuZIpANcp1K"
      }
    },
    {
      "cell_type": "markdown",
      "source": [
        "# 6. Reuse the code from the tutorial to run the relevant part (training) on Ubelix. Document how you do the code modification and transfer. (10 pts)\n"
      ],
      "metadata": {
        "id": "8PWCc5pQGEXB"
      }
    },
    {
      "cell_type": "markdown",
      "source": [
        "# 7. Run the training step on Ubelix (5 pts)\n",
        "Provide the submission script and the code you run there.\n"
      ],
      "metadata": {
        "id": "uKgix4_aGEts"
      }
    },
    {
      "cell_type": "markdown",
      "source": [
        "# 8. Other considerations:\n",
        "You will be using ssh to access Ubelix. It is integrated in the windows power shell and mac\n",
        "and linux terminals.\n",
        "Filezilla download: https://filezilla-project.org\n",
        "Filezilla is used to easily transfer files between servers.\n",
        "Download the client Terminal cheatsheet (guide for terminal commands):\n",
        "https://cheatography.com/davechild/cheat-sheets/linux-command-line/"
      ],
      "metadata": {
        "id": "4f11IYs5GFC9"
      }
    }
  ]
}
