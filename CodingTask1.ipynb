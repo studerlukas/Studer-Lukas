{
  "nbformat": 4,
  "nbformat_minor": 0,
  "metadata": {
    "colab": {
      "name": "CodingTask1.ipynb",
      "provenance": [],
      "include_colab_link": true
    },
    "kernelspec": {
      "name": "python3",
      "display_name": "Python 3"
    },
    "language_info": {
      "name": "python"
    }
  },
  "cells": [
    {
      "cell_type": "markdown",
      "metadata": {
        "id": "view-in-github",
        "colab_type": "text"
      },
      "source": [
        "<a href=\"https://colab.research.google.com/github/studerlukas/Studer-Lukas/blob/main/CodingTask1.ipynb\" target=\"_parent\"><img src=\"https://colab.research.google.com/assets/colab-badge.svg\" alt=\"Open In Colab\"/></a>"
      ]
    },
    {
      "cell_type": "markdown",
      "source": [
        "Data Science Fundamentals for DCBP, S. Haug, University of Bern "
      ],
      "metadata": {
        "id": "_-1mhuoK6uqC"
      }
    },
    {
      "cell_type": "markdown",
      "source": [
        "# Coding Task 1\n",
        "\n",
        "- Deadline (upload to Ilias): 2022-03-22 17:00\n",
        "- Estimated effort: 2-5 hours (if you don't progress after 2 hours of trying, search for help, ChatGPT, Google, colleagues, course tutor)\n",
        "- Data on Ilias: CCD-Data with metadata file CCD-Metadata\n"
      ],
      "metadata": {
        "id": "gn4RkUC66-ou"
      }
    },
    {
      "cell_type": "markdown",
      "source": [
        "## Tasks (maximum 12.5 points)"
      ],
      "metadata": {
        "id": "KYKF2iS56v1z"
      }
    },
    {
      "cell_type": "markdown",
      "source": [
        "- **CT-1.1** Write a method (function) which removes the header information in the \n",
        "datafile and saves that information into a separate textfile. [0.5 points] \n",
        "- **CT-1.2** Write a function which reduces the data resolution by merging/averaging columns such that there is only one column per 1 nm. [2.0 points]  \n",
        "- **CT-1.3** Now generalize the above merging so that it works for any number nm er column. [2.0 points]\n",
        "- **CT-1.4** Implement the saving of the reduced dataset to a file. Do this (1) by writing an explicit loop (write line by line) and (2) by using pandas methods. Measure the running times of the two approaches. [2.0 points]\n",
        "- **CT-1.5** Write a function which takes two wavelengths as input and plots the difference of the data at these lengths over time. [2.0 points] \n",
        "- **CT-1.6** Let the x-axis be in seconds, label the axes with names and units, label the plot with color and legend, make a title for the plot. Save the plot to a file. [2.0 points]\n",
        "- **CT-1.7** Plot the full and some reduced datasets in the same figure. Is there any visual difference? [2.0 points]"
      ],
      "metadata": {
        "id": "rXqhhPMu9aPx"
      }
    },
    {
      "cell_type": "code",
      "source": [
        "import pandas as pd\n",
        "from google.colab import drive\n",
        "drive.mount('/content/drive')\n",
        "path = '/content/drive/MyDrive/DSF/CCD-Data.txt'\n",
        "\n",
        "def remove_header(in_file, n, out_file):\n",
        "  df = pd.read_csv(in_file, delimiter='\\t', header=n)\n",
        "  header = pd.read_csv(in_file, delimiter='\\t', header=None, nrows=n-1)\n",
        "  header.to_csv(out_file, sep='\\t', header=False, index=False)\n",
        "  return df\n",
        "df = remove_header(path, 13, '/content/drive/MyDrive/DSF/header_info.txt')\n"
      ],
      "metadata": {
        "id": "OfvMackX-SFc",
        "outputId": "2581fed0-36fa-466d-f8dc-c796b61e1a1d",
        "colab": {
          "base_uri": "https://localhost:8080/"
        }
      },
      "execution_count": 9,
      "outputs": [
        {
          "output_type": "stream",
          "name": "stdout",
          "text": [
            "Drive already mounted at /content/drive; to attempt to forcibly remount, call drive.mount(\"/content/drive\", force_remount=True).\n",
            "                   Unnamed: 0     Unnamed: 1  316.6137  316.7492  316.8847  \\\n",
            "0  2018-10-25 10:32:04.789000  1540456324789  0.329672  0.329672  0.329672   \n",
            "1  2018-10-25 10:32:04.878000  1540456324878 -0.044412 -0.044412 -0.044412   \n",
            "2  2018-10-25 10:32:04.962000  1540456324962  0.338219  0.338219  0.338219   \n",
            "3  2018-10-25 10:32:05.046000  1540456325046 -0.049682 -0.049682 -0.049682   \n",
            "4  2018-10-25 10:32:05.129000  1540456325129  0.335086  0.335086  0.335086   \n",
            "\n",
            "   317.0203  317.1558  317.2913  317.4268  317.5623  ...  778.9703   779.089  \\\n",
            "0  0.090294 -0.716926 -1.829304 -0.686330 -0.428776  ... -0.038483 -0.039623   \n",
            "1  0.157632 -0.672423 -2.183981 -0.492421 -0.000000  ... -0.039428 -0.038486   \n",
            "2  0.330993 -0.879836 -0.000000 -0.559845 -0.000000  ... -0.037725 -0.037534   \n",
            "3  0.519086 -0.681150 -0.000000 -0.417230 -0.000000  ... -0.037613 -0.037168   \n",
            "4 -0.041393 -0.000000 -1.802774 -0.510417 -0.000000  ... -0.040919 -0.038288   \n",
            "\n",
            "   779.2076  779.3263  779.4449  779.5636  779.6822  779.8008  779.9194  \\\n",
            "0 -0.036920 -0.037309 -0.037299 -0.037476 -0.036856 -0.036853 -0.039100   \n",
            "1 -0.037309 -0.036357 -0.037289 -0.038728 -0.037214 -0.036902 -0.040210   \n",
            "2 -0.036560 -0.036152 -0.036554 -0.036875 -0.037351 -0.036746 -0.038686   \n",
            "3 -0.036369 -0.034549 -0.036252 -0.037948 -0.036713 -0.035706 -0.038203   \n",
            "4 -0.035840 -0.035638 -0.039504 -0.040093 -0.039953 -0.037656 -0.038082   \n",
            "\n",
            "   780.0381  \n",
            "0 -0.035545  \n",
            "1 -0.038165  \n",
            "2 -0.036903  \n",
            "3 -0.036822  \n",
            "4 -0.035900  \n",
            "\n",
            "[5 rows x 3650 columns]\n"
          ]
        }
      ]
    }
  ]
}