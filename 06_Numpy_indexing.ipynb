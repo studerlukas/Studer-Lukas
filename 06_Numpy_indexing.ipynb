{
  "cells": [
    {
      "cell_type": "markdown",
      "metadata": {
        "id": "view-in-github",
        "colab_type": "text"
      },
      "source": [
        "<a href=\"https://colab.research.google.com/github/studerlukas/Studer-Lukas/blob/main/06_Numpy_indexing.ipynb\" target=\"_parent\"><img src=\"https://colab.research.google.com/assets/colab-badge.svg\" alt=\"Open In Colab\"/></a>"
      ]
    },
    {
      "cell_type": "markdown",
      "metadata": {
        "id": "ru7mNBPPCjqV"
      },
      "source": [
        "# 6. Numpy indexing\n",
        "\n",
        "Often we need to extract some information from a Pandas DataFrame. Here also, Pandas inherits many of the approaches used in Numpy. Therefore we start here by very briefly showing how to proceed with plain arrays before looking at the more complex DataFrames.\n",
        "\n",
        "Note that Numpy indexing is very powerful and that we cover here only a tiny fraction of this topic. To learn more you can for example the [Numpy reference](https://numpy.org/doc/stable/reference/arrays.indexing.html#indexing)."
      ]
    },
    {
      "cell_type": "code",
      "execution_count": 1,
      "metadata": {
        "id": "ztwtLIbJDpYx"
      },
      "outputs": [],
      "source": [
        "import numpy as np"
      ]
    },
    {
      "cell_type": "markdown",
      "metadata": {
        "id": "3tMa2-cXDqaA"
      },
      "source": [
        "We first create an array:"
      ]
    },
    {
      "cell_type": "code",
      "execution_count": 2,
      "metadata": {
        "id": "ZsaO3RdIDuMa",
        "colab": {
          "base_uri": "https://localhost:8080/"
        },
        "outputId": "42d1e8f0-6fe6-4a6e-e8b0-ae77b7fd7513"
      },
      "outputs": [
        {
          "output_type": "execute_result",
          "data": {
            "text/plain": [
              "array([ 0.58069695,  0.31316928, -0.28685509, -0.69283701, -0.68871022,\n",
              "        0.38557743, -0.05861093, -0.9732493 ,  0.71065686,  0.00543238])"
            ]
          },
          "metadata": {},
          "execution_count": 2
        }
      ],
      "source": [
        "my_array = np.random.normal(size=10)\n",
        "my_array"
      ]
    },
    {
      "cell_type": "markdown",
      "metadata": {
        "id": "y5-My76iDyCb"
      },
      "source": [
        "## Extracting and setting elements\n",
        "\n",
        "The standard way to extract information from an array is to used the square parenthesis (bracket) notation. If we want for example to extract the second element of the array we write:\n",
        "\n"
      ]
    },
    {
      "cell_type": "code",
      "execution_count": 3,
      "metadata": {
        "id": "9uxQWL_jEAXH",
        "colab": {
          "base_uri": "https://localhost:8080/"
        },
        "outputId": "11dd95d5-3fc6-4959-83e9-60a1f445acbe"
      },
      "outputs": [
        {
          "output_type": "execute_result",
          "data": {
            "text/plain": [
              "0.3131692817787949"
            ]
          },
          "metadata": {},
          "execution_count": 3
        }
      ],
      "source": [
        "my_array[1]"
      ]
    },
    {
      "cell_type": "markdown",
      "metadata": {
        "id": "IOoZtvSiEDw8"
      },
      "source": [
        "Remember that **we start counting from 0** in Python, which is why the *second* element has index 1.\n",
        "\n",
        "We can extend the notation and extract a range of elements by using the ```from_index:to_index (excluded)``` notation. Here ```excluded``` means that the **last index** specified is **not included**. For example if we want to recover elements with indices from 1 to 3 we write:"
      ]
    },
    {
      "cell_type": "code",
      "execution_count": 4,
      "metadata": {
        "id": "4tCNuBLpELzd",
        "colab": {
          "base_uri": "https://localhost:8080/"
        },
        "outputId": "d1ce2e79-53cb-4526-c2ea-927c7458e7f2"
      },
      "outputs": [
        {
          "output_type": "execute_result",
          "data": {
            "text/plain": [
              "array([ 0.31316928, -0.28685509, -0.69283701])"
            ]
          },
          "metadata": {},
          "execution_count": 4
        }
      ],
      "source": [
        "my_array[1:4]"
      ]
    },
    {
      "cell_type": "markdown",
      "metadata": {
        "id": "YXCwO49SEvmh"
      },
      "source": [
        "We can also set values in the array in the same maner. For example let's set the above elements to 10:"
      ]
    },
    {
      "cell_type": "code",
      "execution_count": 5,
      "metadata": {
        "id": "R-cldFxDE-3o"
      },
      "outputs": [],
      "source": [
        "my_array[1:4] = 10"
      ]
    },
    {
      "cell_type": "code",
      "execution_count": 6,
      "metadata": {
        "id": "YzyfJV6wFFSa",
        "colab": {
          "base_uri": "https://localhost:8080/"
        },
        "outputId": "ba8f2e9d-fc66-4144-d8f2-2267911b2d12"
      },
      "outputs": [
        {
          "output_type": "execute_result",
          "data": {
            "text/plain": [
              "array([ 5.80696949e-01,  1.00000000e+01,  1.00000000e+01,  1.00000000e+01,\n",
              "       -6.88710216e-01,  3.85577429e-01, -5.86109342e-02, -9.73249305e-01,\n",
              "        7.10656863e-01,  5.43237862e-03])"
            ]
          },
          "metadata": {},
          "execution_count": 6
        }
      ],
      "source": [
        "my_array"
      ]
    },
    {
      "cell_type": "markdown",
      "metadata": {
        "id": "wTC1zc6Kcue_"
      },
      "source": [
        "Note that you can sometimes simplify the notation. For example if you want to extract all elements from the 4th one **to the last one**, you don't have to specify the last index, you can simply replace it by ```:```:\n"
      ]
    },
    {
      "cell_type": "code",
      "execution_count": 7,
      "metadata": {
        "id": "3Wh8TLBOdS1f",
        "colab": {
          "base_uri": "https://localhost:8080/"
        },
        "outputId": "547e4ccc-1bf5-465f-de70-05842465532d"
      },
      "outputs": [
        {
          "output_type": "execute_result",
          "data": {
            "text/plain": [
              "array([-0.68871022,  0.38557743, -0.05861093, -0.9732493 ,  0.71065686,\n",
              "        0.00543238])"
            ]
          },
          "metadata": {},
          "execution_count": 7
        }
      ],
      "source": [
        "my_array[4::]"
      ]
    },
    {
      "cell_type": "markdown",
      "metadata": {
        "id": "LkdwCr_Ydcdm"
      },
      "source": [
        "## Higher dimensions\n",
        "\n",
        "We have seen before that we can create arrays with more than one dimension (think e.g. of the pixels of an image). For example:"
      ]
    },
    {
      "cell_type": "code",
      "execution_count": 8,
      "metadata": {
        "id": "wnDoPx6KdnVr",
        "colab": {
          "base_uri": "https://localhost:8080/"
        },
        "outputId": "28770c21-29e7-44b5-b976-8744b882dda5"
      },
      "outputs": [
        {
          "output_type": "execute_result",
          "data": {
            "text/plain": [
              "array([[-0.19587652, -0.88230012,  1.00178158, -0.19592268,  0.97386807],\n",
              "       [ 0.09717464, -0.27384179,  0.85521062, -2.36171727, -0.19803443],\n",
              "       [ 0.13127696,  0.97140299, -0.7876818 ,  0.46881799, -0.4822447 ]])"
            ]
          },
          "metadata": {},
          "execution_count": 8
        }
      ],
      "source": [
        "array2D = np.random.normal(size=(3,5))\n",
        "array2D"
      ]
    },
    {
      "cell_type": "markdown",
      "metadata": {
        "id": "fvh9-Y1UdsiZ"
      },
      "source": [
        "The indexing system works in the same way here. We just have to specify now for each dimension which rows/columns we want to extract with ```my_array[start_row:end_row, start_column:end_column]```:"
      ]
    },
    {
      "cell_type": "code",
      "execution_count": 9,
      "metadata": {
        "id": "PwEp-hwKeBXy",
        "colab": {
          "base_uri": "https://localhost:8080/"
        },
        "outputId": "a93a370c-5ce2-46bf-8626-a2e077be99f9"
      },
      "outputs": [
        {
          "output_type": "execute_result",
          "data": {
            "text/plain": [
              "array([[ 0.09717464, -0.27384179],\n",
              "       [ 0.13127696,  0.97140299]])"
            ]
          },
          "metadata": {},
          "execution_count": 9
        }
      ],
      "source": [
        "array2D[1:3, 0:2]"
      ]
    },
    {
      "cell_type": "markdown",
      "metadata": {
        "id": "Il56KE3VeIaB"
      },
      "source": [
        "Here again, we can simplify the notation. If we want to select a few rows but **want to keep all columns**, we can again use the ```:``` notation like this:"
      ]
    },
    {
      "cell_type": "code",
      "execution_count": 10,
      "metadata": {
        "id": "2SnaezpQeTGq",
        "colab": {
          "base_uri": "https://localhost:8080/"
        },
        "outputId": "762d6b33-002c-4f94-96c2-c6c54e9253fd"
      },
      "outputs": [
        {
          "output_type": "execute_result",
          "data": {
            "text/plain": [
              "array([[ 0.09717464, -0.27384179,  0.85521062, -2.36171727, -0.19803443],\n",
              "       [ 0.13127696,  0.97140299, -0.7876818 ,  0.46881799, -0.4822447 ]])"
            ]
          },
          "metadata": {},
          "execution_count": 10
        }
      ],
      "source": [
        "array2D[1:3, :]"
      ]
    },
    {
      "cell_type": "markdown",
      "metadata": {
        "id": "FsqskNXsFGTG"
      },
      "source": [
        "## Working with sub-parts\n",
        "\n",
        "Using indexing, we can also create a smaller array that we want to work on specifically. For example let's say we are only interested in the 6th to 8th element. We can **extract** it and **asign** it to a new array:"
      ]
    },
    {
      "cell_type": "code",
      "execution_count": 11,
      "metadata": {
        "id": "vtuQhL9EFt08"
      },
      "outputs": [],
      "source": [
        "sub_array = my_array[7:10]"
      ]
    },
    {
      "cell_type": "code",
      "execution_count": 12,
      "metadata": {
        "id": "Wa9qPa0nFzUW",
        "colab": {
          "base_uri": "https://localhost:8080/"
        },
        "outputId": "fbfa1175-eea7-44d5-dd68-748eb9bf7460"
      },
      "outputs": [
        {
          "output_type": "execute_result",
          "data": {
            "text/plain": [
              "array([ 5.80696949e-01,  1.00000000e+01,  1.00000000e+01,  1.00000000e+01,\n",
              "       -6.88710216e-01,  3.85577429e-01, -5.86109342e-02, -9.73249305e-01,\n",
              "        7.10656863e-01,  5.43237862e-03])"
            ]
          },
          "metadata": {},
          "execution_count": 12
        }
      ],
      "source": [
        "my_array"
      ]
    },
    {
      "cell_type": "code",
      "execution_count": 13,
      "metadata": {
        "id": "vInkaepAF0zc",
        "colab": {
          "base_uri": "https://localhost:8080/"
        },
        "outputId": "e6f65381-c645-484b-a02d-bf64dfacf6ea"
      },
      "outputs": [
        {
          "output_type": "execute_result",
          "data": {
            "text/plain": [
              "array([-0.9732493 ,  0.71065686,  0.00543238])"
            ]
          },
          "metadata": {},
          "execution_count": 13
        }
      ],
      "source": [
        "sub_array"
      ]
    },
    {
      "cell_type": "markdown",
      "metadata": {
        "id": "0PjKXuSYF1iX"
      },
      "source": [
        "Let's now modify an element of this subarray:"
      ]
    },
    {
      "cell_type": "code",
      "execution_count": 14,
      "metadata": {
        "id": "-cTrdqfMF_Em"
      },
      "outputs": [],
      "source": [
        "sub_array[0] = 100"
      ]
    },
    {
      "cell_type": "markdown",
      "metadata": {
        "id": "5BSrHqHWGCh5"
      },
      "source": [
        "Let's check that ```sub_array``` has indeed changed:"
      ]
    },
    {
      "cell_type": "code",
      "execution_count": 15,
      "metadata": {
        "id": "lF7FFdYtGDKa",
        "colab": {
          "base_uri": "https://localhost:8080/"
        },
        "outputId": "41ba6ee9-4e01-4c4e-f6fb-c774de0abc2e"
      },
      "outputs": [
        {
          "output_type": "execute_result",
          "data": {
            "text/plain": [
              "array([1.00000000e+02, 7.10656863e-01, 5.43237862e-03])"
            ]
          },
          "metadata": {},
          "execution_count": 15
        }
      ],
      "source": [
        "sub_array"
      ]
    },
    {
      "cell_type": "markdown",
      "metadata": {
        "id": "BQOPc1caGKOh"
      },
      "source": [
        "Let's now also have a look at the original array:"
      ]
    },
    {
      "cell_type": "code",
      "execution_count": 16,
      "metadata": {
        "id": "ZYZMwqPAGN8q",
        "colab": {
          "base_uri": "https://localhost:8080/"
        },
        "outputId": "74b9b5d2-4dfa-4138-e4de-bc3d5485c521"
      },
      "outputs": [
        {
          "output_type": "execute_result",
          "data": {
            "text/plain": [
              "array([ 5.80696949e-01,  1.00000000e+01,  1.00000000e+01,  1.00000000e+01,\n",
              "       -6.88710216e-01,  3.85577429e-01, -5.86109342e-02,  1.00000000e+02,\n",
              "        7.10656863e-01,  5.43237862e-03])"
            ]
          },
          "metadata": {},
          "execution_count": 16
        }
      ],
      "source": [
        "my_array"
      ]
    },
    {
      "cell_type": "markdown",
      "metadata": {
        "id": "kEN5DCn4G1f5"
      },
      "source": [
        "**The value in the original array has changed too!**. The reason is that the slicing of the array **does not create an independent sub-array**. It is still linked to the original one. Depending on the types of modification, you might or might not encounter this problem. To be on the safe side, explicitely create a **copy** when creating a sub-array. Like that it will be independent from the original one: "
      ]
    },
    {
      "cell_type": "code",
      "execution_count": 17,
      "metadata": {
        "id": "6P_wV4hhHtnv"
      },
      "outputs": [],
      "source": [
        "sub_array = my_array[7:10].copy()\n",
        "sub_array[0] = 200"
      ]
    },
    {
      "cell_type": "code",
      "execution_count": 18,
      "metadata": {
        "id": "wG92XXlvHzFM",
        "colab": {
          "base_uri": "https://localhost:8080/"
        },
        "outputId": "5ec490ad-6575-4a9d-ef7c-ad4a1cb87759"
      },
      "outputs": [
        {
          "output_type": "execute_result",
          "data": {
            "text/plain": [
              "array([2.00000000e+02, 7.10656863e-01, 5.43237862e-03])"
            ]
          },
          "metadata": {},
          "execution_count": 18
        }
      ],
      "source": [
        "sub_array"
      ]
    },
    {
      "cell_type": "code",
      "execution_count": 19,
      "metadata": {
        "id": "Z5-I7hv-H1Ec",
        "colab": {
          "base_uri": "https://localhost:8080/"
        },
        "outputId": "6d8ffa37-e46c-48fb-a4bb-1fb2368fc236"
      },
      "outputs": [
        {
          "output_type": "execute_result",
          "data": {
            "text/plain": [
              "array([ 5.80696949e-01,  1.00000000e+01,  1.00000000e+01,  1.00000000e+01,\n",
              "       -6.88710216e-01,  3.85577429e-01, -5.86109342e-02,  1.00000000e+02,\n",
              "        7.10656863e-01,  5.43237862e-03])"
            ]
          },
          "metadata": {},
          "execution_count": 19
        }
      ],
      "source": [
        "my_array"
      ]
    },
    {
      "cell_type": "markdown",
      "metadata": {
        "id": "TFHwK8F1H226"
      },
      "source": [
        "## Boolean indexing\n",
        "\n",
        "Instead of using numerical indices to extract values from the array, we can also select them by some criteria. Let's create a new random array:"
      ]
    },
    {
      "cell_type": "code",
      "execution_count": 20,
      "metadata": {
        "id": "ctxI87WvI1Fo",
        "colab": {
          "base_uri": "https://localhost:8080/"
        },
        "outputId": "13faab17-843e-4ebb-8634-a09ddef0b356"
      },
      "outputs": [
        {
          "output_type": "execute_result",
          "data": {
            "text/plain": [
              "array([-0.53009599,  0.65448091,  0.20501862, -0.92421132,  1.26846812,\n",
              "       -1.82046678, -0.07343711, -0.96062202,  2.23997691, -1.25382295])"
            ]
          },
          "metadata": {},
          "execution_count": 20
        }
      ],
      "source": [
        "my_array2 = np.random.normal(size=10)\n",
        "my_array2"
      ]
    },
    {
      "cell_type": "markdown",
      "metadata": {
        "id": "4VXv0N-fI3E_"
      },
      "source": [
        "How to proceed now if we for example only want to recover the elements that are larger than 0 ?\n",
        "\n",
        "Let's try to see what happens when we just write it down as we would in regular mathemetics:"
      ]
    },
    {
      "cell_type": "code",
      "execution_count": 21,
      "metadata": {
        "id": "u6H3C4dYJC-L",
        "colab": {
          "base_uri": "https://localhost:8080/"
        },
        "outputId": "2c0849e7-0b26-4125-b029-18f3998f9834"
      },
      "outputs": [
        {
          "output_type": "execute_result",
          "data": {
            "text/plain": [
              "array([False,  True,  True, False,  True, False, False, False,  True,\n",
              "       False])"
            ]
          },
          "metadata": {},
          "execution_count": 21
        }
      ],
      "source": [
        "my_array2 > 0"
      ]
    },
    {
      "cell_type": "markdown",
      "metadata": {
        "id": "NtLOoe6gJETg"
      },
      "source": [
        "We see that the output is again an array, but instead of being filled with numbers, it contains only ```False``` and ```True```. Those values also exist in plain Python and are called booleans. For example:"
      ]
    },
    {
      "cell_type": "code",
      "execution_count": 22,
      "metadata": {
        "id": "QpUEST9aJSu_",
        "colab": {
          "base_uri": "https://localhost:8080/"
        },
        "outputId": "da373fad-d8b6-4707-e755-dd31ca87b1fe"
      },
      "outputs": [
        {
          "output_type": "execute_result",
          "data": {
            "text/plain": [
              "False"
            ]
          },
          "metadata": {},
          "execution_count": 22
        }
      ],
      "source": [
        "a = 3\n",
        "a > 10"
      ]
    },
    {
      "cell_type": "markdown",
      "metadata": {
        "id": "DaMRX9Ohn8RS"
      },
      "source": [
        "We can now create an actual boolean array:"
      ]
    },
    {
      "cell_type": "code",
      "execution_count": 23,
      "metadata": {
        "id": "YE__BOshn_7o",
        "colab": {
          "base_uri": "https://localhost:8080/"
        },
        "outputId": "c021bc7e-db0f-4c86-9397-c1bbfb612e7f"
      },
      "outputs": [
        {
          "output_type": "execute_result",
          "data": {
            "text/plain": [
              "array([False,  True,  True, False,  True, False, False, False,  True,\n",
              "       False])"
            ]
          },
          "metadata": {},
          "execution_count": 23
        }
      ],
      "source": [
        "bool_array = my_array2 > 0\n",
        "bool_array"
      ]
    },
    {
      "cell_type": "markdown",
      "metadata": {
        "id": "IzUBMbwKJ9nn"
      },
      "source": [
        "We can now use this **boolean array** ```bool_array``` to extract values from any array of the same size. Imagine that you superpose ```bool_array``` to another array ```value_array``` and only select those values in ```value_array``` which are ```True``` in ```bool_array```. Naturally we can do this with the original array itself. Instead of passing and index ```my_array[i]``` we pass the entire ```bool_array```:"
      ]
    },
    {
      "cell_type": "code",
      "execution_count": 24,
      "metadata": {
        "id": "RmxTMOrXhFR4",
        "colab": {
          "base_uri": "https://localhost:8080/",
          "height": 516
        },
        "outputId": "9365325b-e03d-4212-e79e-6d6681a6c32e"
      },
      "outputs": [
        {
          "output_type": "execute_result",
          "data": {
            "text/html": [
              "<img src=\"https://github.com/guiwitz/ISDAwPython_day2/raw/master/images/logical_indexing.jpeg\" width=\"700\"/>"
            ],
            "text/plain": [
              "<IPython.core.display.Image object>"
            ]
          },
          "metadata": {},
          "execution_count": 24
        }
      ],
      "source": [
        "from IPython.display import Image\n",
        "Image(url='https://github.com/guiwitz/ISDAwPython_day2/raw/master/images/logical_indexing.jpeg',width=700)"
      ]
    },
    {
      "cell_type": "code",
      "execution_count": 25,
      "metadata": {
        "id": "QWd_e2UgnjLK",
        "colab": {
          "base_uri": "https://localhost:8080/"
        },
        "outputId": "44198b26-5d95-43bc-cb86-00770571c006"
      },
      "outputs": [
        {
          "output_type": "execute_result",
          "data": {
            "text/plain": [
              "array([0.65448091, 0.20501862, 1.26846812, 2.23997691])"
            ]
          },
          "metadata": {},
          "execution_count": 25
        }
      ],
      "source": [
        "my_array2[bool_array] "
      ]
    },
    {
      "cell_type": "markdown",
      "metadata": {
        "id": "nCG4JCdQoEHw"
      },
      "source": [
        "Naturally this output array is much smaller than the original one as it only contains the values larger than 0."
      ]
    },
    {
      "cell_type": "markdown",
      "metadata": {
        "id": "BqxVdXevoLox"
      },
      "source": [
        "## Exercise\n",
        "\n",
        "1. Create a numpy array with values from 0 to 10 in steps of 0.5\n",
        "2. Extract the the last three elements of the array using slicing.\n",
        "3. Apply a cosine function to the full array created in (1.) and store the output in a new array.\n",
        "4. Create a boolean array telling which values in the array from (3.) are smaller than 0.\n",
        "5. Recover only those values in a new array via indexing."
      ]
    },
    {
      "cell_type": "code",
      "execution_count": 27,
      "metadata": {
        "id": "4NkEfp57mw8R"
      },
      "outputs": [],
      "source": [
        "import numpy as np\n",
        "\n",
        "\n",
        "arr = np.arange(0, 10.5, 0.5)\n",
        "last_three = arr[-3:]\n",
        "cos_arr = np.cos(arr)\n",
        "neg_mask = cos_arr < 0\n",
        "neg_arr = cos_arr[neg_mask]\n"
      ]
    },
    {
      "cell_type": "markdown",
      "source": [
        "# Submit one question regarding anything in the course so far\n",
        "\n",
        "Via this [link](https://docs.google.com/forms/d/e/1FAIpQLSeQskEubSUMw1lCRBBnOx5orKjCiMgQ-AWgkliu0Nnf-XEfvA/viewform?usp=sf_link) (mandatory)"
      ],
      "metadata": {
        "id": "5pq9mZ83t5IA"
      }
    },
    {
      "cell_type": "markdown",
      "source": [
        "Considering notebook number six: is it possible to alter the position of values or remove values after. Like for example: is it possible to sort them according to a posed condition or to remove elements who do not meet a defined requirement?\n"
      ],
      "metadata": {
        "id": "IEMulQf0__-f"
      }
    }
  ],
  "metadata": {
    "colab": {
      "name": "06-Numpy_indexing.ipynb",
      "provenance": [],
      "include_colab_link": true
    },
    "kernelspec": {
      "display_name": "Python 3 (ipykernel)",
      "language": "python",
      "name": "python3"
    },
    "language_info": {
      "codemirror_mode": {
        "name": "ipython",
        "version": 3
      },
      "file_extension": ".py",
      "mimetype": "text/x-python",
      "name": "python",
      "nbconvert_exporter": "python",
      "pygments_lexer": "ipython3",
      "version": "3.9.10"
    }
  },
  "nbformat": 4,
  "nbformat_minor": 0
}