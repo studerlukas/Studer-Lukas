{
  "nbformat": 4,
  "nbformat_minor": 0,
  "metadata": {
    "anaconda-cloud": {},
    "kernelspec": {
      "display_name": "Python 3",
      "language": "python",
      "name": "python3"
    },
    "language_info": {
      "codemirror_mode": {
        "name": "ipython",
        "version": 3
      },
      "file_extension": ".py",
      "mimetype": "text/x-python",
      "name": "python",
      "nbconvert_exporter": "python",
      "pygments_lexer": "ipython3",
      "version": "3.6.8"
    },
    "colab": {
      "name": "01-Basic-Python-1.ipynb",
      "provenance": [],
      "toc_visible": true,
      "include_colab_link": true
    }
  },
  "cells": [
    {
      "cell_type": "markdown",
      "metadata": {
        "id": "view-in-github",
        "colab_type": "text"
      },
      "source": [
        "<a href=\"https://colab.research.google.com/github/studerlukas/Studer-Lukas/blob/main/01_Basic_Python_1.ipynb\" target=\"_parent\"><img src=\"https://colab.research.google.com/assets/colab-badge.svg\" alt=\"Open In Colab\"/></a>"
      ]
    },
    {
      "cell_type": "markdown",
      "metadata": {
        "id": "GbB2F0nUnmkv"
      },
      "source": [
        "<!--BOOK_INFORMATION-->\n",
        "<img align=\"left\" style=\"padding-right:10px;\" src=\"https://github.com/sigvehaug/Introduction-to-Python-Programming-For-Medical-Researchers/blob/master/cover-small.jpg?raw=1\">\n",
        "\n",
        "*This notebook contains an excerpt from the [Whirlwind Tour of Python](http://www.oreilly.com/programming/free/a-whirlwind-tour-of-python.csp) by Jake VanderPlas; the content is available [on GitHub](https://github.com/jakevdp/WhirlwindTourOfPython).*\n",
        "\n",
        "*The text and code are released under the [CC0](https://github.com/jakevdp/WhirlwindTourOfPython/blob/master/LICENSE) license; see also the companion project, the [Python Data Science Handbook](https://github.com/jakevdp/PythonDataScienceHandbook).*\n"
      ]
    },
    {
      "cell_type": "markdown",
      "metadata": {
        "id": "rzrzHykrUoFO"
      },
      "source": [
        "Introduction to Python Programming, 2022-02-15, University of Bern, Sigve Haug"
      ]
    },
    {
      "cell_type": "markdown",
      "source": [
        "# Basic Python (60 min)"
      ],
      "metadata": {
        "id": "4tho8lJEJtM9"
      }
    },
    {
      "cell_type": "markdown",
      "metadata": {
        "id": "cpigRldCUqre"
      },
      "source": [
        "This notebook is a systematic and very condenced overview of\n",
        "- Python Syntax\n",
        "- Python Semantics\n",
        "- Python Operators\n",
        "- Python Data Types (Built-In)\n",
        "- Python Data Structures (Built-In)\n",
        "\n",
        "The content is basic and belongs to necessary knowledge by any Python programmers. One does not learn it by heart, however, after some hours of practicing Python, it automatically becomes active knowledge.\n",
        "\n",
        "It corresponds to the first six chapters of the book referenced above. There you may get more detailed descriptions."
      ]
    },
    {
      "cell_type": "markdown",
      "metadata": {
        "id": "7o5d-zXknmk0"
      },
      "source": [
        "# Python Syntax"
      ]
    },
    {
      "cell_type": "markdown",
      "source": [
        "```\n",
        "# Comments start with a #. They can also come after the code on the same line\n",
        "print('Hello') # Write Hello\n"
      ],
      "metadata": {
        "id": "6yvQawUpn-2u"
      }
    },
    {
      "cell_type": "code",
      "source": [],
      "metadata": {
        "id": "E5MUoOPHIs9T"
      },
      "execution_count": null,
      "outputs": []
    },
    {
      "cell_type": "markdown",
      "source": [
        "```\n",
        "# Multiline commands can be written with backslash \\ or ()\n",
        "\n",
        "sum = 2 + 3 + 5 \\\n",
        "      - 5*2\n",
        "print(sum)\n",
        "sum = (2 + 3 + 5\n",
        "      - 5*2)\n",
        "print(sum)\n",
        "```\n"
      ],
      "metadata": {
        "id": "tOcDxEO4oSjf"
      }
    },
    {
      "cell_type": "code",
      "source": [],
      "metadata": {
        "id": "CUxwOe2jI0ZP"
      },
      "execution_count": null,
      "outputs": []
    },
    {
      "cell_type": "markdown",
      "source": [
        "```\n",
        "# One may write multiple statements on one line by separating with ;\n",
        "x=5; y=6; print(x-y)\n"
      ],
      "metadata": {
        "id": "gclk2kU9pP1F"
      }
    },
    {
      "cell_type": "code",
      "source": [],
      "metadata": {
        "id": "wYgHhwUQI7Qp"
      },
      "execution_count": null,
      "outputs": []
    },
    {
      "cell_type": "markdown",
      "source": [
        "```\n",
        "# Codeblocks are indicated by intendation and :\n",
        "for i in range(3):\n",
        "  sum+=i\n",
        "print(sum) # Note that Python starts counting at 0\n",
        "```"
      ],
      "metadata": {
        "id": "3Jj0aXlHpv-c"
      }
    },
    {
      "cell_type": "code",
      "source": [],
      "metadata": {
        "id": "dYm0wryNJW4h"
      },
      "execution_count": null,
      "outputs": []
    },
    {
      "cell_type": "markdown",
      "source": [
        "```\n",
        "# Parentheses () Are for Grouping or Calling\n",
        "y = 2 * (3+4) # Grouping\n",
        "print(y) # Calling\n",
        "L = [4,2,3,1]\n",
        "L.sort()  # Calling\n",
        "print(L) # Calling\n",
        "```\n"
      ],
      "metadata": {
        "id": "_xJAPCu3qd7n"
      }
    },
    {
      "cell_type": "code",
      "source": [],
      "metadata": {
        "id": "5CZg6MIXJfyF"
      },
      "execution_count": null,
      "outputs": []
    },
    {
      "cell_type": "markdown",
      "metadata": {
        "id": "lK-q9bm8nmlC"
      },
      "source": [
        "Finishing Up on the Syntax and Learning More\n",
        "\n",
        "This has been a very brief exploration of the essential features of Python syntax; its purpose is to give you a good frame of reference for when you're reading the code in later sections.\n",
        "Several times we've mentioned Python \"style guides\", which can help teams to write code in a consistent style.\n",
        "The most widely used style guide in Python is known as PEP8, and can be found at https://www.python.org/dev/peps/pep-0008/.\n",
        "As you begin to write more Python code, it would be useful to read through this!\n",
        "The style suggestions contain the wisdom of many Python gurus, and most suggestions go beyond simple pedantry: they are experience-based recommendations that can help avoid subtle mistakes and bugs in your code."
      ]
    },
    {
      "cell_type": "markdown",
      "metadata": {
        "id": "TZ3BVJjMrd6Q"
      },
      "source": [
        "#Python Semantics - Variables and Objects\n"
      ]
    },
    {
      "cell_type": "markdown",
      "metadata": {
        "id": "pPERC7iCwJwp"
      },
      "source": [
        "In Python data type declaration on variables is not needed. It has dynamic typing. Most important basic types are natural numbers (integer), real numbers (float), imaginary numbers and text (strings)"
      ]
    },
    {
      "cell_type": "markdown",
      "source": [
        "```\n",
        "# Assignment by =\n",
        "my_variable = 5; print(type(my_variable))\n",
        "my_variable = 5.0; print(type(my_variable))\n",
        "```"
      ],
      "metadata": {
        "id": "9yuRI1lnuTrX"
      }
    },
    {
      "cell_type": "markdown",
      "metadata": {
        "id": "s5fGC5Eburr_"
      },
      "source": [
        "In Python variables are pointers, i.e. they point to the memory buckets with the actual values. \n",
        "\n",
        "In Python everything is an object, it contains not only the value, but also attributes and methods. Methods are invoked by the dot."
      ]
    },
    {
      "cell_type": "markdown",
      "source": [
        "```\n",
        "x = 5.1\n",
        "print(x.is_integer(), x.real, '+',x.imag) # A method and two attributes\n",
        "```"
      ],
      "metadata": {
        "id": "xj-ENQ2IufWS"
      }
    },
    {
      "cell_type": "code",
      "source": [],
      "metadata": {
        "id": "_j5n_dOmKNTy"
      },
      "execution_count": null,
      "outputs": []
    },
    {
      "cell_type": "markdown",
      "metadata": {
        "id": "-EildO57xNAa"
      },
      "source": [
        "Since everything is an object and variables are pointers, Python becomes its beauty and slowness. Against slwoness there is the library NumPy. "
      ]
    },
    {
      "cell_type": "markdown",
      "metadata": {
        "id": "R7RPX5MwyMGD"
      },
      "source": [
        "# Python Operators"
      ]
    },
    {
      "cell_type": "markdown",
      "metadata": {
        "id": "GxcOnpIx0C_w"
      },
      "source": [
        "Arithmetic operators"
      ]
    },
    {
      "cell_type": "markdown",
      "source": [
        "```\n",
        "# Python arithmetic operators\n",
        "# addition, subtraction, multiplication\n",
        "print((4 + 8) * (6.5 - 3))\n",
        "# True division\n",
        "print(11 / 2)\n",
        "# Floor division\n",
        "print(11 // 2)\n",
        "# Modulus\n",
        "print(11 % 2)\n",
        "# Exponentation\n",
        "print(4 ** 0.5)\n",
        "```\n"
      ],
      "metadata": {
        "id": "njo0-N1zyQhc"
      }
    },
    {
      "cell_type": "code",
      "source": [],
      "metadata": {
        "id": "mn6GCEBhLwFO"
      },
      "execution_count": null,
      "outputs": []
    },
    {
      "cell_type": "markdown",
      "metadata": {
        "id": "JcqJGJEMzyLA"
      },
      "source": [
        "There are also bitwise operators. These are rarely used and you can looked them up if you think you need them."
      ]
    },
    {
      "cell_type": "markdown",
      "metadata": {
        "id": "bzIQISck0KfO"
      },
      "source": [
        "Assignment operators"
      ]
    },
    {
      "cell_type": "markdown",
      "source": [
        "```\n",
        "x = 2; x += 2; print(x)\n",
        "x *= 2; print(x)\n",
        "print('etc')\n",
        "```"
      ],
      "metadata": {
        "id": "O6tB-XpA0AoM"
      }
    },
    {
      "cell_type": "code",
      "source": [],
      "metadata": {
        "id": "yLdjb7mfM-23"
      },
      "execution_count": null,
      "outputs": []
    },
    {
      "cell_type": "markdown",
      "metadata": {
        "id": "O_NcxVXu1-iJ"
      },
      "source": [
        "**Comparison operators**"
      ]
    },
    {
      "cell_type": "markdown",
      "source": [
        "\n",
        "```\n",
        "print(4 == 6); print(4 != 6); print(4<6); print(4>6); print(4<=6); print(4>=6)\n",
        "```"
      ],
      "metadata": {
        "id": "TtBl0NO82ODI"
      }
    },
    {
      "cell_type": "code",
      "source": [],
      "metadata": {
        "id": "vp-r6NWGNIrf"
      },
      "execution_count": null,
      "outputs": []
    },
    {
      "cell_type": "markdown",
      "metadata": {
        "id": "T1xRnGRm3NhL"
      },
      "source": [
        "**Boolean operators**\n",
        "\n",
        "and, or, not, xor"
      ]
    },
    {
      "cell_type": "markdown",
      "source": [
        "```\n",
        "x = 4\n",
        "print((x < 6) and (x > 2))\n",
        "print((x > 10) or (x % 2 == 0))\n",
        "print(not (x < 6))\n",
        "# (x > 1) xor (x < 10)\n",
        "print((x > 1) != (x < 10))\n",
        "```"
      ],
      "metadata": {
        "id": "N81Fdidx3RL3"
      }
    },
    {
      "cell_type": "code",
      "source": [],
      "metadata": {
        "id": "a84XQ-wGNYl1"
      },
      "execution_count": null,
      "outputs": []
    },
    {
      "cell_type": "markdown",
      "metadata": {
        "id": "Ca8MDA3q3_50"
      },
      "source": [
        "**Identity and Membership Operators**"
      ]
    },
    {
      "cell_type": "markdown",
      "metadata": {
        "id": "JvqCnRnb4Ogq"
      },
      "source": [
        "is, is not, in, not in"
      ]
    },
    {
      "cell_type": "markdown",
      "source": [
        "```\n",
        "print(1 is 2)\n",
        "print(1 is 1)\n",
        "print(1 in [1, 2, 3])\n",
        "print(2 not in [1, 2, 3])\n",
        "```"
      ],
      "metadata": {
        "id": "PaTNlA1j4HPo"
      }
    },
    {
      "cell_type": "code",
      "metadata": {
        "id": "PgEmp4wb4dA6"
      },
      "source": [
        "\n"
      ],
      "execution_count": null,
      "outputs": []
    },
    {
      "cell_type": "markdown",
      "metadata": {
        "id": "Az_lm8r85NNs"
      },
      "source": [
        "# Python Built-In Types"
      ]
    },
    {
      "cell_type": "markdown",
      "metadata": {
        "id": "wviVbNfM5aIl"
      },
      "source": [
        "A computer needs to now the data type, i.e. the representation, in order to do calculations. So every computer langueage has built-in types. In Python the simple, in contrast to compund types (data structures), are summarized in the following table:\n",
        "\n",
        "<center>**Python Scalar Types**</center>\n",
        "\n",
        "| Type        | Example        | Description                                                  |\n",
        "|-------------|----------------|--------------------------------------------------------------|\n",
        "| ``int``     | ``x = 1``      | integers (i.e., whole numbers)                               |\n",
        "| ``float``   | ``x = 1.0``    | floating-point numbers (i.e., real numbers)                  |\n",
        "| ``complex`` | ``x = 1 + 2j`` | Complex numbers (i.e., numbers with real and imaginary part) |\n",
        "| ``bool``    | ``x = True``   | Boolean: True/False values                                   |\n",
        "| ``str``     | ``x = 'abc'``  | String: characters or text                                   |\n",
        "| ``NoneType``| ``x = None``   | Special object indicating nulls                              |\n",
        "\n"
      ]
    },
    {
      "cell_type": "markdown",
      "source": [
        "```\n",
        "# Integer\n",
        "x = -3; print(type(x))\n",
        "# Float (real numbers)\n",
        "y1 = 5.3; print(type(y1))\n",
        "y2 = 6e-4; print(y2)          # Exponential notation - 6 times ten to the minus 4\n",
        "# Complex\n",
        "c = 2 + 3j; print(c.real, c.imag)\n",
        "```"
      ],
      "metadata": {
        "id": "IXnw-EOs5S-L"
      }
    },
    {
      "cell_type": "code",
      "source": [],
      "metadata": {
        "id": "xbQjE9QYO5PM"
      },
      "execution_count": null,
      "outputs": []
    },
    {
      "cell_type": "markdown",
      "source": [
        "```\n",
        "# String\n",
        "message = 'Hi Bern. We are happy.'\n",
        "print(message)\n",
        "# There are attributes and many methods for string objects. Some examples:\n",
        "print(len(message), message.upper())\n",
        "response = 'Nice'\n",
        "print(message,' ',response)\n",
        "print(message[3:6])\n",
        "```"
      ],
      "metadata": {
        "id": "Mu_1mNvrBzVv"
      }
    },
    {
      "cell_type": "code",
      "source": [],
      "metadata": {
        "id": "zwSx2DxCPIOO"
      },
      "execution_count": null,
      "outputs": []
    },
    {
      "cell_type": "markdown",
      "metadata": {
        "id": "MNZ0hrJmDY3A"
      },
      "source": [
        "There is also a None type which has the value 'None' and a Boolean type. If you should encounter then, look them up."
      ]
    },
    {
      "cell_type": "markdown",
      "metadata": {
        "id": "HM2zv2J3Dn77"
      },
      "source": [
        "# Python Built-In Data Structures"
      ]
    },
    {
      "cell_type": "markdown",
      "metadata": {
        "id": "_CR2GA0BEVGk"
      },
      "source": [
        "Python also has several built-in compound types, which act as containers for other types.\n",
        "These compound types are:\n",
        "\n",
        "| Type Name | Example                   |Description                            |\n",
        "|-----------|---------------------------|---------------------------------------|\n",
        "| ``list``  | ``[1, 2, 3]``             | Ordered collection                    |\n",
        "| ``tuple`` | ``(1, 2, 3)``             | Immutable ordered collection          |\n",
        "| ``dict``  | ``{'a':1, 'b':2, 'c':3}`` | Unordered (key,value) mapping         |\n",
        "| ``set``   | ``{1, 2, 3}``             | Unordered collection of unique values |\n",
        "\n",
        "As you can see, round, square, and curly brackets have distinct meanings when it comes to the type of collection produced.\n",
        "We'll take a quick tour of these data structures here."
      ]
    },
    {
      "cell_type": "markdown",
      "source": [
        "```\n",
        "# Lists with some built-in methods\n",
        "L = [2, 3, 5, 7]\n",
        "print(len(L))\n",
        "L.append(11); print(L)\n",
        "print(L + [13, 17, 19])\n",
        "L = [2, 5, 1, 6, 3, 4]\n",
        "L.sort()\n",
        "print(L)\n",
        "L = [1, 'two', 3.14, [0, 3, 5]] # Lists can contain various objects\n",
        "print(L)\n",
        "```"
      ],
      "metadata": {
        "id": "c-rL0WU0A8Zt"
      }
    },
    {
      "cell_type": "code",
      "source": [],
      "metadata": {
        "id": "kXLgXEfXPxyy"
      },
      "execution_count": null,
      "outputs": []
    },
    {
      "cell_type": "markdown",
      "source": [
        "```\n",
        "# Indexing and slicing on lists\n",
        "L=[2,4,5,'madonna']\n",
        "print(L[0], L[len(L)-1], L[-1]) # Indexing\n",
        "print(L[2:4]) # Sclicing\n",
        "print(L[3:], L[:],L[0:-1:2],L[::-1]) # The third argument is the step size\n",
        "```"
      ],
      "metadata": {
        "id": "tk70jf5YFeLB"
      }
    },
    {
      "cell_type": "code",
      "source": [],
      "metadata": {
        "id": "4wnf9SrXQk9I"
      },
      "execution_count": null,
      "outputs": []
    },
    {
      "cell_type": "markdown",
      "source": [
        "```\n",
        "# Tuples are like lists, but cannot be changed once defined\n",
        "t = (2, 3, 5, 7, 11)     # t = 2,3,5,7,11 also works\n",
        "t[0] = 3 # Not allowed\n",
        "```"
      ],
      "metadata": {
        "id": "_iL52nNeGgqS"
      }
    },
    {
      "cell_type": "code",
      "source": [],
      "metadata": {
        "id": "6giIxBdPQsK1"
      },
      "execution_count": null,
      "outputs": []
    },
    {
      "cell_type": "markdown",
      "source": [
        "```\n",
        "# Dictionaries are like a normal language dictionaries, there is a key word (car) for look up and a value, e.g. what is it in German (Auto).\n",
        "numbers = {'one':1, 'two':2, 'three':3}\n",
        "print(numbers['two'])\n",
        "numbers['car']='Auto'\n",
        "print(numbers)\n",
        "numbers.get('car')\n",
        "```"
      ],
      "metadata": {
        "id": "QTasitpgH5eT"
      }
    },
    {
      "cell_type": "code",
      "source": [],
      "metadata": {
        "id": "IySNZUAYQ5st"
      },
      "execution_count": null,
      "outputs": []
    },
    {
      "cell_type": "markdown",
      "metadata": {
        "id": "EpGiUL5qJiVW"
      },
      "source": [
        "The [python documentation](https://docs.python.org/3/library/stdtypes.html) has a complete list of the methods available for dictionaries."
      ]
    },
    {
      "cell_type": "markdown",
      "source": [
        "```\n",
        "# Sets are much like tuples and you can to set mathematics with them\n",
        "primes = {2, 3, 5, 7}\n",
        "odds = {1, 3, 5, 7, 9}\n",
        "primes.union(odds)\n",
        "```"
      ],
      "metadata": {
        "id": "Zgdqk6NoJDBu"
      }
    },
    {
      "cell_type": "code",
      "source": [],
      "metadata": {
        "id": "qRuxsHUCRNGy"
      },
      "execution_count": null,
      "outputs": []
    },
    {
      "cell_type": "markdown",
      "source": [
        "```\n",
        "# Sometimes you need to start with an empty data structure. You create them like this:\n",
        "L=[]; t=(); dic={}\n",
        "print(L,t,dic)\n",
        "```"
      ],
      "metadata": {
        "id": "sl37O-vmKSQ3"
      }
    },
    {
      "cell_type": "code",
      "source": [],
      "metadata": {
        "id": "6ZvzYwncRY0S"
      },
      "execution_count": null,
      "outputs": []
    },
    {
      "cell_type": "markdown",
      "metadata": {
        "id": "TfVDNuVGKvs7"
      },
      "source": [
        "** More Specialized Data Structures **\n",
        "\n",
        "Python contains several other data structures that you might find useful; these can generally be found in the built-in ``collections`` module.\n",
        "The collections module is fully-documented in [Python's online documentation](https://docs.python.org/3/library/collections.html), and you can read more about the various objects available there.\n",
        "\n",
        "In particular, I've found the following very useful on occasion:\n",
        "\n",
        "- ``collections.namedtuple``: Like a tuple, but each value has a name\n",
        "- ``collections.defaultdict``: Like a dictionary, but unspecified keys have a user-specified default value\n",
        "- ``collections.OrderedDict``: Like a dictionary, but the order of keys is maintained\n",
        "\n",
        "Once you've seen the standard built-in collection types, the use of these extended functionalities is very intuitive, and I'd suggest [reading about their use](https://docs.python.org/3/library/collections.html)."
      ]
    },
    {
      "cell_type": "markdown",
      "source": [
        "# Python custom data structures"
      ],
      "metadata": {
        "id": "wrH70IhwTvIY"
      }
    },
    {
      "cell_type": "markdown",
      "metadata": {
        "id": "7bFEZGYaTxuE"
      },
      "source": [
        "Many times we would like to handle data of a specific structure, for example we want to keep track of students of a class or clients of a business. For this purpose one can create custom data structures, this can be achieved by the ``class`` statement. To see a short introduction into classes consult [this link](https://www.mikedane.com/programming-languages/python/classes-objects/). A handy use case for classes can be found [here](https://www.mikedane.com/programming-languages/python/building-a-quiz/)."
      ]
    },
    {
      "cell_type": "code",
      "metadata": {
        "id": "bQ_6CPCULCRO"
      },
      "source": [],
      "execution_count": null,
      "outputs": []
    },
    {
      "cell_type": "markdown",
      "source": [
        "# Python ``del`` statement"
      ],
      "metadata": {
        "id": "zh8JPwBTT61c"
      }
    },
    {
      "cell_type": "markdown",
      "metadata": {
        "id": "qt67raTnLGeA"
      },
      "source": [
        "The syntax of the ``del`` statement is:\n",
        "\n",
        "``del object_name``,\n",
        "\n",
        "where ``object_name`` can be variable(s), user-defined objects (also classes, attributes of classes), lists, items within lists, dictionaries etc.\n",
        "\n",
        "** ``del`` removes variable names from the namespace**\n",
        "As a result of using del one can free up for example some variable names from the namespace. This command doesn't necessarily affect the object associated to the variable name, it frees up just the pointer (so that it can be used for other purposes maybe). However in some memory intensive applications it might be also used to prepare the objects to be erased by the garbage collector of Python."
      ]
    },
    {
      "cell_type": "code",
      "source": [],
      "metadata": {
        "id": "WAqCSo4rUEJ7"
      },
      "execution_count": null,
      "outputs": []
    }
  ]
}