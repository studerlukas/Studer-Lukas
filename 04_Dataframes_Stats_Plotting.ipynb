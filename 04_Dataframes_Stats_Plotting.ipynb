{
  "cells": [
    {
      "cell_type": "markdown",
      "metadata": {
        "id": "view-in-github",
        "colab_type": "text"
      },
      "source": [
        "<a href=\"https://colab.research.google.com/github/studerlukas/Studer-Lukas/blob/main/04_Dataframes_Stats_Plotting.ipynb\" target=\"_parent\"><img src=\"https://colab.research.google.com/assets/colab-badge.svg\" alt=\"Open In Colab\"/></a>"
      ]
    },
    {
      "cell_type": "markdown",
      "source": [
        "# 4.1 Plotting and Descriptive Statistics on Dataframes"
      ],
      "metadata": {
        "id": "dUiZBPrcTMTz"
      }
    },
    {
      "cell_type": "markdown",
      "metadata": {
        "id": "tr1UJ8ccpOj2"
      },
      "source": [
        "# Minimal plotting\n",
        "\n",
        "First we give a very minimalistic introduction to plotting which allows you to create line or scatter plots as well as histograms. For this we introduce here the Matplotlib library, which is the oldest and still one of the most widely used plotting library.\n",
        "\n",
        "We start by importing it. Almost all the most important functions are located in a submodule called ```pyplot``` which is almost systemaically abbreviated into ```plt```:"
      ]
    },
    {
      "cell_type": "code",
      "execution_count": 20,
      "metadata": {
        "id": "19ZOClUOpp8N"
      },
      "outputs": [],
      "source": [
        "import matplotlib.pyplot as plt\n",
        "import numpy as np"
      ]
    },
    {
      "cell_type": "markdown",
      "metadata": {
        "id": "4sEIve8SqFjw"
      },
      "source": [
        "## Dataset\n",
        "\n",
        "We start by creating a simple dataset. As an exercise we do this by using Numpy functions. First we generate an x-axis:"
      ]
    },
    {
      "cell_type": "code",
      "execution_count": 2,
      "metadata": {
        "id": "K7RVuuY0qWBK"
      },
      "outputs": [],
      "source": [
        "x_val = np.arange(0, 10, 0.1)"
      ]
    },
    {
      "cell_type": "markdown",
      "metadata": {
        "id": "PYTl2_RtqZ2r"
      },
      "source": [
        "Then we create a new array that is just the cosine of ```x_val```:"
      ]
    },
    {
      "cell_type": "code",
      "execution_count": 3,
      "metadata": {
        "id": "Ip4uM569qgDe"
      },
      "outputs": [],
      "source": [
        "y_val = np.cos(x_val)"
      ]
    },
    {
      "cell_type": "markdown",
      "metadata": {
        "id": "q6ORhtc9qiQ-"
      },
      "source": [
        "## Line plot\n",
        "\n",
        "Those two arrays are all we need to create the simplest possible plot of a function ```y_val = cos(x_val)```. The first thing that we have to do is to **create a figure object and an axis object** with Matplotlib. The figure object can contain many elements (imagine for example a grid of plots), while the axis object contains a specific plot. We can get a figure and and an axis using the ```subplots()``` function:"
      ]
    },
    {
      "cell_type": "code",
      "execution_count": 4,
      "metadata": {
        "id": "wJnEK4jIrTMo",
        "outputId": "8ad1704a-1f92-4b9d-9389-15c401eff940",
        "colab": {
          "base_uri": "https://localhost:8080/",
          "height": 269
        }
      },
      "outputs": [
        {
          "output_type": "display_data",
          "data": {
            "text/plain": [
              "<Figure size 432x288 with 1 Axes>"
            ],
            "image/png": "[encoded data removed]"
          },
          "metadata": {
            "needs_background": "light"
          }
        }
      ],
      "source": [
        "fig, ax = plt.subplots()"
      ]
    },
    {
      "cell_type": "markdown",
      "metadata": {
        "id": "lOh021OnrVFZ"
      },
      "source": [
        "As you see above this produces a blank figure that we need to fill. As all the variables that we have seen until now (Numpy arrays, Pandas dataframe) the ```fig``` and ```ax``` objects have specific functions attached to them. ```ax``` in particular has all the plotting functions attached to it. In particular the simple ```plot()``` function, which takes two arguments: x values and y values: "
      ]
    },
    {
      "cell_type": "code",
      "execution_count": 5,
      "metadata": {
        "id": "JprQ5Fa_r3wM",
        "outputId": "39165736-a1eb-4dec-b535-672537583cb7",
        "colab": {
          "base_uri": "https://localhost:8080/",
          "height": 265
        }
      },
      "outputs": [
        {
          "output_type": "display_data",
          "data": {
            "text/plain": [
              "<Figure size 432x288 with 1 Axes>"
            ],
            "image/png": "[encoded data removed]"
          },
          "metadata": {
            "needs_background": "light"
          }
        }
      ],
      "source": [
        "fig, ax = plt.subplots()\n",
        "ax.plot(x_val, y_val);"
      ]
    },
    {
      "cell_type": "markdown",
      "metadata": {
        "id": "TlmIlC1rr9ch"
      },
      "source": [
        "That's it, we have our plot! We can easily add more data to it by just calling more times the ```ax.plot``` function. For example we can generate a new y signal for the sine:"
      ]
    },
    {
      "cell_type": "code",
      "execution_count": 6,
      "metadata": {
        "id": "MqCHyuz0sTUn"
      },
      "outputs": [],
      "source": [
        "y_val2 = np.sin(x_val)"
      ]
    },
    {
      "cell_type": "code",
      "execution_count": 7,
      "metadata": {
        "id": "PxRVminysVJA",
        "outputId": "9916fdc8-3356-4ce9-dba4-46579be802af",
        "colab": {
          "base_uri": "https://localhost:8080/",
          "height": 265
        }
      },
      "outputs": [
        {
          "output_type": "display_data",
          "data": {
            "text/plain": [
              "<Figure size 432x288 with 1 Axes>"
            ],
            "image/png": "[encoded data removed]"
          },
          "metadata": {
            "needs_background": "light"
          }
        }
      ],
      "source": [
        "fig, ax = plt.subplots()\n",
        "ax.plot(x_val, y_val);\n",
        "ax.plot(x_val, y_val2);"
      ]
    },
    {
      "cell_type": "markdown",
      "metadata": {
        "id": "XACPgJT9sXca"
      },
      "source": [
        "We will see later how to adjust everything on this plot from colors to labels etc. The only additional point we show here is how to show every datapoint with a marker such as a circle using an additional parameter representing the line/marker type:"
      ]
    },
    {
      "cell_type": "code",
      "execution_count": 10,
      "metadata": {
        "id": "qkChqlzJsxSL",
        "outputId": "58f0e0b3-3953-4372-8afe-3c56b7cd068f",
        "colab": {
          "base_uri": "https://localhost:8080/",
          "height": 265
        }
      },
      "outputs": [
        {
          "output_type": "display_data",
          "data": {
            "text/plain": [
              "<Figure size 432x288 with 1 Axes>"
            ],
            "image/png": "[encoded data removed]"
          },
          "metadata": {
            "needs_background": "light"
          }
        }
      ],
      "source": [
        "fig, ax = plt.subplots()\n",
        "ax.plot(x_val, y_val,'o');\n",
        "ax.plot(x_val, y_val2,'x');"
      ]
    },
    {
      "cell_type": "markdown",
      "metadata": {
        "id": "n4k2H0kUsye8"
      },
      "source": [
        "## Histogram\n",
        "\n",
        "The other type of plot that is very useful, in particular when dealing with statistics, is the histogram. The principle of figure creation is the same. Except that now we use the ```ax.hist()``` commmand which takes only one argument, the values that we want to turn into a histogram:"
      ]
    },
    {
      "cell_type": "code",
      "execution_count": 11,
      "metadata": {
        "id": "V0Ir7jAltLYu",
        "outputId": "710fb64b-9f48-4cee-911f-6bedd85056d9",
        "colab": {
          "base_uri": "https://localhost:8080/",
          "height": 265
        }
      },
      "outputs": [
        {
          "output_type": "display_data",
          "data": {
            "text/plain": [
              "<Figure size 432x288 with 1 Axes>"
            ],
            "image/png": "[encoded data removed]"
          },
          "metadata": {
            "needs_background": "light"
          }
        }
      ],
      "source": [
        "fig, ax = plt.subplots()\n",
        "ax.hist(y_val);"
      ]
    },
    {
      "cell_type": "markdown",
      "metadata": {
        "id": "AwfBqKwItOxv"
      },
      "source": [
        "Again, we will see how to specify more options for this plot. At the moment we only show that we can specify the position of the bins that we want to use for binning. This can be useful if the default bin size is not satisfactory. We can simply use the ```bins``` arguments and pass an array of positions:"
      ]
    },
    {
      "cell_type": "code",
      "execution_count": 12,
      "metadata": {
        "id": "AJo-HOXEtklZ",
        "outputId": "c184903f-4049-452e-ce42-31a6d65b7366",
        "colab": {
          "base_uri": "https://localhost:8080/",
          "height": 265
        }
      },
      "outputs": [
        {
          "output_type": "display_data",
          "data": {
            "text/plain": [
              "<Figure size 432x288 with 1 Axes>"
            ],
            "image/png": "[encoded data removed]"
          },
          "metadata": {
            "needs_background": "light"
          }
        }
      ],
      "source": [
        "fig, ax = plt.subplots()\n",
        "ax.hist(y_val, bins=np.arange(-1,1.5,0.5));"
      ]
    },
    {
      "cell_type": "markdown",
      "metadata": {
        "id": "oiQ_YoF2tny-"
      },
      "source": [
        "## Exercise 4,1\n",
        "\n",
        "1. Using Pandas, import the CSV file located at https://raw.githubusercontent.com/allisonhorst/palmerpenguins/master/inst/extdata/penguins.csv\n",
        "2. Display the first 3 lines using the ```head()``` function.\n",
        "3. Rembering that you can extract a given column from the table using ```my_dataframe['column_name']```, try to plot the ```bill_depth_mm```as as function of ```bill_length_mm``` using the ```plot``` function. Does it work ? Did you pass a Numpy array to the plotting function ?\n",
        "4. Change the line/marker type so that you obtain a scatter plot, i.e. only single dots without a line"
      ]
    },
    {
      "cell_type": "markdown",
      "source": [
        "# Plotting on Dataframes"
      ],
      "metadata": {
        "id": "Lr6csTp-8GyY"
      }
    },
    {
      "cell_type": "markdown",
      "source": [
        "Humans are very bad at reading large datasets, i.e. tables. Therefore, we have algorithms creating descriptive statistics for us. These are either summary numbers or plots, i.e. vizualisations. \n",
        "\n",
        "Pandas Dataframes have many [plotting](https://pandas.pydata.org/docs/reference/frame.html#plotting) methods. We practise some very useful ones here. The rest you can look up via the link."
      ],
      "metadata": {
        "id": "SVukJ6-e8S4v"
      }
    },
    {
      "cell_type": "code",
      "source": [
        "# Mount the google drive\n",
        "from google.colab import drive\n",
        "drive.mount('/content/drive')\n",
        "path = '/content/drive/MyDrive/DSF/P3HT_Abs_data_Teaching.txt' #Data-CCD/4ms_10 av_30 s_Absorbance_10-32-04-868.txt'"
      ],
      "metadata": {
        "id": "PsDuE81s-mGb",
        "outputId": "e6e6696e-f7a0-44b5-bdea-836a761de93f",
        "colab": {
          "base_uri": "https://localhost:8080/"
        }
      },
      "execution_count": 15,
      "outputs": [
        {
          "output_type": "stream",
          "name": "stdout",
          "text": [
            "Drive already mounted at /content/drive; to attempt to forcibly remount, call drive.mount(\"/content/drive\", force_remount=True).\n"
          ]
        }
      ]
    },
    {
      "cell_type": "code",
      "source": [
        "# Read the MCR data into a dataframe\n",
        "import pandas as pd\n",
        "df = pd.read_csv(path, delimiter='\\t',header=0)\n",
        "df.info()"
      ],
      "metadata": {
        "id": "Fa69poJB_eoD",
        "outputId": "a6f32865-ddbf-468a-964d-5ea6d36a4840",
        "colab": {
          "base_uri": "https://localhost:8080/"
        }
      },
      "execution_count": 16,
      "outputs": [
        {
          "output_type": "stream",
          "name": "stdout",
          "text": [
            "<class 'pandas.core.frame.DataFrame'>\n",
            "RangeIndex: 42470 entries, 0 to 42469\n",
            "Columns: 238 entries, 0 to 1655.895891\n",
            "dtypes: float64(238)\n",
            "memory usage: 77.1 MB\n"
          ]
        }
      ]
    },
    {
      "cell_type": "code",
      "source": [
        "df.head(4)"
      ],
      "metadata": {
        "id": "mHyT0bZLON5W",
        "outputId": "2f24d2ba-aee0-4e4b-b684-1edcda5132e7",
        "colab": {
          "base_uri": "https://localhost:8080/",
          "height": 268
        }
      },
      "execution_count": 18,
      "outputs": [
        {
          "output_type": "execute_result",
          "data": {
            "text/plain": [
              "       0  0.1  343.5134104  349.5870756  355.6494241  361.7004283  \\\n",
              "0  0.000  0.6 -1027.768828    30.511045   281.801881   265.172363   \n",
              "1  0.013  0.6  -634.010574    -7.724907   102.303772   155.099472   \n",
              "2  0.022  0.6  -720.771924   121.087152   301.837486   278.988892   \n",
              "3  0.027  0.6  -442.747518   722.925937   600.086121   538.586982   \n",
              "\n",
              "   367.7400609  373.7682942  379.7851007  385.7904529  ...  1605.9536  \\\n",
              "0   237.292980   254.240534   190.109116   183.177334  ...  23.671892   \n",
              "1   238.064645   316.866260   301.584506   257.617348  ...  23.169427   \n",
              "2   298.318623   290.589190   312.118275   294.980704  ...  21.415348   \n",
              "3   412.512638   409.426168   378.591047   382.863347  ...  24.678561   \n",
              "\n",
              "   1611.514513  1617.072493  1622.627536  1628.179638  1633.728794  \\\n",
              "0    25.906182    23.389142    21.642225    21.016180    21.301218   \n",
              "1    21.764048    24.341897    22.347100    20.549339    21.536516   \n",
              "2    25.416825    21.963903    18.600867    18.454721    22.950976   \n",
              "3    23.221489    24.341897    23.996254    22.185474    20.831003   \n",
              "\n",
              "   1639.275002  1644.818256  1650.358554  1655.895891  \n",
              "0    22.898130    22.495454    22.559864    24.724922  \n",
              "1    20.977320    23.484311    23.336777    23.891699  \n",
              "2    22.657566    24.227429    22.818681    25.003017  \n",
              "3    21.696632    20.033077    23.855489    25.003017  \n",
              "\n",
              "[4 rows x 238 columns]"
            ],
            "text/html": [
              "\n",
              "  <div id=\"df-2bbab1e1-859c-4238-8278-823db2a9c78d\">\n",
              "    <div class=\"colab-df-container\">\n",
              "      <div>\n",
              "<style scoped>\n",
              "    .dataframe tbody tr th:only-of-type {\n",
              "        vertical-align: middle;\n",
              "    }\n",
              "\n",
              "    .dataframe tbody tr th {\n",
              "        vertical-align: top;\n",
              "    }\n",
              "\n",
              "    .dataframe thead th {\n",
              "        text-align: right;\n",
              "    }\n",
              "</style>\n",
              "<table border=\"1\" class=\"dataframe\">\n",
              "  <thead>\n",
              "    <tr style=\"text-align: right;\">\n",
              "      <th></th>\n",
              "      <th>0</th>\n",
              "      <th>0.1</th>\n",
              "      <th>343.5134104</th>\n",
              "      <th>349.5870756</th>\n",
              "      <th>355.6494241</th>\n",
              "      <th>361.7004283</th>\n",
              "      <th>367.7400609</th>\n",
              "      <th>373.7682942</th>\n",
              "      <th>379.7851007</th>\n",
              "      <th>385.7904529</th>\n",
              "      <th>...</th>\n",
              "      <th>1605.9536</th>\n",
              "      <th>1611.514513</th>\n",
              "      <th>1617.072493</th>\n",
              "      <th>1622.627536</th>\n",
              "      <th>1628.179638</th>\n",
              "      <th>1633.728794</th>\n",
              "      <th>1639.275002</th>\n",
              "      <th>1644.818256</th>\n",
              "      <th>1650.358554</th>\n",
              "      <th>1655.895891</th>\n",
              "    </tr>\n",
              "  </thead>\n",
              "  <tbody>\n",
              "    <tr>\n",
              "      <th>0</th>\n",
              "      <td>0.000</td>\n",
              "      <td>0.6</td>\n",
              "      <td>-1027.768828</td>\n",
              "      <td>30.511045</td>\n",
              "      <td>281.801881</td>\n",
              "      <td>265.172363</td>\n",
              "      <td>237.292980</td>\n",
              "      <td>254.240534</td>\n",
              "      <td>190.109116</td>\n",
              "      <td>183.177334</td>\n",
              "      <td>...</td>\n",
              "      <td>23.671892</td>\n",
              "      <td>25.906182</td>\n",
              "      <td>23.389142</td>\n",
              "      <td>21.642225</td>\n",
              "      <td>21.016180</td>\n",
              "      <td>21.301218</td>\n",
              "      <td>22.898130</td>\n",
              "      <td>22.495454</td>\n",
              "      <td>22.559864</td>\n",
              "      <td>24.724922</td>\n",
              "    </tr>\n",
              "    <tr>\n",
              "      <th>1</th>\n",
              "      <td>0.013</td>\n",
              "      <td>0.6</td>\n",
              "      <td>-634.010574</td>\n",
              "      <td>-7.724907</td>\n",
              "      <td>102.303772</td>\n",
              "      <td>155.099472</td>\n",
              "      <td>238.064645</td>\n",
              "      <td>316.866260</td>\n",
              "      <td>301.584506</td>\n",
              "      <td>257.617348</td>\n",
              "      <td>...</td>\n",
              "      <td>23.169427</td>\n",
              "      <td>21.764048</td>\n",
              "      <td>24.341897</td>\n",
              "      <td>22.347100</td>\n",
              "      <td>20.549339</td>\n",
              "      <td>21.536516</td>\n",
              "      <td>20.977320</td>\n",
              "      <td>23.484311</td>\n",
              "      <td>23.336777</td>\n",
              "      <td>23.891699</td>\n",
              "    </tr>\n",
              "    <tr>\n",
              "      <th>2</th>\n",
              "      <td>0.022</td>\n",
              "      <td>0.6</td>\n",
              "      <td>-720.771924</td>\n",
              "      <td>121.087152</td>\n",
              "      <td>301.837486</td>\n",
              "      <td>278.988892</td>\n",
              "      <td>298.318623</td>\n",
              "      <td>290.589190</td>\n",
              "      <td>312.118275</td>\n",
              "      <td>294.980704</td>\n",
              "      <td>...</td>\n",
              "      <td>21.415348</td>\n",
              "      <td>25.416825</td>\n",
              "      <td>21.963903</td>\n",
              "      <td>18.600867</td>\n",
              "      <td>18.454721</td>\n",
              "      <td>22.950976</td>\n",
              "      <td>22.657566</td>\n",
              "      <td>24.227429</td>\n",
              "      <td>22.818681</td>\n",
              "      <td>25.003017</td>\n",
              "    </tr>\n",
              "    <tr>\n",
              "      <th>3</th>\n",
              "      <td>0.027</td>\n",
              "      <td>0.6</td>\n",
              "      <td>-442.747518</td>\n",
              "      <td>722.925937</td>\n",
              "      <td>600.086121</td>\n",
              "      <td>538.586982</td>\n",
              "      <td>412.512638</td>\n",
              "      <td>409.426168</td>\n",
              "      <td>378.591047</td>\n",
              "      <td>382.863347</td>\n",
              "      <td>...</td>\n",
              "      <td>24.678561</td>\n",
              "      <td>23.221489</td>\n",
              "      <td>24.341897</td>\n",
              "      <td>23.996254</td>\n",
              "      <td>22.185474</td>\n",
              "      <td>20.831003</td>\n",
              "      <td>21.696632</td>\n",
              "      <td>20.033077</td>\n",
              "      <td>23.855489</td>\n",
              "      <td>25.003017</td>\n",
              "    </tr>\n",
              "  </tbody>\n",
              "</table>\n",
              "<p>4 rows × 238 columns</p>\n",
              "</div>\n",
              "      <button class=\"colab-df-convert\" onclick=\"convertToInteractive('df-2bbab1e1-859c-4238-8278-823db2a9c78d')\"\n",
              "              title=\"Convert this dataframe to an interactive table.\"\n",
              "              style=\"display:none;\">\n",
              "        \n",
              "  <svg xmlns=\"http://www.w3.org/2000/svg\" height=\"24px\"viewBox=\"0 0 24 24\"\n",
              "       width=\"24px\">\n",
              "    <path d=\"M0 0h24v24H0V0z\" fill=\"none\"/>\n",
              "    <path d=\"M18.56 5.44l.94 2.06.94-2.06 2.06-.94-2.06-.94-.94-2.06-.94 2.06-2.06.94zm-11 1L8.5 8.5l.94-2.06 2.06-.94-2.06-.94L8.5 2.5l-.94 2.06-2.06.94zm10 10l.94 2.06.94-2.06 2.06-.94-2.06-.94-.94-2.06-.94 2.06-2.06.94z\"/><path d=\"M17.41 7.96l-1.37-1.37c-.4-.4-.92-.59-1.43-.59-.52 0-1.04.2-1.43.59L10.3 9.45l-7.72 7.72c-.78.78-.78 2.05 0 2.83L4 21.41c.39.39.9.59 1.41.59.51 0 1.02-.2 1.41-.59l7.78-7.78 2.81-2.81c.8-.78.8-2.07 0-2.86zM5.41 20L4 18.59l7.72-7.72 1.47 1.35L5.41 20z\"/>\n",
              "  </svg>\n",
              "      </button>\n",
              "      \n",
              "  <style>\n",
              "    .colab-df-container {\n",
              "      display:flex;\n",
              "      flex-wrap:wrap;\n",
              "      gap: 12px;\n",
              "    }\n",
              "\n",
              "    .colab-df-convert {\n",
              "      background-color: #E8F0FE;\n",
              "      border: none;\n",
              "      border-radius: 50%;\n",
              "      cursor: pointer;\n",
              "      display: none;\n",
              "      fill: #1967D2;\n",
              "      height: 32px;\n",
              "      padding: 0 0 0 0;\n",
              "      width: 32px;\n",
              "    }\n",
              "\n",
              "    .colab-df-convert:hover {\n",
              "      background-color: #E2EBFA;\n",
              "      box-shadow: 0px 1px 2px rgba(60, 64, 67, 0.3), 0px 1px 3px 1px rgba(60, 64, 67, 0.15);\n",
              "      fill: #174EA6;\n",
              "    }\n",
              "\n",
              "    [theme=dark] .colab-df-convert {\n",
              "      background-color: #3B4455;\n",
              "      fill: #D2E3FC;\n",
              "    }\n",
              "\n",
              "    [theme=dark] .colab-df-convert:hover {\n",
              "      background-color: #434B5C;\n",
              "      box-shadow: 0px 1px 3px 1px rgba(0, 0, 0, 0.15);\n",
              "      filter: drop-shadow(0px 1px 2px rgba(0, 0, 0, 0.3));\n",
              "      fill: #FFFFFF;\n",
              "    }\n",
              "  </style>\n",
              "\n",
              "      <script>\n",
              "        const buttonEl =\n",
              "          document.querySelector('#df-2bbab1e1-859c-4238-8278-823db2a9c78d button.colab-df-convert');\n",
              "        buttonEl.style.display =\n",
              "          google.colab.kernel.accessAllowed ? 'block' : 'none';\n",
              "\n",
              "        async function convertToInteractive(key) {\n",
              "          const element = document.querySelector('#df-2bbab1e1-859c-4238-8278-823db2a9c78d');\n",
              "          const dataTable =\n",
              "            await google.colab.kernel.invokeFunction('convertToInteractive',\n",
              "                                                     [key], {});\n",
              "          if (!dataTable) return;\n",
              "\n",
              "          const docLinkHtml = 'Like what you see? Visit the ' +\n",
              "            '<a target=\"_blank\" href=https://colab.research.google.com/notebooks/data_table.ipynb>data table notebook</a>'\n",
              "            + ' to learn more about interactive tables.';\n",
              "          element.innerHTML = '';\n",
              "          dataTable['output_type'] = 'display_data';\n",
              "          await google.colab.output.renderOutput(dataTable, element);\n",
              "          const docLink = document.createElement('div');\n",
              "          docLink.innerHTML = docLinkHtml;\n",
              "          element.appendChild(docLink);\n",
              "        }\n",
              "      </script>\n",
              "    </div>\n",
              "  </div>\n",
              "  "
            ]
          },
          "metadata": {},
          "execution_count": 18
        }
      ]
    },
    {
      "cell_type": "markdown",
      "source": [
        "Histograms, or frequency plots, are much used as they show the probability density function pdf (continous data) of the data sample in a column. When dat a is discrete, it is called the probability mass function pmf. The pdf is the model of the data and the basis of all statistics.   "
      ],
      "metadata": {
        "id": "181OhEel4d1s"
      }
    },
    {
      "cell_type": "code",
      "source": [
        "# Histograms of all the columns\n",
        "df.plot.his()"
      ],
      "metadata": {
        "id": "l5Ri12XX3vP0",
        "outputId": "767e0bc0-67e8-4ec3-b36d-a65cb4636b91",
        "colab": {
          "base_uri": "https://localhost:8080/",
          "height": 183
        }
      },
      "execution_count": 21,
      "outputs": [
        {
          "output_type": "error",
          "ename": "AttributeError",
          "evalue": "ignored",
          "traceback": [
            "\u001b[0;31m---------------------------------------------------------------------------\u001b[0m",
            "\u001b[0;31mAttributeError\u001b[0m                            Traceback (most recent call last)",
            "\u001b[0;32m<ipython-input-21-ceae2f508378>\u001b[0m in \u001b[0;36m<module>\u001b[0;34m\u001b[0m\n\u001b[1;32m      1\u001b[0m \u001b[0;31m# Histograms of all the columns\u001b[0m\u001b[0;34m\u001b[0m\u001b[0;34m\u001b[0m\u001b[0;34m\u001b[0m\u001b[0m\n\u001b[0;32m----> 2\u001b[0;31m \u001b[0mdf\u001b[0m\u001b[0;34m.\u001b[0m\u001b[0mplot\u001b[0m\u001b[0;34m.\u001b[0m\u001b[0mhis\u001b[0m\u001b[0;34m(\u001b[0m\u001b[0;34m)\u001b[0m\u001b[0;34m\u001b[0m\u001b[0;34m\u001b[0m\u001b[0m\n\u001b[0m",
            "\u001b[0;31mAttributeError\u001b[0m: 'PlotAccessor' object has no attribute 'his'"
          ]
        }
      ]
    },
    {
      "cell_type": "code",
      "source": [
        "# Histogram of selected columns\n",
        "df.hist(df.columns[2], bins=100)"
      ],
      "metadata": {
        "id": "lFVCbH5V5qR_",
        "outputId": "01808364-3950-4784-f208-5670d5f19567",
        "colab": {
          "base_uri": "https://localhost:8080/",
          "height": 298
        }
      },
      "execution_count": 24,
      "outputs": [
        {
          "output_type": "execute_result",
          "data": {
            "text/plain": [
              "array([[<AxesSubplot:title={'center':'343.5134104'}>]], dtype=object)"
            ]
          },
          "metadata": {},
          "execution_count": 24
        },
        {
          "output_type": "display_data",
          "data": {
            "text/plain": [
              "<Figure size 432x288 with 1 Axes>"
            ],
            "image/png": "[encoded data removed]"
          },
          "metadata": {
            "needs_background": "light"
          }
        }
      ]
    },
    {
      "cell_type": "markdown",
      "source": [
        "Box plots are useful for showing differences between groups of data. For example, we may be interested in the difference in the distributions between wavelengths."
      ],
      "metadata": {
        "id": "msz9dVIX96ox"
      }
    },
    {
      "cell_type": "code",
      "source": [
        "df.boxplot([df.columns[2], df.columns[3], df.columns[4]])"
      ],
      "metadata": {
        "id": "d05YiwBW94Rf"
      },
      "execution_count": null,
      "outputs": []
    },
    {
      "cell_type": "code",
      "source": [
        "# Alternatively we can look at the histograms directly\n",
        "import matplotlib.pyplot as plt\n",
        "plt.figure()\n",
        "ax = df.hist(df.columns[2], bins=20)\n",
        "df.hist(df.columns[3], bins=20, ax=ax)\n",
        "df.hist(df.columns[4], bins=20, ax=ax)\n",
        "plt.xlabel('What is this axis ?')\n",
        "plt.ylabel('Frequency')\n",
        "plt.show()"
      ],
      "metadata": {
        "id": "L-nZSegdAhDL"
      },
      "execution_count": null,
      "outputs": []
    },
    {
      "cell_type": "markdown",
      "source": [
        "Very often one is also interested correlations between columns (features) of the data. The visualisation of correlations is done with scatter plots. Here is the simplest one."
      ],
      "metadata": {
        "id": "hoZJlyFFLjmR"
      }
    },
    {
      "cell_type": "code",
      "source": [
        "#df.plot.scatter(df[df.columns[2]],df[df.columns[3]])\n",
        "df.plot.scatter(2,3)"
      ],
      "metadata": {
        "id": "XcjbQFiJMJoV"
      },
      "execution_count": null,
      "outputs": []
    },
    {
      "cell_type": "markdown",
      "source": [
        "You may take a short look at the other plotting methods on dataframes [here](https://pandas.pydata.org/docs/reference/frame.html#plotting)."
      ],
      "metadata": {
        "id": "E3CceVysMBBM"
      }
    },
    {
      "cell_type": "markdown",
      "source": [
        "# Descriptive Statistics on Dataframes"
      ],
      "metadata": {
        "id": "O3oss-t--5PF"
      }
    },
    {
      "cell_type": "markdown",
      "source": [
        "Pandas Dataframes have several\n",
        "[descriptive statistics](https://pandas.pydata.org/docs/reference/frame.html#computations-descriptive-stats) methods. Most of the are calculations based the so-called moments of the pdf (mean, variance, standard deviation, skew, kurtosis, minimum value, maximum value, quantiles, p-value ...)\n",
        "\n",
        "We practise some very useful ones. The rest you can look up in the API documentation via the link. "
      ],
      "metadata": {
        "id": "P-wCk-1y_Aqv"
      }
    },
    {
      "cell_type": "code",
      "source": [
        "round(df.describe(),2) # why do we use the round method ?"
      ],
      "metadata": {
        "id": "qH3bjU_nEoR_"
      },
      "execution_count": null,
      "outputs": []
    },
    {
      "cell_type": "code",
      "source": [
        "# Try some other descriptive methods here.\n"
      ],
      "metadata": {
        "id": "TeYE5tIJEso1"
      },
      "execution_count": null,
      "outputs": []
    },
    {
      "cell_type": "markdown",
      "source": [
        "# Exercise 4.2\n",
        "\n",
        "We return to the CCD dataset. Show the boxplots of ten wavelengths, roughly equidistant between the minumum and maximum wavelength in the dataset. "
      ],
      "metadata": {
        "id": "den2VClzRCT5"
      }
    },
    {
      "cell_type": "code",
      "source": [],
      "metadata": {
        "id": "dFSP0Is1RKda"
      },
      "execution_count": null,
      "outputs": []
    },
    {
      "cell_type": "markdown",
      "source": [
        "Now fill this [form](https://docs.google.com/forms/d/e/1FAIpQLSd5QH237yJ2PizRG1Of8mV9zDzcJLH6nmEI2KqVX1cWINi9Fg/viewform?usp=sf_link), needed for getting participation assignment points"
      ],
      "metadata": {
        "id": "yM36wOVqzzRD"
      }
    }
  ],
  "metadata": {
    "colab": {
      "name": "04-Dataframes-Stats-Plotting.ipynb",
      "provenance": [],
      "include_colab_link": true
    },
    "kernelspec": {
      "display_name": "Python 3 (ipykernel)",
      "language": "python",
      "name": "python3"
    },
    "language_info": {
      "codemirror_mode": {
        "name": "ipython",
        "version": 3
      },
      "file_extension": ".py",
      "mimetype": "text/x-python",
      "name": "python",
      "nbconvert_exporter": "python",
      "pygments_lexer": "ipython3",
      "version": "3.9.10"
    }
  },
  "nbformat": 4,
  "nbformat_minor": 0
}