{
  "cells": [
    {
      "cell_type": "markdown",
      "metadata": {
        "id": "view-in-github",
        "colab_type": "text"
      },
      "source": [
        "<a href=\"https://colab.research.google.com/github/studerlukas/Studer-Lukas/blob/main/12_Fitting.ipynb\" target=\"_parent\"><img src=\"https://colab.research.google.com/assets/colab-badge.svg\" alt=\"Open In Colab\"/></a>"
      ]
    },
    {
      "cell_type": "markdown",
      "source": [
        "# 12 Fitting"
      ],
      "metadata": {
        "id": "bGCDbjCaQKQh"
      }
    },
    {
      "cell_type": "markdown",
      "metadata": {
        "id": "tr1UJ8ccpOj2"
      },
      "source": [
        "In science we develop and create models which sometimes also become theories. Models normally contain adjustable parameteres. Such parameters can be determined from data. This task is called parameter fitting. \n",
        "\n",
        "In chemical models there are parameters which have been obtained, i.e. fitted from data. Several Python modules, e.g. the stats, the optimize or the symfit modules, have fitting methods. In this notebook we look at some of them. \n",
        "\n",
        "When fitting data, we do optimisation, i.e. we find some minimum of a function depending on our parameters. This normally include derivatives with respect to the parameters and some optimisation function. Much used optimisation functions are \n",
        "- Least Squares\n",
        "- Maximum Likelihood\n",
        "- ...\n",
        "\n"
      ]
    },
    {
      "cell_type": "code",
      "execution_count": null,
      "metadata": {
        "id": "19ZOClUOpp8N"
      },
      "outputs": [],
      "source": [
        "import matplotlib.pyplot as plt\n",
        "import numpy as np"
      ]
    },
    {
      "cell_type": "markdown",
      "source": [
        "## Fitting data with stats PDFs"
      ],
      "metadata": {
        "id": "Lr6csTp-8GyY"
      }
    },
    {
      "cell_type": "markdown",
      "source": [
        "The scipy.stats module has many probability density functions which can be used to describe and model data. Let us fit some of the MCR data to gaussian distributions, i.e. normal models. "
      ],
      "metadata": {
        "id": "SVukJ6-e8S4v"
      }
    },
    {
      "cell_type": "code",
      "source": [
        "# Mount the google drive\n",
        "from google.colab import drive\n",
        "drive.mount('/content/drive')\n",
        "path = '/content/drive/MyDrive/Courses/DSF-DCBP/Data-MCR/P3HT_Abs_data_Teaching.txt' #Data-CCD/4ms_10 av_30 s_Absorbance_10-32-04-868.txt'"
      ],
      "metadata": {
        "id": "PsDuE81s-mGb",
        "colab": {
          "base_uri": "https://localhost:8080/"
        },
        "outputId": "c91de9c4-51c7-472a-dc15-6a5dc362425e"
      },
      "execution_count": null,
      "outputs": [
        {
          "output_type": "stream",
          "name": "stdout",
          "text": [
            "Mounted at /content/drive\n"
          ]
        }
      ]
    },
    {
      "cell_type": "code",
      "source": [
        "# Read the MCR data into a dataframe\n",
        "import pandas as pd\n",
        "df = pd.read_csv(path, delimiter='\\t',header=0)\n",
        "df.info()"
      ],
      "metadata": {
        "id": "Fa69poJB_eoD",
        "colab": {
          "base_uri": "https://localhost:8080/"
        },
        "outputId": "cf243c67-686c-4ce0-99b0-468a831c4678"
      },
      "execution_count": null,
      "outputs": [
        {
          "output_type": "stream",
          "name": "stdout",
          "text": [
            "<class 'pandas.core.frame.DataFrame'>\n",
            "RangeIndex: 42470 entries, 0 to 42469\n",
            "Columns: 238 entries, 0 to 1655.895891\n",
            "dtypes: float64(238)\n",
            "memory usage: 77.1 MB\n"
          ]
        }
      ]
    },
    {
      "cell_type": "code",
      "source": [
        "df.head()"
      ],
      "metadata": {
        "id": "mHyT0bZLON5W",
        "colab": {
          "base_uri": "https://localhost:8080/",
          "height": 299
        },
        "outputId": "7e3164a7-8f20-4946-df2b-213a2622e1ea"
      },
      "execution_count": null,
      "outputs": [
        {
          "output_type": "execute_result",
          "data": {
            "text/plain": [
              "       0  0.1  343.5134104  349.5870756  355.6494241  361.7004283  \\\n",
              "0  0.000  0.6 -1027.768828    30.511045   281.801881   265.172363   \n",
              "1  0.013  0.6  -634.010574    -7.724907   102.303772   155.099472   \n",
              "2  0.022  0.6  -720.771924   121.087152   301.837486   278.988892   \n",
              "3  0.027  0.6  -442.747518   722.925937   600.086121   538.586982   \n",
              "4  0.033  0.6          NaN   566.574923   344.110670   352.286610   \n",
              "\n",
              "   367.7400609  373.7682942  379.7851007  385.7904529  ...  1605.9536  \\\n",
              "0   237.292980   254.240534   190.109116   183.177334  ...  23.671892   \n",
              "1   238.064645   316.866260   301.584506   257.617348  ...  23.169427   \n",
              "2   298.318623   290.589190   312.118275   294.980704  ...  21.415348   \n",
              "3   412.512638   409.426168   378.591047   382.863347  ...  24.678561   \n",
              "4   400.951216   357.300570   394.539207   444.438536  ...  23.169427   \n",
              "\n",
              "   1611.514513  1617.072493  1622.627536  1628.179638  1633.728794  \\\n",
              "0    25.906182    23.389142    21.642225    21.016180    21.301218   \n",
              "1    21.764048    24.341897    22.347100    20.549339    21.536516   \n",
              "2    25.416825    21.963903    18.600867    18.454721    22.950976   \n",
              "3    23.221489    24.341897    23.996254    22.185474    20.831003   \n",
              "4    23.464870    22.201119    21.877056    20.316106    21.066047   \n",
              "\n",
              "   1639.275002  1644.818256  1650.358554  1655.895891  \n",
              "0    22.898130    22.495454    22.559864    24.724922  \n",
              "1    20.977320    23.484311    23.336777    23.891699  \n",
              "2    22.657566    24.227429    22.818681    25.003017  \n",
              "3    21.696632    20.033077    23.855489    25.003017  \n",
              "4    24.102949    22.001865    22.559864    27.234184  \n",
              "\n",
              "[5 rows x 238 columns]"
            ],
            "text/html": [
              "\n",
              "  <div id=\"df-42e76aff-b424-4f41-9125-1acc0ab760b2\">\n",
              "    <div class=\"colab-df-container\">\n",
              "      <div>\n",
              "<style scoped>\n",
              "    .dataframe tbody tr th:only-of-type {\n",
              "        vertical-align: middle;\n",
              "    }\n",
              "\n",
              "    .dataframe tbody tr th {\n",
              "        vertical-align: top;\n",
              "    }\n",
              "\n",
              "    .dataframe thead th {\n",
              "        text-align: right;\n",
              "    }\n",
              "</style>\n",
              "<table border=\"1\" class=\"dataframe\">\n",
              "  <thead>\n",
              "    <tr style=\"text-align: right;\">\n",
              "      <th></th>\n",
              "      <th>0</th>\n",
              "      <th>0.1</th>\n",
              "      <th>343.5134104</th>\n",
              "      <th>349.5870756</th>\n",
              "      <th>355.6494241</th>\n",
              "      <th>361.7004283</th>\n",
              "      <th>367.7400609</th>\n",
              "      <th>373.7682942</th>\n",
              "      <th>379.7851007</th>\n",
              "      <th>385.7904529</th>\n",
              "      <th>...</th>\n",
              "      <th>1605.9536</th>\n",
              "      <th>1611.514513</th>\n",
              "      <th>1617.072493</th>\n",
              "      <th>1622.627536</th>\n",
              "      <th>1628.179638</th>\n",
              "      <th>1633.728794</th>\n",
              "      <th>1639.275002</th>\n",
              "      <th>1644.818256</th>\n",
              "      <th>1650.358554</th>\n",
              "      <th>1655.895891</th>\n",
              "    </tr>\n",
              "  </thead>\n",
              "  <tbody>\n",
              "    <tr>\n",
              "      <th>0</th>\n",
              "      <td>0.000</td>\n",
              "      <td>0.6</td>\n",
              "      <td>-1027.768828</td>\n",
              "      <td>30.511045</td>\n",
              "      <td>281.801881</td>\n",
              "      <td>265.172363</td>\n",
              "      <td>237.292980</td>\n",
              "      <td>254.240534</td>\n",
              "      <td>190.109116</td>\n",
              "      <td>183.177334</td>\n",
              "      <td>...</td>\n",
              "      <td>23.671892</td>\n",
              "      <td>25.906182</td>\n",
              "      <td>23.389142</td>\n",
              "      <td>21.642225</td>\n",
              "      <td>21.016180</td>\n",
              "      <td>21.301218</td>\n",
              "      <td>22.898130</td>\n",
              "      <td>22.495454</td>\n",
              "      <td>22.559864</td>\n",
              "      <td>24.724922</td>\n",
              "    </tr>\n",
              "    <tr>\n",
              "      <th>1</th>\n",
              "      <td>0.013</td>\n",
              "      <td>0.6</td>\n",
              "      <td>-634.010574</td>\n",
              "      <td>-7.724907</td>\n",
              "      <td>102.303772</td>\n",
              "      <td>155.099472</td>\n",
              "      <td>238.064645</td>\n",
              "      <td>316.866260</td>\n",
              "      <td>301.584506</td>\n",
              "      <td>257.617348</td>\n",
              "      <td>...</td>\n",
              "      <td>23.169427</td>\n",
              "      <td>21.764048</td>\n",
              "      <td>24.341897</td>\n",
              "      <td>22.347100</td>\n",
              "      <td>20.549339</td>\n",
              "      <td>21.536516</td>\n",
              "      <td>20.977320</td>\n",
              "      <td>23.484311</td>\n",
              "      <td>23.336777</td>\n",
              "      <td>23.891699</td>\n",
              "    </tr>\n",
              "    <tr>\n",
              "      <th>2</th>\n",
              "      <td>0.022</td>\n",
              "      <td>0.6</td>\n",
              "      <td>-720.771924</td>\n",
              "      <td>121.087152</td>\n",
              "      <td>301.837486</td>\n",
              "      <td>278.988892</td>\n",
              "      <td>298.318623</td>\n",
              "      <td>290.589190</td>\n",
              "      <td>312.118275</td>\n",
              "      <td>294.980704</td>\n",
              "      <td>...</td>\n",
              "      <td>21.415348</td>\n",
              "      <td>25.416825</td>\n",
              "      <td>21.963903</td>\n",
              "      <td>18.600867</td>\n",
              "      <td>18.454721</td>\n",
              "      <td>22.950976</td>\n",
              "      <td>22.657566</td>\n",
              "      <td>24.227429</td>\n",
              "      <td>22.818681</td>\n",
              "      <td>25.003017</td>\n",
              "    </tr>\n",
              "    <tr>\n",
              "      <th>3</th>\n",
              "      <td>0.027</td>\n",
              "      <td>0.6</td>\n",
              "      <td>-442.747518</td>\n",
              "      <td>722.925937</td>\n",
              "      <td>600.086121</td>\n",
              "      <td>538.586982</td>\n",
              "      <td>412.512638</td>\n",
              "      <td>409.426168</td>\n",
              "      <td>378.591047</td>\n",
              "      <td>382.863347</td>\n",
              "      <td>...</td>\n",
              "      <td>24.678561</td>\n",
              "      <td>23.221489</td>\n",
              "      <td>24.341897</td>\n",
              "      <td>23.996254</td>\n",
              "      <td>22.185474</td>\n",
              "      <td>20.831003</td>\n",
              "      <td>21.696632</td>\n",
              "      <td>20.033077</td>\n",
              "      <td>23.855489</td>\n",
              "      <td>25.003017</td>\n",
              "    </tr>\n",
              "    <tr>\n",
              "      <th>4</th>\n",
              "      <td>0.033</td>\n",
              "      <td>0.6</td>\n",
              "      <td>NaN</td>\n",
              "      <td>566.574923</td>\n",
              "      <td>344.110670</td>\n",
              "      <td>352.286610</td>\n",
              "      <td>400.951216</td>\n",
              "      <td>357.300570</td>\n",
              "      <td>394.539207</td>\n",
              "      <td>444.438536</td>\n",
              "      <td>...</td>\n",
              "      <td>23.169427</td>\n",
              "      <td>23.464870</td>\n",
              "      <td>22.201119</td>\n",
              "      <td>21.877056</td>\n",
              "      <td>20.316106</td>\n",
              "      <td>21.066047</td>\n",
              "      <td>24.102949</td>\n",
              "      <td>22.001865</td>\n",
              "      <td>22.559864</td>\n",
              "      <td>27.234184</td>\n",
              "    </tr>\n",
              "  </tbody>\n",
              "</table>\n",
              "<p>5 rows × 238 columns</p>\n",
              "</div>\n",
              "      <button class=\"colab-df-convert\" onclick=\"convertToInteractive('df-42e76aff-b424-4f41-9125-1acc0ab760b2')\"\n",
              "              title=\"Convert this dataframe to an interactive table.\"\n",
              "              style=\"display:none;\">\n",
              "        \n",
              "  <svg xmlns=\"http://www.w3.org/2000/svg\" height=\"24px\"viewBox=\"0 0 24 24\"\n",
              "       width=\"24px\">\n",
              "    <path d=\"M0 0h24v24H0V0z\" fill=\"none\"/>\n",
              "    <path d=\"M18.56 5.44l.94 2.06.94-2.06 2.06-.94-2.06-.94-.94-2.06-.94 2.06-2.06.94zm-11 1L8.5 8.5l.94-2.06 2.06-.94-2.06-.94L8.5 2.5l-.94 2.06-2.06.94zm10 10l.94 2.06.94-2.06 2.06-.94-2.06-.94-.94-2.06-.94 2.06-2.06.94z\"/><path d=\"M17.41 7.96l-1.37-1.37c-.4-.4-.92-.59-1.43-.59-.52 0-1.04.2-1.43.59L10.3 9.45l-7.72 7.72c-.78.78-.78 2.05 0 2.83L4 21.41c.39.39.9.59 1.41.59.51 0 1.02-.2 1.41-.59l7.78-7.78 2.81-2.81c.8-.78.8-2.07 0-2.86zM5.41 20L4 18.59l7.72-7.72 1.47 1.35L5.41 20z\"/>\n",
              "  </svg>\n",
              "      </button>\n",
              "      \n",
              "  <style>\n",
              "    .colab-df-container {\n",
              "      display:flex;\n",
              "      flex-wrap:wrap;\n",
              "      gap: 12px;\n",
              "    }\n",
              "\n",
              "    .colab-df-convert {\n",
              "      background-color: #E8F0FE;\n",
              "      border: none;\n",
              "      border-radius: 50%;\n",
              "      cursor: pointer;\n",
              "      display: none;\n",
              "      fill: #1967D2;\n",
              "      height: 32px;\n",
              "      padding: 0 0 0 0;\n",
              "      width: 32px;\n",
              "    }\n",
              "\n",
              "    .colab-df-convert:hover {\n",
              "      background-color: #E2EBFA;\n",
              "      box-shadow: 0px 1px 2px rgba(60, 64, 67, 0.3), 0px 1px 3px 1px rgba(60, 64, 67, 0.15);\n",
              "      fill: #174EA6;\n",
              "    }\n",
              "\n",
              "    [theme=dark] .colab-df-convert {\n",
              "      background-color: #3B4455;\n",
              "      fill: #D2E3FC;\n",
              "    }\n",
              "\n",
              "    [theme=dark] .colab-df-convert:hover {\n",
              "      background-color: #434B5C;\n",
              "      box-shadow: 0px 1px 3px 1px rgba(0, 0, 0, 0.15);\n",
              "      filter: drop-shadow(0px 1px 2px rgba(0, 0, 0, 0.3));\n",
              "      fill: #FFFFFF;\n",
              "    }\n",
              "  </style>\n",
              "\n",
              "      <script>\n",
              "        const buttonEl =\n",
              "          document.querySelector('#df-42e76aff-b424-4f41-9125-1acc0ab760b2 button.colab-df-convert');\n",
              "        buttonEl.style.display =\n",
              "          google.colab.kernel.accessAllowed ? 'block' : 'none';\n",
              "\n",
              "        async function convertToInteractive(key) {\n",
              "          const element = document.querySelector('#df-42e76aff-b424-4f41-9125-1acc0ab760b2');\n",
              "          const dataTable =\n",
              "            await google.colab.kernel.invokeFunction('convertToInteractive',\n",
              "                                                     [key], {});\n",
              "          if (!dataTable) return;\n",
              "\n",
              "          const docLinkHtml = 'Like what you see? Visit the ' +\n",
              "            '<a target=\"_blank\" href=https://colab.research.google.com/notebooks/data_table.ipynb>data table notebook</a>'\n",
              "            + ' to learn more about interactive tables.';\n",
              "          element.innerHTML = '';\n",
              "          dataTable['output_type'] = 'display_data';\n",
              "          await google.colab.output.renderOutput(dataTable, element);\n",
              "          const docLink = document.createElement('div');\n",
              "          docLink.innerHTML = docLinkHtml;\n",
              "          element.appendChild(docLink);\n",
              "        }\n",
              "      </script>\n",
              "    </div>\n",
              "  </div>\n",
              "  "
            ]
          },
          "metadata": {},
          "execution_count": 7
        }
      ]
    },
    {
      "cell_type": "code",
      "source": [
        "# Histogram of selected columns\n",
        "df.hist(df.columns[5], bins=20)"
      ],
      "metadata": {
        "id": "lFVCbH5V5qR_",
        "colab": {
          "base_uri": "https://localhost:8080/",
          "height": 317
        },
        "outputId": "3c68e99a-b5bb-408a-ae39-f399991aee86"
      },
      "execution_count": null,
      "outputs": [
        {
          "output_type": "execute_result",
          "data": {
            "text/plain": [
              "array([[<matplotlib.axes._subplots.AxesSubplot object at 0x7efe3c53ea90>]],\n",
              "      dtype=object)"
            ]
          },
          "metadata": {},
          "execution_count": 6
        },
        {
          "output_type": "display_data",
          "data": {
            "text/plain": [
              "<Figure size 432x288 with 1 Axes>"
            ],
            "image/png": "[encoded data removed]"
          },
          "metadata": {
            "needs_background": "light"
          }
        }
      ]
    },
    {
      "cell_type": "code",
      "source": [
        "df.iloc[:,5]"
      ],
      "metadata": {
        "colab": {
          "base_uri": "https://localhost:8080/"
        },
        "id": "GWny3HeLWg4p",
        "outputId": "bcf84e1e-6829-450d-d2d2-f04876a827f1"
      },
      "execution_count": null,
      "outputs": [
        {
          "output_type": "execute_result",
          "data": {
            "text/plain": [
              "0        265.172363\n",
              "1        155.099472\n",
              "2        278.988892\n",
              "3        538.586982\n",
              "4        352.286610\n",
              "            ...    \n",
              "42465    475.724966\n",
              "42466    409.784190\n",
              "42467    386.253562\n",
              "42468    325.357707\n",
              "42469    403.275361\n",
              "Name: 361.7004283, Length: 42470, dtype: float64"
            ]
          },
          "metadata": {},
          "execution_count": 13
        }
      ]
    },
    {
      "cell_type": "code",
      "source": [
        "from scipy.stats import norm\n",
        "mu, sigma = norm.fit(df.iloc[:,5].dropna())\n",
        "#x = norm.rvs(mu,sigma,1000)"
      ],
      "metadata": {
        "id": "d05YiwBW94Rf"
      },
      "execution_count": null,
      "outputs": []
    },
    {
      "cell_type": "markdown",
      "source": [
        "The predefined pdfs in scipy.stats you can see https://docs.scipy.org/doc/scipy/reference/stats.html. Sometimes you want to define your own model, or it is not already implemented, or you don't find the implementation. Then you can write your own model and use the scipy.optimize modul."
      ],
      "metadata": {
        "id": "E3CceVysMBBM"
      }
    },
    {
      "cell_type": "markdown",
      "source": [
        "## Fitting your own model with scipy.optimize"
      ],
      "metadata": {
        "id": "O3oss-t--5PF"
      }
    },
    {
      "cell_type": "code",
      "source": [
        "from scipy.optimize import curve_fit\n",
        "\n",
        "def func(x, a, b, c):\n",
        "     return a * np.exp(-b * x) + c\n",
        "\n",
        "xdata = np.linspace(0, 4, 50) # \n",
        "y = func(xdata, 2.5, 1.3, 0.5)\n",
        "plt.plot(xdata, y, 'g-', label='Generated data')\n",
        "np.random.seed(1729)\n",
        "y_noise = 0.2 * np.random.normal(size=xdata.size)\n",
        "ydata = y + y_noise\n",
        "plt.plot(xdata, ydata, 'b-', label='Generated data with noise')\n",
        "plt.legend()\n",
        "plt.show()"
      ],
      "metadata": {
        "colab": {
          "base_uri": "https://localhost:8080/",
          "height": 265
        },
        "id": "MP76NqIMnawm",
        "outputId": "ea12b06b-f2d9-4135-ed91-2ff0f59f4540"
      },
      "execution_count": null,
      "outputs": [
        {
          "output_type": "display_data",
          "data": {
            "text/plain": [
              "<Figure size 432x288 with 1 Axes>"
            ],
            "image/png": "[encoded data removed]"
          },
          "metadata": {
            "needs_background": "light"
          }
        }
      ]
    },
    {
      "cell_type": "code",
      "source": [
        "popt, pcov = curve_fit(func, xdata, ydata)\n",
        "print(popt)\n",
        "perr = np.sqrt(np.diag(pcov)) # Standard deviation = square root of the variance being on the diagonal of the covariance matrix\n",
        "plt.plot(xdata, func(xdata, *popt), 'r-',label= \\\n",
        "         'fit: a=%5.3f +- %5.3f, \\n b=%5.3f +- %5.3f, \\n c=%5.3f +-%5.3f' % \\\n",
        "         (popt[0],perr[0],popt[1],perr[1],popt[2],perr[2]))\n",
        "plt.xlabel('x')\n",
        "plt.ylabel('y')\n",
        "plt.plot(xdata, ydata, 'b+', label='Data')\n",
        "plt.legend()\n",
        "plt.show()\n",
        "perr = np.sqrt(np.diag(pcov)) # Standard deviation = square root of the variance being on the diagonal of the covariance matrix\n",
        "perr"
      ],
      "metadata": {
        "colab": {
          "base_uri": "https://localhost:8080/",
          "height": 315
        },
        "id": "OUcHYnBynfr0",
        "outputId": "8e573cb0-920f-45e6-9db3-7ade3c0519f2"
      },
      "execution_count": null,
      "outputs": [
        {
          "output_type": "stream",
          "name": "stdout",
          "text": [
            "[2.55423706 1.35190947 0.47450618]\n"
          ]
        },
        {
          "output_type": "display_data",
          "data": {
            "text/plain": [
              "<Figure size 432x288 with 1 Axes>"
            ],
            "image/png": "[encoded data removed]"
          },
          "metadata": {
            "needs_background": "light"
          }
        },
        {
          "output_type": "execute_result",
          "data": {
            "text/plain": [
              "array([0.12605755, 0.14212384, 0.05315968])"
            ]
          },
          "metadata": {},
          "execution_count": 23
        }
      ]
    },
    {
      "cell_type": "markdown",
      "source": [
        "## Fitting with symfit"
      ],
      "metadata": {
        "id": "LHQHnb_Hnwie"
      }
    },
    {
      "cell_type": "markdown",
      "source": [
        "The more comprehensive module for fitting with Python is symfit (https://symfit.readthedocs.io/). By reading it's documentation, you can also learn very compactly the most important things about fitting. Let us do a short tutorial here.\n"
      ],
      "metadata": {
        "id": "HOjHlDK_n6u2"
      }
    },
    {
      "cell_type": "code",
      "source": [
        "!pip install symfit"
      ],
      "metadata": {
        "colab": {
          "base_uri": "https://localhost:8080/"
        },
        "id": "vvqmwQrCuaMj",
        "outputId": "174c93a9-f0f9-43ea-fe4c-7ef7588950bf"
      },
      "execution_count": null,
      "outputs": [
        {
          "output_type": "stream",
          "name": "stdout",
          "text": [
            "Collecting symfit\n",
            "  Downloading symfit-0.5.5-py2.py3-none-any.whl (68 kB)\n",
            "\u001b[?25l\r\u001b[K     |████▉                           | 10 kB 15.5 MB/s eta 0:00:01\r\u001b[K     |█████████▋                      | 20 kB 17.4 MB/s eta 0:00:01\r\u001b[K     |██████████████▍                 | 30 kB 10.3 MB/s eta 0:00:01\r\u001b[K     |███████████████████▏            | 40 kB 8.3 MB/s eta 0:00:01\r\u001b[K     |████████████████████████        | 51 kB 4.3 MB/s eta 0:00:01\r\u001b[K     |████████████████████████████▊   | 61 kB 5.0 MB/s eta 0:00:01\r\u001b[K     |████████████████████████████████| 68 kB 2.4 MB/s \n",
            "\u001b[?25hRequirement already satisfied: sympy>=1.2 in /usr/local/lib/python3.7/dist-packages (from symfit) (1.7.1)\n",
            "Collecting toposort\n",
            "  Downloading toposort-1.7-py2.py3-none-any.whl (9.0 kB)\n",
            "Requirement already satisfied: numpy>=1.12 in /usr/local/lib/python3.7/dist-packages (from symfit) (1.21.6)\n",
            "Requirement already satisfied: setuptools in /usr/local/lib/python3.7/dist-packages (from symfit) (57.4.0)\n",
            "Requirement already satisfied: scipy>=1.0 in /usr/local/lib/python3.7/dist-packages (from symfit) (1.4.1)\n",
            "Requirement already satisfied: mpmath>=0.19 in /usr/local/lib/python3.7/dist-packages (from sympy>=1.2->symfit) (1.2.1)\n",
            "Installing collected packages: toposort, symfit\n",
            "Successfully installed symfit-0.5.5 toposort-1.7\n"
          ]
        }
      ]
    },
    {
      "cell_type": "code",
      "source": [
        "from symfit import Parameter, Variable, parameters\n",
        "\n",
        "a = Parameter('a')\n",
        "b = Parameter('b')\n",
        "x = Variable('x')\n",
        "model = a * x + b"
      ],
      "metadata": {
        "id": "abhg3f7vzJYV"
      },
      "execution_count": null,
      "outputs": []
    },
    {
      "cell_type": "code",
      "source": [
        "from symfit import Fit\n",
        "import numpy as np\n",
        "\n",
        "xdata = np.linspace(0, 100, 100) # From 0 to 100 in 100 steps\n",
        "a_vec = np.random.normal(15.0, scale=2.0, size=(100,))\n",
        "b_vec = np.random.normal(100.0, scale=2.0, size=(100,))\n",
        "ydata = a_vec * xdata + b_vec  # Point scattered around the line 5 * x + 105\n",
        "\n",
        "fit = Fit(model, xdata, ydata)\n",
        "fit_result = fit.execute()"
      ],
      "metadata": {
        "id": "6xUzwnrZzmn6"
      },
      "execution_count": null,
      "outputs": []
    },
    {
      "cell_type": "code",
      "source": [
        "k = Parameter('k', value=4, min=3, max=6)\n",
        "\n",
        "a, b = parameters('a, b')\n",
        "a.value = 60\n",
        "a.fixed = True"
      ],
      "metadata": {
        "id": "lQRU4FVozpoW"
      },
      "execution_count": null,
      "outputs": []
    },
    {
      "cell_type": "code",
      "source": [
        "fit_result.value(a)"
      ],
      "metadata": {
        "id": "mmauLgEDz5IQ",
        "outputId": "c46c302c-1aa7-4f45-9372-fd114e267ace",
        "colab": {
          "base_uri": "https://localhost:8080/"
        }
      },
      "execution_count": null,
      "outputs": [
        {
          "output_type": "execute_result",
          "data": {
            "text/plain": [
              "14.898362241618518"
            ]
          },
          "metadata": {},
          "execution_count": 40
        }
      ]
    },
    {
      "cell_type": "code",
      "source": [
        "y = model(x=xdata, a=fit_result.value(a), b=fit_result.value(b))\n",
        "# y = model(x=xdata, **fit_result.params)\n",
        "plt.plot(xdata, y)\n",
        "plt.show()"
      ],
      "metadata": {
        "id": "URIbyLCA0jIz",
        "outputId": "0dabafc7-ecc4-4a8d-8702-6002d8029400",
        "colab": {
          "base_uri": "https://localhost:8080/",
          "height": 265
        }
      },
      "execution_count": null,
      "outputs": [
        {
          "output_type": "display_data",
          "data": {
            "text/plain": [
              "<Figure size 432x288 with 1 Axes>"
            ],
            "image/png": "[encoded data removed]"
          },
          "metadata": {
            "needs_background": "light"
          }
        }
      ]
    },
    {
      "cell_type": "markdown",
      "source": [
        "# Exercise\n",
        "\n",
        "If you have time and interest, study and play with the notebook provided by the [FemtoMat](https://banerji.dcbp.unibe.ch/) group.\n",
        "- https://github.com/sigvehaug/DSF-DCBP/blob/60f69ef96a4c394f6df5030259f6ea99ddbdc4b2/Fitting_Example.ipynb"
      ],
      "metadata": {
        "id": "den2VClzRCT5"
      }
    },
    {
      "cell_type": "code",
      "source": [],
      "metadata": {
        "id": "dFSP0Is1RKda"
      },
      "execution_count": null,
      "outputs": []
    }
  ],
  "metadata": {
    "colab": {
      "name": "12-Fitting.ipynb",
      "provenance": [],
      "include_colab_link": true
    },
    "kernelspec": {
      "display_name": "Python 3 (ipykernel)",
      "language": "python",
      "name": "python3"
    },
    "language_info": {
      "codemirror_mode": {
        "name": "ipython",
        "version": 3
      },
      "file_extension": ".py",
      "mimetype": "text/x-python",
      "name": "python",
      "nbconvert_exporter": "python",
      "pygments_lexer": "ipython3",
      "version": "3.9.10"
    }
  },
  "nbformat": 4,
  "nbformat_minor": 0
}