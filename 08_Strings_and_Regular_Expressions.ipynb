{
  "cells": [
    {
      "cell_type": "markdown",
      "metadata": {
        "id": "view-in-github",
        "colab_type": "text"
      },
      "source": [
        "<a href=\"https://colab.research.google.com/github/studerlukas/Studer-Lukas/blob/main/08_Strings_and_Regular_Expressions.ipynb\" target=\"_parent\"><img src=\"https://colab.research.google.com/assets/colab-badge.svg\" alt=\"Open In Colab\"/></a>"
      ]
    },
    {
      "cell_type": "markdown",
      "metadata": {
        "id": "rWp1ym-qpRar"
      },
      "source": [
        "<!--BOOK_INFORMATION-->\n",
        "<img align=\"left\" style=\"padding-right:10px;\" src=\"https://github.com/sigvehaug/DSF-DCBP/blob/main/fig/cover-small.jpg?raw=1\">\n",
        "*This notebook contains an excerpt from the [Whirlwind Tour of Python](http://www.oreilly.com/programming/free/a-whirlwind-tour-of-python.csp) by Jake VanderPlas; the content is available [on GitHub](https://github.com/jakevdp/WhirlwindTourOfPython).*\n",
        "\n",
        "*The text and code are released under the [CC0](https://github.com/jakevdp/WhirlwindTourOfPython/blob/master/LICENSE) license; see also the companion project, the [Python Data Science Handbook](https://github.com/jakevdp/PythonDataScienceHandbook).*\n"
      ]
    },
    {
      "cell_type": "markdown",
      "metadata": {
        "id": "Fd2UVKX6pRaw"
      },
      "source": [
        "<!--NAVIGATION-->\n",
        "< [Modules and Packages](13-Modules-and-Packages.ipynb) | [Contents](Index.ipynb) | [A Preview of Data Science Tools](15-Preview-of-Data-Science-Tools.ipynb) >"
      ]
    },
    {
      "cell_type": "markdown",
      "metadata": {
        "id": "uGse1P6OpRaw"
      },
      "source": [
        "# String Manipulation and Regular Expressions"
      ]
    },
    {
      "cell_type": "markdown",
      "metadata": {
        "id": "BCRWVxz7pRax"
      },
      "source": [
        "One place where the Python language really shines is in the manipulation of strings.\n",
        "This section will cover some of Python's built-in string methods and formatting operations, before moving on to a quick guide to the extremely useful subject of *regular expressions*.\n",
        "Such string manipulation patterns come up often in the context of data science work, and is one big perk of Python in this context.\n",
        "\n",
        "Strings in Python can be defined using either single or double quotations (they are functionally equivalent):"
      ]
    },
    {
      "cell_type": "code",
      "execution_count": 1,
      "metadata": {
        "id": "IFfeBEUJpRax",
        "outputId": "b6078195-530b-4ff0-af62-47c0a7702f99",
        "colab": {
          "base_uri": "https://localhost:8080/"
        }
      },
      "outputs": [
        {
          "output_type": "execute_result",
          "data": {
            "text/plain": [
              "True"
            ]
          },
          "metadata": {},
          "execution_count": 1
        }
      ],
      "source": [
        "x = 'a string'\n",
        "y = \"a string\"\n",
        "x == y"
      ]
    },
    {
      "cell_type": "markdown",
      "metadata": {
        "id": "84VxvYYCpRa2"
      },
      "source": [
        "In addition, it is possible to define multi-line strings using a triple-quote syntax:"
      ]
    },
    {
      "cell_type": "code",
      "execution_count": 7,
      "metadata": {
        "collapsed": true,
        "id": "YERtoUmmpRa2",
        "outputId": "8cd3836d-89b5-46cb-a65d-969f48c86d98",
        "colab": {
          "base_uri": "https://localhost:8080/"
        }
      },
      "outputs": [
        {
          "output_type": "execute_result",
          "data": {
            "text/plain": [
              "False"
            ]
          },
          "metadata": {},
          "execution_count": 7
        }
      ],
      "source": [
        "multiline = \"\"\"\n",
        "one\n",
        "two\n",
        "three\n",
        " \"\"\"\n"
      ]
    },
    {
      "cell_type": "markdown",
      "metadata": {
        "id": "ykTv5uevpRa3"
      },
      "source": [
        "With this, let's take a quick tour of some of Python's string manipulation tools."
      ]
    },
    {
      "cell_type": "markdown",
      "metadata": {
        "id": "C5_e6itnpRa3"
      },
      "source": [
        "## Simple String Manipulation in Python\n",
        "\n",
        "For basic manipulation of strings, Python's built-in string methods can be extremely convenient.\n",
        "If you have a background working in C or another low-level language, you will likely find the simplicity of Python's methods extremely refreshing.\n",
        "We introduced Python's string type and a few of these methods earlier; here we'll dive a bit deeper"
      ]
    },
    {
      "cell_type": "markdown",
      "metadata": {
        "id": "a4pH454_pRa4"
      },
      "source": [
        "### Formatting strings: Adjusting case\n",
        "\n",
        "Python makes it quite easy to adjust the case of a string.\n",
        "Here we'll look at the ``upper()``, ``lower()``, ``capitalize()``, ``title()``, and ``swapcase()`` methods, using the following messy string as an example:"
      ]
    },
    {
      "cell_type": "code",
      "execution_count": 8,
      "metadata": {
        "collapsed": true,
        "id": "rAGRHFsipRa5"
      },
      "outputs": [],
      "source": [
        "fox = \"tHe qUICk bROWn fOx.\""
      ]
    },
    {
      "cell_type": "markdown",
      "metadata": {
        "id": "ef2U3G5SpRa5"
      },
      "source": [
        "To convert the entire string into upper-case or lower-case, you can use the ``upper()`` or ``lower()`` methods respectively:"
      ]
    },
    {
      "cell_type": "code",
      "execution_count": 9,
      "metadata": {
        "id": "urnfEt8bpRa5",
        "outputId": "c255e5dd-068b-4863-e0d2-dda559052591",
        "colab": {
          "base_uri": "https://localhost:8080/",
          "height": 35
        }
      },
      "outputs": [
        {
          "output_type": "execute_result",
          "data": {
            "text/plain": [
              "'THE QUICK BROWN FOX.'"
            ],
            "application/vnd.google.colaboratory.intrinsic+json": {
              "type": "string"
            }
          },
          "metadata": {},
          "execution_count": 9
        }
      ],
      "source": [
        "fox.upper()"
      ]
    },
    {
      "cell_type": "code",
      "execution_count": 10,
      "metadata": {
        "id": "dHM5zDkapRa6",
        "outputId": "e1e8491a-c774-40e7-aa4a-871ab387c286",
        "colab": {
          "base_uri": "https://localhost:8080/",
          "height": 35
        }
      },
      "outputs": [
        {
          "output_type": "execute_result",
          "data": {
            "text/plain": [
              "'the quick brown fox.'"
            ],
            "application/vnd.google.colaboratory.intrinsic+json": {
              "type": "string"
            }
          },
          "metadata": {},
          "execution_count": 10
        }
      ],
      "source": [
        " fox.lower()"
      ]
    },
    {
      "cell_type": "markdown",
      "metadata": {
        "id": "IvtqdTwppRa6"
      },
      "source": [
        "A common formatting need is to capitalize just the first letter of each word, or perhaps the first letter of each sentence.\n",
        "This can be done with the ``title()`` and ``capitalize()`` methods:"
      ]
    },
    {
      "cell_type": "code",
      "execution_count": 11,
      "metadata": {
        "id": "HnC16YgxpRa6",
        "outputId": "c16bace7-7467-4042-e7f1-d116a2f7b9fd",
        "colab": {
          "base_uri": "https://localhost:8080/",
          "height": 35
        }
      },
      "outputs": [
        {
          "output_type": "execute_result",
          "data": {
            "text/plain": [
              "'The Quick Brown Fox.'"
            ],
            "application/vnd.google.colaboratory.intrinsic+json": {
              "type": "string"
            }
          },
          "metadata": {},
          "execution_count": 11
        }
      ],
      "source": [
        "fox.title()"
      ]
    },
    {
      "cell_type": "code",
      "execution_count": 12,
      "metadata": {
        "id": "FKFqxQRypRa7",
        "outputId": "f834f5cf-a12f-4dfa-e78a-07e888956cde",
        "colab": {
          "base_uri": "https://localhost:8080/",
          "height": 35
        }
      },
      "outputs": [
        {
          "output_type": "execute_result",
          "data": {
            "text/plain": [
              "'The quick brown fox.'"
            ],
            "application/vnd.google.colaboratory.intrinsic+json": {
              "type": "string"
            }
          },
          "metadata": {},
          "execution_count": 12
        }
      ],
      "source": [
        "fox.capitalize()"
      ]
    },
    {
      "cell_type": "markdown",
      "metadata": {
        "id": "H6N3OJ3GpRa7"
      },
      "source": [
        "The cases can be swapped using the ``swapcase()`` method:"
      ]
    },
    {
      "cell_type": "code",
      "execution_count": 13,
      "metadata": {
        "id": "om_ReVAPpRa7",
        "outputId": "9c5aac92-bba8-4588-c335-fa05a70b8b7e",
        "colab": {
          "base_uri": "https://localhost:8080/",
          "height": 35
        }
      },
      "outputs": [
        {
          "output_type": "execute_result",
          "data": {
            "text/plain": [
              "'ThE QuicK BrowN FoX.'"
            ],
            "application/vnd.google.colaboratory.intrinsic+json": {
              "type": "string"
            }
          },
          "metadata": {},
          "execution_count": 13
        }
      ],
      "source": [
        "fox.swapcase()"
      ]
    },
    {
      "cell_type": "markdown",
      "metadata": {
        "id": "rInrFCnjpRa7"
      },
      "source": [
        "### Formatting strings: Adding and removing spaces\n",
        "\n",
        "Another common need is to remove spaces (or other characters) from the beginning or end of the string.\n",
        "The basic method of removing characters is the ``strip()`` method, which strips whitespace from the beginning and end of the line:"
      ]
    },
    {
      "cell_type": "code",
      "execution_count": 14,
      "metadata": {
        "colab": {
          "base_uri": "https://localhost:8080/",
          "height": 35
        },
        "id": "w92W83pZpRa8",
        "outputId": "71190a3e-9c5a-4968-c659-fd6fd8f68c09"
      },
      "outputs": [
        {
          "output_type": "execute_result",
          "data": {
            "text/plain": [
              "'this is the content'"
            ],
            "application/vnd.google.colaboratory.intrinsic+json": {
              "type": "string"
            }
          },
          "metadata": {},
          "execution_count": 14
        }
      ],
      "source": [
        "line = '         this is the content         '\n",
        "line.strip()"
      ]
    },
    {
      "cell_type": "markdown",
      "metadata": {
        "id": "V8jX0ZdlpRa8"
      },
      "source": [
        "To remove just space to the right or left, use ``rstrip()`` or ``lstrip()`` respectively:"
      ]
    },
    {
      "cell_type": "code",
      "execution_count": 15,
      "metadata": {
        "colab": {
          "base_uri": "https://localhost:8080/"
        },
        "id": "8n4ga1U8pRa8",
        "outputId": "c2a5630c-4f57-4f46-f7d0-f65d8e7ed6e7"
      },
      "outputs": [
        {
          "output_type": "execute_result",
          "data": {
            "text/plain": [
              "7"
            ]
          },
          "metadata": {},
          "execution_count": 15
        }
      ],
      "source": [
        "7"
      ]
    },
    {
      "cell_type": "code",
      "execution_count": 17,
      "metadata": {
        "colab": {
          "base_uri": "https://localhost:8080/",
          "height": 35
        },
        "id": "bQiFoYrQpRa9",
        "outputId": "c317a908-873c-4520-d7e3-d6df836b9a08"
      },
      "outputs": [
        {
          "output_type": "execute_result",
          "data": {
            "text/plain": [
              "'this is the content         '"
            ],
            "application/vnd.google.colaboratory.intrinsic+json": {
              "type": "string"
            }
          },
          "metadata": {},
          "execution_count": 17
        }
      ],
      "source": [
        "line.lstrip()"
      ]
    },
    {
      "cell_type": "markdown",
      "metadata": {
        "id": "0cCOoElgpRa9"
      },
      "source": [
        "To remove characters other than spaces, you can pass the desired character to the ``strip()`` method:"
      ]
    },
    {
      "cell_type": "code",
      "execution_count": 25,
      "metadata": {
        "colab": {
          "base_uri": "https://localhost:8080/",
          "height": 35
        },
        "id": "zxOrLmrjpRa9",
        "outputId": "e5c3f374-2ccc-4e8d-c3d8-9bc56738e861"
      },
      "outputs": [
        {
          "output_type": "execute_result",
          "data": {
            "text/plain": [
              "'435'"
            ],
            "application/vnd.google.colaboratory.intrinsic+json": {
              "type": "string"
            }
          },
          "metadata": {},
          "execution_count": 25
        }
      ],
      "source": [
        "num = \"000000000000435\"\n",
        "num.strip('0')"
      ]
    },
    {
      "cell_type": "markdown",
      "metadata": {
        "id": "I0LBITTapRa9"
      },
      "source": [
        "The opposite of this operation, adding spaces or other characters, can be accomplished using the ``center()``, ``ljust()``, and ``rjust()`` methods.\n",
        "\n",
        "For example, we can use the ``center()`` method to center a given string within a given number of spaces:"
      ]
    },
    {
      "cell_type": "code",
      "execution_count": 28,
      "metadata": {
        "colab": {
          "base_uri": "https://localhost:8080/",
          "height": 35
        },
        "id": "_G9TYoV5pRa-",
        "outputId": "21949403-0055-43fc-ed97-3985a5f6050a"
      },
      "outputs": [
        {
          "output_type": "execute_result",
          "data": {
            "text/plain": [
              "'                                        this is the content                                         '"
            ],
            "application/vnd.google.colaboratory.intrinsic+json": {
              "type": "string"
            }
          },
          "metadata": {},
          "execution_count": 28
        }
      ],
      "source": [
        "line = \"this is the content\"\n",
        "line.center(100)"
      ]
    },
    {
      "cell_type": "markdown",
      "metadata": {
        "id": "0HIDVa4ZpRa-"
      },
      "source": [
        "Similarly, ``ljust()`` and ``rjust()`` will left-justify or right-justify the string within spaces of a given length:"
      ]
    },
    {
      "cell_type": "code",
      "execution_count": 30,
      "metadata": {
        "colab": {
          "base_uri": "https://localhost:8080/",
          "height": 35
        },
        "id": "ty583PZ_pRa-",
        "outputId": "7cc0345c-1d1b-4659-98ea-33e5d0df02fd"
      },
      "outputs": [
        {
          "output_type": "execute_result",
          "data": {
            "text/plain": [
              "'this is the content                                                                       '"
            ],
            "application/vnd.google.colaboratory.intrinsic+json": {
              "type": "string"
            }
          },
          "metadata": {},
          "execution_count": 30
        }
      ],
      "source": [
        "line.ljust(90)"
      ]
    },
    {
      "cell_type": "code",
      "execution_count": 32,
      "metadata": {
        "colab": {
          "base_uri": "https://localhost:8080/",
          "height": 35
        },
        "id": "8wuGLBF2pRa-",
        "outputId": "6c8df210-a213-47e9-818f-06866e27478d"
      },
      "outputs": [
        {
          "output_type": "execute_result",
          "data": {
            "text/plain": [
              "'                     this is the content'"
            ],
            "application/vnd.google.colaboratory.intrinsic+json": {
              "type": "string"
            }
          },
          "metadata": {},
          "execution_count": 32
        }
      ],
      "source": [
        "line.rjust(40)"
      ]
    },
    {
      "cell_type": "markdown",
      "metadata": {
        "id": "xhEbpJycpRa-"
      },
      "source": [
        "All these methods additionally accept any character which will be used to fill the space.\n",
        "For example:"
      ]
    },
    {
      "cell_type": "code",
      "execution_count": 35,
      "metadata": {
        "colab": {
          "base_uri": "https://localhost:8080/",
          "height": 35
        },
        "id": "EG896LaDpRa_",
        "outputId": "4c06feed-636a-41d6-c6e4-e565e5b61b3b"
      },
      "outputs": [
        {
          "output_type": "execute_result",
          "data": {
            "text/plain": [
              "'0000000435'"
            ],
            "application/vnd.google.colaboratory.intrinsic+json": {
              "type": "string"
            }
          },
          "metadata": {},
          "execution_count": 35
        }
      ],
      "source": [
        "'435'.rjust(10, '0')"
      ]
    },
    {
      "cell_type": "markdown",
      "metadata": {
        "id": "eJbsWrhOpRa_"
      },
      "source": [
        "Because zero-filling is such a common need, Python also provides ``zfill()``, which is a special method to right-pad a string with zeros:"
      ]
    },
    {
      "cell_type": "code",
      "execution_count": null,
      "metadata": {
        "colab": {
          "base_uri": "https://localhost:8080/",
          "height": 35
        },
        "id": "ddlNKJdJpRa_",
        "outputId": "5ff3f898-3f6d-42b5-ceb3-96e21a2ecc21"
      },
      "outputs": [
        {
          "output_type": "execute_result",
          "data": {
            "text/plain": [
              "'0000000435'"
            ],
            "application/vnd.google.colaboratory.intrinsic+json": {
              "type": "string"
            }
          },
          "metadata": {},
          "execution_count": 9
        }
      ],
      "source": [
        "'435'.zfill(10)"
      ]
    },
    {
      "cell_type": "markdown",
      "metadata": {
        "id": "YIoOILbbpRa_"
      },
      "source": [
        "### Finding and replacing substrings\n",
        "\n",
        "If you want to find occurrences of a certain character in a string, the ``find()``/``rfind()``, ``index()``/``rindex()``, and ``replace()`` methods are the best built-in methods.\n",
        "\n",
        "``find()`` and ``index()`` are very similar, in that they search for the first occurrence of a character or substring within a string, and return the index of the substring:"
      ]
    },
    {
      "cell_type": "code",
      "execution_count": 37,
      "metadata": {
        "id": "HHpFbiEopRbA",
        "outputId": "74b74ac5-7c3a-49ed-8847-82714fcc9569",
        "colab": {
          "base_uri": "https://localhost:8080/"
        }
      },
      "outputs": [
        {
          "output_type": "execute_result",
          "data": {
            "text/plain": [
              "16"
            ]
          },
          "metadata": {},
          "execution_count": 37
        }
      ],
      "source": [
        "line = 'the quick brown fox jumped over a lazy dog'\n",
        "line.find('fox')"
      ]
    },
    {
      "cell_type": "code",
      "execution_count": 38,
      "metadata": {
        "id": "az41YnhNpRbA",
        "outputId": "1f8d84db-3ea0-44c5-ed81-f2d89088d948",
        "colab": {
          "base_uri": "https://localhost:8080/"
        }
      },
      "outputs": [
        {
          "output_type": "execute_result",
          "data": {
            "text/plain": [
              "16"
            ]
          },
          "metadata": {},
          "execution_count": 38
        }
      ],
      "source": [
        "line.index('fox')"
      ]
    },
    {
      "cell_type": "markdown",
      "metadata": {
        "id": "w1zVomSspRbA"
      },
      "source": [
        "The only difference between ``find()`` and ``index()`` is their behavior when the search string is not found; ``find()`` returns ``-1``, while ``index()`` raises a ``ValueError``:"
      ]
    },
    {
      "cell_type": "code",
      "execution_count": 39,
      "metadata": {
        "id": "E3FIWy1rpRbA",
        "outputId": "beb340c9-7d63-480d-b9a4-557748c56387",
        "colab": {
          "base_uri": "https://localhost:8080/"
        }
      },
      "outputs": [
        {
          "output_type": "execute_result",
          "data": {
            "text/plain": [
              "-1"
            ]
          },
          "metadata": {},
          "execution_count": 39
        }
      ],
      "source": [
        "line.find('bear')"
      ]
    },
    {
      "cell_type": "code",
      "execution_count": 42,
      "metadata": {
        "id": "GZQxqaO9pRbA",
        "outputId": "f087bb73-09e4-4ed6-8d11-3d9af9d96663",
        "colab": {
          "base_uri": "https://localhost:8080/",
          "height": 165
        }
      },
      "outputs": [
        {
          "output_type": "error",
          "ename": "ValueError",
          "evalue": "ignored",
          "traceback": [
            "\u001b[0;31m---------------------------------------------------------------------------\u001b[0m",
            "\u001b[0;31mValueError\u001b[0m                                Traceback (most recent call last)",
            "\u001b[0;32m<ipython-input-42-adf599eb4c79>\u001b[0m in \u001b[0;36m<module>\u001b[0;34m\u001b[0m\n\u001b[0;32m----> 1\u001b[0;31m \u001b[0mline\u001b[0m\u001b[0;34m.\u001b[0m\u001b[0mindex\u001b[0m\u001b[0;34m(\u001b[0m\u001b[0;34m'bear'\u001b[0m\u001b[0;34m)\u001b[0m\u001b[0;34m\u001b[0m\u001b[0;34m\u001b[0m\u001b[0m\n\u001b[0m",
            "\u001b[0;31mValueError\u001b[0m: substring not found"
          ]
        }
      ],
      "source": [
        "line.index('bear')"
      ]
    },
    {
      "cell_type": "markdown",
      "metadata": {
        "id": "MuS-VmfXpRbB"
      },
      "source": [
        "The related ``rfind()`` and ``rindex()`` work similarly, except they search for the first occurrence from the end rather than the beginning of the string:"
      ]
    },
    {
      "cell_type": "code",
      "execution_count": 41,
      "metadata": {
        "id": "ML35Mw72pRbB",
        "outputId": "71c4fcd7-1bc8-4386-ff74-bb0cbbf3f450",
        "colab": {
          "base_uri": "https://localhost:8080/"
        }
      },
      "outputs": [
        {
          "output_type": "execute_result",
          "data": {
            "text/plain": [
              "35"
            ]
          },
          "metadata": {},
          "execution_count": 41
        }
      ],
      "source": [
        "line.rfind('a')"
      ]
    },
    {
      "cell_type": "markdown",
      "metadata": {
        "id": "hw8qg9zLpRbB"
      },
      "source": [
        "For the special case of checking for a substring at the beginning or end of a string, Python provides the ``startswith()`` and ``endswith()`` methods:"
      ]
    },
    {
      "cell_type": "code",
      "execution_count": 43,
      "metadata": {
        "id": "YgIwpG5npRbB",
        "outputId": "8b879894-337b-4ef6-aa75-a007b0dc7819",
        "colab": {
          "base_uri": "https://localhost:8080/"
        }
      },
      "outputs": [
        {
          "output_type": "execute_result",
          "data": {
            "text/plain": [
              "True"
            ]
          },
          "metadata": {},
          "execution_count": 43
        }
      ],
      "source": [
        "line.endswith('dog')"
      ]
    },
    {
      "cell_type": "code",
      "execution_count": 45,
      "metadata": {
        "id": "zZeeT3XXpRbB",
        "outputId": "cf63329c-14d1-40ef-e54a-12f43d565df1",
        "colab": {
          "base_uri": "https://localhost:8080/"
        }
      },
      "outputs": [
        {
          "output_type": "execute_result",
          "data": {
            "text/plain": [
              "True"
            ]
          },
          "metadata": {},
          "execution_count": 45
        }
      ],
      "source": [
        "line.startswith('the')"
      ]
    },
    {
      "cell_type": "markdown",
      "metadata": {
        "id": "rDF7pUttpRbB"
      },
      "source": [
        "To go one step further and replace a given substring with a new string, you can use the ``replace()`` method.\n",
        "Here, let's replace ``'brown'`` with ``'red'``:"
      ]
    },
    {
      "cell_type": "code",
      "execution_count": 47,
      "metadata": {
        "id": "d05NsVKzpRbB",
        "outputId": "b462bab7-856b-4e5d-f1b8-db836dadb09c",
        "colab": {
          "base_uri": "https://localhost:8080/",
          "height": 35
        }
      },
      "outputs": [
        {
          "output_type": "execute_result",
          "data": {
            "text/plain": [
              "'the quick purple fox jumped over a lazy dog'"
            ],
            "application/vnd.google.colaboratory.intrinsic+json": {
              "type": "string"
            }
          },
          "metadata": {},
          "execution_count": 47
        }
      ],
      "source": [
        "line.replace('brown', 'purple')"
      ]
    },
    {
      "cell_type": "markdown",
      "metadata": {
        "id": "OxHYmn0cpRbC"
      },
      "source": [
        "The ``replace()`` function returns a new string, and will replace all occurrences of the input:"
      ]
    },
    {
      "cell_type": "code",
      "execution_count": 48,
      "metadata": {
        "id": "eoBJXl4npRbC",
        "outputId": "6bf2e4df-6ff0-451f-c06d-53d76cd2fccd",
        "colab": {
          "base_uri": "https://localhost:8080/",
          "height": 35
        }
      },
      "outputs": [
        {
          "output_type": "execute_result",
          "data": {
            "text/plain": [
              "'the quick br--wn f--x jumped --ver a lazy d--g'"
            ],
            "application/vnd.google.colaboratory.intrinsic+json": {
              "type": "string"
            }
          },
          "metadata": {},
          "execution_count": 48
        }
      ],
      "source": [
        "line.replace('o', '--')"
      ]
    },
    {
      "cell_type": "markdown",
      "metadata": {
        "id": "GJPypkiDpRbC"
      },
      "source": [
        "For a more flexible approach to this ``replace()`` functionality, see the discussion of regular expressions in [Flexible Pattern Matching with Regular Expressions](#Flexible-Pattern-Matching-with-Regular-Expressions)."
      ]
    },
    {
      "cell_type": "markdown",
      "metadata": {
        "id": "Gxl5MpGcpRbC"
      },
      "source": [
        "### Splitting and partitioning strings\n",
        "\n",
        "If you would like to find a substring *and then* split the string based on its location, the ``partition()`` and/or ``split()`` methods are what you're looking for.\n",
        "Both will return a sequence of substrings.\n",
        "\n",
        "The ``partition()`` method returns a tuple with three elements: the substring before the first instance of the split-point, the split-point itself, and the substring after:"
      ]
    },
    {
      "cell_type": "code",
      "execution_count": 50,
      "metadata": {
        "id": "0AzSDjVqpRbC",
        "outputId": "ab4e8f5c-d3ae-47fa-f170-448ad176c7bf",
        "colab": {
          "base_uri": "https://localhost:8080/"
        }
      },
      "outputs": [
        {
          "output_type": "execute_result",
          "data": {
            "text/plain": [
              "('the quick ', 'brown', ' fox jumped over a lazy dog')"
            ]
          },
          "metadata": {},
          "execution_count": 50
        }
      ],
      "source": [
        "line.partition('brown')"
      ]
    },
    {
      "cell_type": "code",
      "source": [],
      "metadata": {
        "id": "AIxu6U4LWyhN"
      },
      "execution_count": null,
      "outputs": []
    },
    {
      "cell_type": "markdown",
      "metadata": {
        "id": "W9ZN-Z4UpRbC"
      },
      "source": [
        "The ``rpartition()`` method is similar, but searches from the right of the string.\n",
        "\n",
        "The ``split()`` method is perhaps more useful; it finds *all* instances of the split-point and returns the substrings in between.\n",
        "The default is to split on any whitespace, returning a list of the individual words in a string:"
      ]
    },
    {
      "cell_type": "code",
      "execution_count": 51,
      "metadata": {
        "id": "8TaYA9WSpRbD",
        "outputId": "49f7a3a3-ac95-407a-cad0-ef49d59525c5",
        "colab": {
          "base_uri": "https://localhost:8080/"
        }
      },
      "outputs": [
        {
          "output_type": "execute_result",
          "data": {
            "text/plain": [
              "['the', 'quick', 'brown', 'fox', 'jumped', 'over', 'a', 'lazy', 'dog']"
            ]
          },
          "metadata": {},
          "execution_count": 51
        }
      ],
      "source": [
        "line.split()"
      ]
    },
    {
      "cell_type": "markdown",
      "metadata": {
        "id": "2fpeDwSXpRbD"
      },
      "source": [
        "A related method is ``splitlines()``, which splits on newline characters.\n",
        "Let's do this with a Haiku, popularly attributed to the 17th-century poet Matsuo Bashō:"
      ]
    },
    {
      "cell_type": "code",
      "execution_count": 52,
      "metadata": {
        "id": "s0vJM79EpRbD",
        "outputId": "e305ae29-09f9-4adb-cbc2-62ba89f8bab1",
        "colab": {
          "base_uri": "https://localhost:8080/"
        }
      },
      "outputs": [
        {
          "output_type": "execute_result",
          "data": {
            "text/plain": [
              "['matsushima-yaaah', 'matsushima-ya', 'matsushima-ya']"
            ]
          },
          "metadata": {},
          "execution_count": 52
        }
      ],
      "source": [
        "haiku = \"\"\"matsushima-yaaah\n",
        "matsushima-ya\n",
        "matsushima-ya\"\"\"\n",
        "\n",
        "haiku.splitlines()"
      ]
    },
    {
      "cell_type": "markdown",
      "metadata": {
        "id": "yVm8ZlxppRbD"
      },
      "source": [
        "Note that if you would like to undo a ``split()``, you can use the ``join()`` method, which returns a string built from a splitpoint and an iterable:"
      ]
    },
    {
      "cell_type": "code",
      "execution_count": 56,
      "metadata": {
        "id": "zSbBxmJ_pRbD",
        "outputId": "ae5f1eeb-047e-4a3b-d876-64afaf252a77",
        "colab": {
          "base_uri": "https://localhost:8080/",
          "height": 35
        }
      },
      "outputs": [
        {
          "output_type": "execute_result",
          "data": {
            "text/plain": [
              "'1------>>2------>>3'"
            ],
            "application/vnd.google.colaboratory.intrinsic+json": {
              "type": "string"
            }
          },
          "metadata": {},
          "execution_count": 56
        }
      ],
      "source": [
        "'------>>'.join(['1', '2', '3'])"
      ]
    },
    {
      "cell_type": "markdown",
      "metadata": {
        "id": "79u4D2wapRbE"
      },
      "source": [
        "A common pattern is to use the special character ``\"\\n\"`` (newline) to join together lines that have been previously split, and recover the input:"
      ]
    },
    {
      "cell_type": "code",
      "execution_count": 57,
      "metadata": {
        "id": "XpTVLVNVpRbE",
        "outputId": "97968009-d355-4a6b-a47e-41456ea467fd",
        "colab": {
          "base_uri": "https://localhost:8080/"
        }
      },
      "outputs": [
        {
          "output_type": "stream",
          "name": "stdout",
          "text": [
            "matsushima-ya\n",
            "aah matsushima-ya\n",
            "matsushima-ya\n"
          ]
        }
      ],
      "source": [
        "print(\"\\n\".join(['matsushima-ya', 'aah matsushima-ya', 'matsushima-ya']))"
      ]
    },
    {
      "cell_type": "markdown",
      "metadata": {
        "id": "lJ6quTX6pRbE"
      },
      "source": [
        "## Format Strings\n",
        "\n",
        "In the preceding methods, we have learned how to extract values from strings, and to manipulate strings themselves into desired formats.\n",
        "Another use of string methods is to manipulate string *representations* of values of other types.\n",
        "Of course, string representations can always be found using the ``str()`` function; for example:"
      ]
    },
    {
      "cell_type": "code",
      "execution_count": 58,
      "metadata": {
        "id": "gifKXuFQpRbE",
        "outputId": "7dd5320a-d90a-4282-9e2c-846845c07baa",
        "colab": {
          "base_uri": "https://localhost:8080/",
          "height": 35
        }
      },
      "outputs": [
        {
          "output_type": "execute_result",
          "data": {
            "text/plain": [
              "'3.14159'"
            ],
            "application/vnd.google.colaboratory.intrinsic+json": {
              "type": "string"
            }
          },
          "metadata": {},
          "execution_count": 58
        }
      ],
      "source": [
        "pi = 3.14159\n",
        "str(pi)"
      ]
    },
    {
      "cell_type": "markdown",
      "metadata": {
        "id": "WwdbJKOYpRbE"
      },
      "source": [
        "For more complicated formats, you might be tempted to use string arithmetic as outlined in [Basic Python Semantics: Operators](04-Semantics-Operators.ipynb):"
      ]
    },
    {
      "cell_type": "code",
      "execution_count": 59,
      "metadata": {
        "id": "cwDk1jdXpRbE",
        "outputId": "99d98340-6a96-4ed7-b7e2-b82df21b9b09",
        "colab": {
          "base_uri": "https://localhost:8080/",
          "height": 35
        }
      },
      "outputs": [
        {
          "output_type": "execute_result",
          "data": {
            "text/plain": [
              "'The value of pi is 3.14159'"
            ],
            "application/vnd.google.colaboratory.intrinsic+json": {
              "type": "string"
            }
          },
          "metadata": {},
          "execution_count": 59
        }
      ],
      "source": [
        "\"The value of pi is \" + str(pi)"
      ]
    },
    {
      "cell_type": "markdown",
      "metadata": {
        "id": "iHTOnrzBpRbE"
      },
      "source": [
        "A more flexible way to do this is to use *format strings*, which are strings with special markers (noted by curly braces) into which string-formatted values will be inserted.\n",
        "Here is a basic example:"
      ]
    },
    {
      "cell_type": "code",
      "execution_count": 60,
      "metadata": {
        "id": "pezv3JHnpRbF",
        "outputId": "4e4f64a3-6291-4720-d1f2-f28a1baaa359",
        "colab": {
          "base_uri": "https://localhost:8080/",
          "height": 35
        }
      },
      "outputs": [
        {
          "output_type": "execute_result",
          "data": {
            "text/plain": [
              "'The value of pi is 3.14159'"
            ],
            "application/vnd.google.colaboratory.intrinsic+json": {
              "type": "string"
            }
          },
          "metadata": {},
          "execution_count": 60
        }
      ],
      "source": [
        "\"The value of pi is {}\".format(pi)"
      ]
    },
    {
      "cell_type": "markdown",
      "metadata": {
        "id": "IbjUi48PpRbF"
      },
      "source": [
        "Inside the ``{}`` marker you can also include information on exactly *what* you would like to appear there.\n",
        "If you include a number, it will refer to the index of the argument to insert:"
      ]
    },
    {
      "cell_type": "code",
      "execution_count": 61,
      "metadata": {
        "id": "3tlMmBMvpRbF",
        "outputId": "deba4e7e-2145-49c5-c833-6e9f65c396f3",
        "colab": {
          "base_uri": "https://localhost:8080/",
          "height": 35
        }
      },
      "outputs": [
        {
          "output_type": "execute_result",
          "data": {
            "text/plain": [
              "'First letter: A. Last letter: Z.'"
            ],
            "application/vnd.google.colaboratory.intrinsic+json": {
              "type": "string"
            }
          },
          "metadata": {},
          "execution_count": 61
        }
      ],
      "source": [
        "\"\"\"First letter: {0}. Last letter: {1}.\"\"\".format('A', 'Z')"
      ]
    },
    {
      "cell_type": "markdown",
      "metadata": {
        "id": "O9zC1kRtpRbF"
      },
      "source": [
        "If you include a string, it will refer to the key of any keyword argument:"
      ]
    },
    {
      "cell_type": "code",
      "execution_count": 62,
      "metadata": {
        "id": "wjMwIjmFpRbF",
        "outputId": "9c5b992b-c16c-49f5-b513-f6f6e7c6562a",
        "colab": {
          "base_uri": "https://localhost:8080/",
          "height": 35
        }
      },
      "outputs": [
        {
          "output_type": "execute_result",
          "data": {
            "text/plain": [
              "'First letter: A. Last letter: Z.'"
            ],
            "application/vnd.google.colaboratory.intrinsic+json": {
              "type": "string"
            }
          },
          "metadata": {},
          "execution_count": 62
        }
      ],
      "source": [
        " \"\"\"First letter: {first}. Last letter: {last}.\"\"\".format(last='Z', first='A')"
      ]
    },
    {
      "cell_type": "markdown",
      "metadata": {
        "id": "hOVFLtnapRbF"
      },
      "source": [
        "Finally, for numerical inputs, you can include format codes which control how the value is converted to a string.\n",
        "For example, to print a number as a floating point with three digits after the decimal point, you can use the following:"
      ]
    },
    {
      "cell_type": "code",
      "execution_count": 63,
      "metadata": {
        "id": "SE3mLIoCpRbF",
        "outputId": "5996096f-0fe1-4228-b4e9-399ec0382a7a",
        "colab": {
          "base_uri": "https://localhost:8080/",
          "height": 35
        }
      },
      "outputs": [
        {
          "output_type": "execute_result",
          "data": {
            "text/plain": [
              "'pi = 3.142'"
            ],
            "application/vnd.google.colaboratory.intrinsic+json": {
              "type": "string"
            }
          },
          "metadata": {},
          "execution_count": 63
        }
      ],
      "source": [
        "\"pi = {0:.3f}\".format(pi)"
      ]
    },
    {
      "cell_type": "markdown",
      "metadata": {
        "id": "tYXH7v4hpRbG"
      },
      "source": [
        "As before, here the \"``0``\" refers to the index of the value to be inserted.\n",
        "The \"``:``\" marks that format codes will follow.\n",
        "The \"``.3f``\" encodes the desired precision: three digits beyond the decimal point, floating-point format.\n",
        "\n",
        "This style of format specification is very flexible, and the examples here barely scratch the surface of the formatting options available.\n",
        "For more information on the syntax of these format strings, see the [Format Specification](https://docs.python.org/3/library/string.html#formatspec) section of Python's online documentation."
      ]
    },
    {
      "cell_type": "markdown",
      "metadata": {
        "id": "eB9PUIzDpRbG"
      },
      "source": [
        "## Flexible Pattern Matching with Regular Expressions\n",
        "\n",
        "The methods of Python's ``str`` type give you a powerful set of tools for formatting, splitting, and manipulating string data.\n",
        "But even more powerful tools are available in Python's built-in *regular expression* module.\n",
        "Regular expressions are a huge topic; there are there are entire books written on the topic (including Jeffrey E.F. Friedl’s [*Mastering Regular Expressions, 3rd Edition*](http://shop.oreilly.com/product/9780596528126.do)), so it will be hard to do justice within just a single subsection.\n",
        "\n",
        "My goal here is to give you an idea of the types of problems that might be addressed using regular expressions, as well as a basic idea of how to use them in Python.\n",
        "I'll suggest some references for learning more in [Further Resources on Regular Expressions](#Further-Resources-on-Regular-Expressions).\n",
        "\n",
        "Fundamentally, regular expressions are a means of *flexible pattern matching* in strings.\n",
        "If you frequently use the command-line, you are probably familiar with this type of flexible matching with the \"``*``\" character, which acts as a wildcard.\n",
        "For example, we can list all the IPython notebooks (i.e., files with extension *.ipynb*) with \"Python\" in their filename by using the \"``*``\" wildcard to match any characters in between:"
      ]
    },
    {
      "cell_type": "code",
      "execution_count": 64,
      "metadata": {
        "id": "7d2PthTApRbG",
        "outputId": "429a3b4b-a946-40a7-85c4-1e54580e26c9",
        "colab": {
          "base_uri": "https://localhost:8080/"
        }
      },
      "outputs": [
        {
          "output_type": "stream",
          "name": "stdout",
          "text": [
            "ls: cannot access '*Python*.ipynb': No such file or directory\n"
          ]
        }
      ],
      "source": [
        "!ls *Python*.ipynb"
      ]
    },
    {
      "cell_type": "markdown",
      "metadata": {
        "id": "u2zn0ctBpRbG"
      },
      "source": [
        "Regular expressions generalize this \"wildcard\" idea to a wide range of flexible string-matching sytaxes.\n",
        "The Python interface to regular expressions is contained in the built-in ``re`` module; as a simple example, let's use it to duplicate the functionality of the string ``split()`` method:"
      ]
    },
    {
      "cell_type": "code",
      "execution_count": 65,
      "metadata": {
        "id": "KG8Iadm_pRbG",
        "outputId": "5878c388-ba0d-46e1-9ebd-5ed4cad5aee9",
        "colab": {
          "base_uri": "https://localhost:8080/"
        }
      },
      "outputs": [
        {
          "output_type": "execute_result",
          "data": {
            "text/plain": [
              "['the', 'quick', 'brown', 'fox', 'jumped', 'over', 'a', 'lazy', 'dog']"
            ]
          },
          "metadata": {},
          "execution_count": 65
        }
      ],
      "source": [
        "import re\n",
        "regex = re.compile('\\s+')\n",
        "regex.split(line)"
      ]
    },
    {
      "cell_type": "markdown",
      "metadata": {
        "id": "Zipxi8BTpRbH"
      },
      "source": [
        "Here we've first *compiled* a regular expression, then used it to *split* a string.\n",
        "Just as Python's ``split()`` method returns a list of all substrings between whitespace, the regular expression ``split()`` method returns a list of all substrings between matches to the input pattern.\n",
        "\n",
        "In this case, the input is ``\"\\s+\"``: \"``\\s``\" is a special character that matches any whitespace (space, tab, newline, etc.), and the \"``+``\" is a character that indicates *one or more* of the entity preceding it.\n",
        "Thus, the regular expression matches any substring consisting of one or more spaces.\n",
        "\n",
        "The ``split()`` method here is basically a convenience routine built upon this *pattern matching* behavior; more fundamental is the ``match()`` method, which will tell you whether the beginning of a string matches the pattern:"
      ]
    },
    {
      "cell_type": "code",
      "execution_count": 66,
      "metadata": {
        "id": "FNX22EbwpRbH",
        "outputId": "8066265a-d890-4e9f-b31c-bf557ad3762a",
        "colab": {
          "base_uri": "https://localhost:8080/"
        }
      },
      "outputs": [
        {
          "output_type": "stream",
          "name": "stdout",
          "text": [
            "'     ' matches\n",
            "'abc  ' does not match\n",
            "'  abc' matches\n"
          ]
        }
      ],
      "source": [
        "for s in [\"     \", \"abc  \", \"  abc\"]:\n",
        "     if regex.match(s):\n",
        "         print(repr(s), \"matches\")\n",
        "     else:\n",
        "         print(repr(s), \"does not match\")"
      ]
    },
    {
      "cell_type": "markdown",
      "metadata": {
        "id": "fbnbjPdfpRbH"
      },
      "source": [
        "Like ``split()``, there are similar convenience routines to find the first match (like ``str.index()`` or ``str.find()``) or to find and replace (like ``str.replace()``).\n",
        "We'll again use the line from before:"
      ]
    },
    {
      "cell_type": "code",
      "execution_count": 67,
      "metadata": {
        "collapsed": true,
        "id": "OdTSkQsKpRbH"
      },
      "outputs": [],
      "source": [
        " line = 'the quick brown fox jumped over a lazy dog'"
      ]
    },
    {
      "cell_type": "markdown",
      "metadata": {
        "id": "uZt7YE3QpRbH"
      },
      "source": [
        "With this, we can see that the ``regex.search()`` method operates a lot like ``str.index()`` or ``str.find()``:"
      ]
    },
    {
      "cell_type": "code",
      "execution_count": 68,
      "metadata": {
        "id": "UtEjkqkupRbH",
        "outputId": "639f3a4a-0a9f-4ae8-8e6a-c9f1f567a974",
        "colab": {
          "base_uri": "https://localhost:8080/"
        }
      },
      "outputs": [
        {
          "output_type": "execute_result",
          "data": {
            "text/plain": [
              "16"
            ]
          },
          "metadata": {},
          "execution_count": 68
        }
      ],
      "source": [
        "line.index('fox')"
      ]
    },
    {
      "cell_type": "code",
      "execution_count": 70,
      "metadata": {
        "id": "AVYUYBQbpRbH",
        "outputId": "60ab93c2-4a63-432f-8480-950e579a5619",
        "colab": {
          "base_uri": "https://localhost:8080/"
        }
      },
      "outputs": [
        {
          "output_type": "execute_result",
          "data": {
            "text/plain": [
              "16"
            ]
          },
          "metadata": {},
          "execution_count": 70
        }
      ],
      "source": [
        "regex = re.compile('fox')\n",
        "match = regex.search(line)\n",
        "match.start()"
      ]
    },
    {
      "cell_type": "markdown",
      "metadata": {
        "id": "CRQPSmGypRbI"
      },
      "source": [
        "Similarly, the ``regex.sub()`` method operates much like ``str.replace()``:"
      ]
    },
    {
      "cell_type": "code",
      "execution_count": 71,
      "metadata": {
        "id": "y3YFFRGZpRbI",
        "outputId": "261e965d-f260-4a0a-d41e-81c4ac93c9cf",
        "colab": {
          "base_uri": "https://localhost:8080/",
          "height": 35
        }
      },
      "outputs": [
        {
          "output_type": "execute_result",
          "data": {
            "text/plain": [
              "'the quick brown BEAR jumped over a lazy dog'"
            ],
            "application/vnd.google.colaboratory.intrinsic+json": {
              "type": "string"
            }
          },
          "metadata": {},
          "execution_count": 71
        }
      ],
      "source": [
        "line.replace('fox', 'BEAR')"
      ]
    },
    {
      "cell_type": "code",
      "execution_count": 72,
      "metadata": {
        "id": "6ZhBNUpJpRbI",
        "outputId": "6595fd24-c5bc-4733-8661-e437e19f043f",
        "colab": {
          "base_uri": "https://localhost:8080/",
          "height": 35
        }
      },
      "outputs": [
        {
          "output_type": "execute_result",
          "data": {
            "text/plain": [
              "'the quick brown BEAR jumped over a lazy dog'"
            ],
            "application/vnd.google.colaboratory.intrinsic+json": {
              "type": "string"
            }
          },
          "metadata": {},
          "execution_count": 72
        }
      ],
      "source": [
        "regex.sub('BEAR', line)"
      ]
    },
    {
      "cell_type": "markdown",
      "metadata": {
        "id": "-qTEXp1HpRbI"
      },
      "source": [
        "With a bit of thought, other native string operations can also be cast as regular expressions."
      ]
    },
    {
      "cell_type": "markdown",
      "metadata": {
        "id": "Z7OPpA3YpRbI"
      },
      "source": [
        "### A more sophisticated example\n",
        "\n",
        "But, you might ask, why would you want to use the more complicated and verbose syntax of regular expressions rather than the more intuitive and simple string methods?\n",
        "The advantage is that regular expressions offer *far* more flexibility.\n",
        "\n",
        "Here we'll consider a more complicated example: the common task of matching email addresses.\n",
        "I'll start by simply writing a (somewhat indecipherable) regular expression, and then walk through what is going on.\n",
        "Here it goes:"
      ]
    },
    {
      "cell_type": "code",
      "execution_count": 73,
      "metadata": {
        "collapsed": true,
        "id": "LWYMcmHzpRbI"
      },
      "outputs": [],
      "source": [
        "email = re.compile('\\w+@\\w+\\.[a-z]{3}')"
      ]
    },
    {
      "cell_type": "markdown",
      "metadata": {
        "id": "25b_6dd2pRbI"
      },
      "source": [
        "Using this, if we're given a line from a document, we can quickly extract things that look like email addresses"
      ]
    },
    {
      "cell_type": "code",
      "execution_count": 74,
      "metadata": {
        "id": "5TIF46aCpRbJ",
        "outputId": "730dcc9f-6526-42bc-df3a-a80fc24259a0",
        "colab": {
          "base_uri": "https://localhost:8080/"
        }
      },
      "outputs": [
        {
          "output_type": "execute_result",
          "data": {
            "text/plain": [
              "['guido@python.org', 'guido@google.com']"
            ]
          },
          "metadata": {},
          "execution_count": 74
        }
      ],
      "source": [
        "text = \"To email Guido, try guido@python.org or the older address guido@google.com.\"\n",
        "email.findall(text)"
      ]
    },
    {
      "cell_type": "markdown",
      "metadata": {
        "id": "HoMmIQnNpRbJ"
      },
      "source": [
        "(Note that these addresses are entirely made up; there are probably better ways to get in touch with Guido).\n",
        "\n",
        "We can do further operations, like replacing these email addresses with another string, perhaps to hide addresses in the output:"
      ]
    },
    {
      "cell_type": "code",
      "execution_count": 75,
      "metadata": {
        "id": "qQbn7hpOpRbJ",
        "outputId": "08cbdb5c-2542-490a-cb04-792ac6072062",
        "colab": {
          "base_uri": "https://localhost:8080/",
          "height": 35
        }
      },
      "outputs": [
        {
          "output_type": "execute_result",
          "data": {
            "text/plain": [
              "'To email Guido, try --@--.-- or the older address --@--.--.'"
            ],
            "application/vnd.google.colaboratory.intrinsic+json": {
              "type": "string"
            }
          },
          "metadata": {},
          "execution_count": 75
        }
      ],
      "source": [
        "email.sub('--@--.--', text)"
      ]
    },
    {
      "cell_type": "markdown",
      "metadata": {
        "id": "veZQXZ2FpRbJ"
      },
      "source": [
        "Finally, note that if you really want to match *any* email address, the preceding regular expression is far too simple.\n",
        "For example, it only allows addresses made of alphanumeric characters that end in one of several common domain suffixes.\n",
        "So, for example, the period used here means that we only find part of the address:"
      ]
    },
    {
      "cell_type": "code",
      "execution_count": 77,
      "metadata": {
        "id": "X2NwN6RspRbJ",
        "outputId": "e613f495-b96e-40f2-c129-197387445168",
        "colab": {
          "base_uri": "https://localhost:8080/"
        }
      },
      "outputs": [
        {
          "output_type": "execute_result",
          "data": {
            "text/plain": [
              "['obama@whitehouse.gov']"
            ]
          },
          "metadata": {},
          "execution_count": 77
        }
      ],
      "source": [
        " email.findall('barack.obama@whitehouse.gov')"
      ]
    },
    {
      "cell_type": "markdown",
      "metadata": {
        "id": "DxFSPTb-pRbJ"
      },
      "source": [
        "This goes to show how unforgiving regular expressions can be if you're not careful!\n",
        "If you search around online, you can find some suggestions for regular expressions that will match *all* valid emails, but beware: they are much more involved than the simple expression used here!"
      ]
    },
    {
      "cell_type": "markdown",
      "metadata": {
        "id": "fbQCQ1P2pRbJ"
      },
      "source": [
        "### Basics of regular expression syntax\n",
        "\n",
        "The syntax of regular expressions is much too large a topic for this short section.\n",
        "Still, a bit of familiarity can go a long way: I will walk through some of the basic constructs here, and then list some more complete resources from which you can learn more.\n",
        "My hope is that the following quick primer will enable you to use these resources effectively."
      ]
    },
    {
      "cell_type": "markdown",
      "metadata": {
        "id": "9kdN1cnypRbK"
      },
      "source": [
        "#### Simple strings are matched directly\n",
        "\n",
        "If you build a regular expression on a simple string of characters or digits, it will match that exact string:"
      ]
    },
    {
      "cell_type": "code",
      "execution_count": 78,
      "metadata": {
        "id": "hWoQRajKpRbK",
        "outputId": "6541eafe-8a84-4033-ad20-f8a215c22c49",
        "colab": {
          "base_uri": "https://localhost:8080/"
        }
      },
      "outputs": [
        {
          "output_type": "execute_result",
          "data": {
            "text/plain": [
              "['ion']"
            ]
          },
          "metadata": {},
          "execution_count": 78
        }
      ],
      "source": [
        "regex = re.compile('ion')\n",
        "regex.findall('Great Expectations')"
      ]
    },
    {
      "cell_type": "markdown",
      "metadata": {
        "id": "QuSOXuBnpRbK"
      },
      "source": [
        "#### Some characters have special meanings\n",
        "\n",
        "While simple letters or numbers are direct matches, there are a handful of characters that have special meanings within regular expressions. They are:\n",
        "<!-- ```\n",
        ". ^ $ * + ? { } [ ] \\ | ( ) -->\n",
        "```\n",
        "We will discuss the meaning of some of these momentarily.\n",
        "In the meantime, you should know that if you'd like to match any of these characters directly, you can *escape* them with a back-slash:"
      ]
    },
    {
      "cell_type": "code",
      "execution_count": 80,
      "metadata": {
        "id": "pIYlj0zgpRbK",
        "outputId": "9b18e97f-d259-403f-e8af-6d991536e888",
        "colab": {
          "base_uri": "https://localhost:8080/"
        }
      },
      "outputs": [
        {
          "output_type": "execute_result",
          "data": {
            "text/plain": [
              "['$']"
            ]
          },
          "metadata": {},
          "execution_count": 80
        }
      ],
      "source": [
        "regex = re.compile(r'\\$')\n",
        "regex.findall(\"the cost is $20\")"
      ]
    },
    {
      "cell_type": "markdown",
      "metadata": {
        "id": "J8uaE5OmpRbK"
      },
      "source": [
        "The ``r`` preface in ``r'\\$'`` indicates a *raw string*; in standard Python strings, the backslash is used to indicate special characters.\n",
        "For example, a tab is indicated by ``\"\\t\"``:"
      ]
    },
    {
      "cell_type": "code",
      "execution_count": 81,
      "metadata": {
        "id": "q4gUx3dTpRbK",
        "outputId": "201ec59f-9d7c-4290-c72a-f1be3e59084d",
        "colab": {
          "base_uri": "https://localhost:8080/"
        }
      },
      "outputs": [
        {
          "output_type": "stream",
          "name": "stdout",
          "text": [
            "a\tb\tc\n"
          ]
        }
      ],
      "source": [
        "print('a\\tb\\tc')"
      ]
    },
    {
      "cell_type": "markdown",
      "metadata": {
        "id": "zYR-e-1GpRbK"
      },
      "source": [
        "Such substitutions are not made in a raw string:"
      ]
    },
    {
      "cell_type": "code",
      "execution_count": 82,
      "metadata": {
        "id": "eLeUYOjnpRbK",
        "outputId": "74e1a5af-8cc3-4a5c-9090-7a465ea3a979",
        "colab": {
          "base_uri": "https://localhost:8080/"
        }
      },
      "outputs": [
        {
          "output_type": "stream",
          "name": "stdout",
          "text": [
            "a\\tb\\tc\n"
          ]
        }
      ],
      "source": [
        "print(r'a\\tb\\tc')"
      ]
    },
    {
      "cell_type": "markdown",
      "metadata": {
        "id": "M4nP7woopRbL"
      },
      "source": [
        "For this reason, whenever you use backslashes in a regular expression, it is good practice to use a raw string."
      ]
    },
    {
      "cell_type": "markdown",
      "metadata": {
        "id": "FzGG9-_spRbL"
      },
      "source": [
        "#### Special characters can match character groups\n",
        "\n",
        "Just as the ``\"\\\"`` character within regular expressions can escape special characters, turning them into normal characters, it can also be used to give normal characters special meaning.\n",
        "These special characters match specified groups of characters, and we've seen them before.\n",
        "In the email address regexp from before, we used the character ``\"\\w\"``, which is a special marker matching *any alphanumeric character*. Similarly, in the simple ``split()`` example, we also saw ``\"\\s\"``, a special marker indicating *any whitespace character*.\n",
        "\n",
        "Putting these together, we can create a regular expression that will match *any two letters/digits with whitespace between them*:"
      ]
    },
    {
      "cell_type": "code",
      "execution_count": 83,
      "metadata": {
        "id": "d90sOoIppRbL",
        "outputId": "619e4f2d-0b85-4eb0-9adb-58ecce5af79a",
        "colab": {
          "base_uri": "https://localhost:8080/"
        }
      },
      "outputs": [
        {
          "output_type": "execute_result",
          "data": {
            "text/plain": [
              "['e f', 'x i', 's 9', 's o']"
            ]
          },
          "metadata": {},
          "execution_count": 83
        }
      ],
      "source": [
        "regex = re.compile(r'\\w\\s\\w')\n",
        "regex.findall('the fox is 9 years old')"
      ]
    },
    {
      "cell_type": "markdown",
      "metadata": {
        "id": "V4OGI9OepRbL"
      },
      "source": [
        "This example begins to hint at the power and flexibility of regular expressions."
      ]
    },
    {
      "cell_type": "markdown",
      "metadata": {
        "id": "ALnJKaXcpRbL"
      },
      "source": [
        "The following table lists a few of these characters that are commonly useful:\n",
        "\n",
        "| Character | Description                 || Character | Description                     |\n",
        "|-----------|-----------------------------||-----------|---------------------------------|\n",
        "| ``\"\\d\"``  | Match any digit             || ``\"\\D\"``  | Match any non-digit             |\n",
        "| ``\"\\s\"``  | Match any whitespace        || ``\"\\S\"``  | Match any non-whitespace        |\n",
        "| ``\"\\w\"``  | Match any alphanumeric char || ``\"\\W\"``  | Match any non-alphanumeric char |\n",
        "\n",
        "This is *not* a comprehensive list or description; for more details, see Python's [regular expression syntax documentation](https://docs.python.org/3/library/re.html#re-syntax)."
      ]
    },
    {
      "cell_type": "markdown",
      "metadata": {
        "id": "yrS3dOLnpRbL"
      },
      "source": [
        "#### Square brackets match custom character groups\n",
        "\n",
        "If the built-in character groups aren't specific enough for you, you can use square brackets to specify any set of characters you're interested in.\n",
        "For example, the following will match any lower-case vowel:"
      ]
    },
    {
      "cell_type": "code",
      "execution_count": 84,
      "metadata": {
        "id": "tKDY24pbpRbL",
        "outputId": "adb0b10d-8b7b-436a-ec98-76bb77f42686",
        "colab": {
          "base_uri": "https://localhost:8080/"
        }
      },
      "outputs": [
        {
          "output_type": "execute_result",
          "data": {
            "text/plain": [
              "['c', 'ns', 'q', '', 'nt', '', 'l']"
            ]
          },
          "metadata": {},
          "execution_count": 84
        }
      ],
      "source": [
        "regex = re.compile('[aeiou]')\n",
        "regex.split('consequential')"
      ]
    },
    {
      "cell_type": "markdown",
      "metadata": {
        "id": "RyNxgALIpRbM"
      },
      "source": [
        "Similarly, you can use a dash to specify a range: for example, ``\"[a-z]\"`` will match any lower-case letter, and ``\"[1-3]\"`` will match any of ``\"1\"``, ``\"2\"``, or ``\"3\"``.\n",
        "For instance, you may need to extract from a document specific numerical codes that consist of a capital letter followed by a digit. You could do this as follows:"
      ]
    },
    {
      "cell_type": "code",
      "execution_count": 85,
      "metadata": {
        "id": "ECvrJyFTpRbM",
        "outputId": "1701bc79-f77e-43cd-ede8-09edde2e9e6d",
        "colab": {
          "base_uri": "https://localhost:8080/"
        }
      },
      "outputs": [
        {
          "output_type": "execute_result",
          "data": {
            "text/plain": [
              "['G2', 'H6']"
            ]
          },
          "metadata": {},
          "execution_count": 85
        }
      ],
      "source": [
        "regex = re.compile('[A-Z][0-9]')\n",
        "regex.findall('1043879, G2, H6')"
      ]
    },
    {
      "cell_type": "markdown",
      "metadata": {
        "id": "meZZpDC-pRbM"
      },
      "source": [
        "#### Wildcards match repeated characters\n",
        "\n",
        "If you would like to match a string with, say, three alphanumeric characters in a row, it is possible to write, for example, ``\"\\w\\w\\w\"``.\n",
        "Because this is such a common need, there is a specific syntax to match repetitions – curly braces with a number:"
      ]
    },
    {
      "cell_type": "code",
      "execution_count": 86,
      "metadata": {
        "id": "Vm4LWli3pRbM",
        "outputId": "f68c5ba4-1eed-4d77-d8e6-db1ca8d5cefd",
        "colab": {
          "base_uri": "https://localhost:8080/"
        }
      },
      "outputs": [
        {
          "output_type": "execute_result",
          "data": {
            "text/plain": [
              "['The', 'qui', 'bro', 'fox']"
            ]
          },
          "metadata": {},
          "execution_count": 86
        }
      ],
      "source": [
        "regex = re.compile(r'\\w{3}')\n",
        "regex.findall('The quick brown fox')"
      ]
    },
    {
      "cell_type": "markdown",
      "metadata": {
        "id": "wQ5rmnuGpRbM"
      },
      "source": [
        "There are also markers available to match any number of repetitions – for example, the ``\"+\"`` character will match *one or more* repetitions of what precedes it:"
      ]
    },
    {
      "cell_type": "code",
      "execution_count": 87,
      "metadata": {
        "id": "_V-kc-ygpRbM",
        "outputId": "46aecffc-390c-491e-fd8c-9d52efad3da3",
        "colab": {
          "base_uri": "https://localhost:8080/"
        }
      },
      "outputs": [
        {
          "output_type": "execute_result",
          "data": {
            "text/plain": [
              "['The', 'quick', 'brown', 'fox']"
            ]
          },
          "metadata": {},
          "execution_count": 87
        }
      ],
      "source": [
        "regex = re.compile(r'\\w+')\n",
        "regex.findall('The quick brown fox')"
      ]
    },
    {
      "cell_type": "markdown",
      "metadata": {
        "id": "A7K7qD9QpRbM"
      },
      "source": [
        "The following is a table of the repetition markers available for use in regular expressions:\n",
        "\n",
        "| Character | Description | Example |\n",
        "|-----------|-------------|---------|\n",
        "| ``?`` | Match zero or one repetitions of preceding  | ``\"ab?\"`` matches ``\"a\"`` or ``\"ab\"`` |\n",
        "| ``*`` | Match zero or more repetitions of preceding | ``\"ab*\"`` matches ``\"a\"``, ``\"ab\"``, ``\"abb\"``, ``\"abbb\"``... |\n",
        "| ``+`` | Match one or more repetitions of preceding  | ``\"ab+\"`` matches ``\"ab\"``, ``\"abb\"``, ``\"abbb\"``... but not ``\"a\"`` |\n",
        "| ``{n}`` | Match ``n`` repetitions of preeeding | ``\"ab{2}\"`` matches ``\"abb\"`` |\n",
        "| ``{m,n}`` | Match between ``m`` and ``n`` repetitions of preceding | ``\"ab{2,3}\"`` matches ``\"abb\"`` or ``\"abbb\"`` |"
      ]
    },
    {
      "cell_type": "markdown",
      "metadata": {
        "id": "frvj_ChBpRbN"
      },
      "source": [
        "With these basics in mind, let's return to our email address matcher:"
      ]
    },
    {
      "cell_type": "code",
      "execution_count": 88,
      "metadata": {
        "collapsed": true,
        "id": "rOB6xvpFpRbN"
      },
      "outputs": [],
      "source": [
        "email = re.compile(r'\\w+@\\w+\\.[a-z]{3}')"
      ]
    },
    {
      "cell_type": "markdown",
      "metadata": {
        "id": "NzqrSrxSpRbN"
      },
      "source": [
        "We can now understand what this means: we want one or more alphanumeric character (``\"\\w+\"``) followed by the *at sign* (``\"@\"``), followed by one or more alphanumeric character (``\"\\w+\"``), followed by a period (``\"\\.\"`` – note the need for a backslash escape), followed by exactly three lower-case letters.\n",
        "\n",
        "If we want to now modify this so that the Obama email address matches, we can do so using the square-bracket notation:"
      ]
    },
    {
      "cell_type": "code",
      "execution_count": 89,
      "metadata": {
        "id": "hvIm3nn0pRbN",
        "outputId": "31dba156-9907-455b-a076-5e6f726b8635",
        "colab": {
          "base_uri": "https://localhost:8080/"
        }
      },
      "outputs": [
        {
          "output_type": "execute_result",
          "data": {
            "text/plain": [
              "['barack.obama@whitehouse.gov']"
            ]
          },
          "metadata": {},
          "execution_count": 89
        }
      ],
      "source": [
        "email2 = re.compile(r'[\\w.]+@\\w+\\.[a-z]{3}')\n",
        "email2.findall('barack.obama@whitehouse.gov')"
      ]
    },
    {
      "cell_type": "markdown",
      "metadata": {
        "id": "dMdVTPK7pRbN"
      },
      "source": [
        "We have changed ``\"\\w+\"`` to ``\"[\\w.]+\"``, so we will match any alphanumeric character *or* a period.\n",
        "With this more flexible expression, we can match a wider range of email addresses (though still not all – can you identify other shortcomings of this expression?)."
      ]
    },
    {
      "cell_type": "markdown",
      "metadata": {
        "id": "MxoA0isOpRbN"
      },
      "source": [
        "#### Parentheses indicate *groups* to extract\n",
        "\n",
        "For compound regular expressions like our email matcher, we often want to extract their components rather than the full match. This can be done using parentheses to *group* the results:"
      ]
    },
    {
      "cell_type": "code",
      "execution_count": null,
      "metadata": {
        "collapsed": true,
        "id": "VuinNONlpRbN"
      },
      "outputs": [],
      "source": [
        "email3 = re.compile(r'([\\w.]+)@(\\w+)\\.([a-z]{3})')"
      ]
    },
    {
      "cell_type": "code",
      "execution_count": 90,
      "metadata": {
        "id": "k3lR2BEtpRbO",
        "outputId": "d390454d-e6e4-4f52-b717-eb3683a9deaf",
        "colab": {
          "base_uri": "https://localhost:8080/",
          "height": 183
        }
      },
      "outputs": [
        {
          "output_type": "error",
          "ename": "NameError",
          "evalue": "ignored",
          "traceback": [
            "\u001b[0;31m---------------------------------------------------------------------------\u001b[0m",
            "\u001b[0;31mNameError\u001b[0m                                 Traceback (most recent call last)",
            "\u001b[0;32m<ipython-input-90-b96f394f14d4>\u001b[0m in \u001b[0;36m<module>\u001b[0;34m\u001b[0m\n\u001b[1;32m      1\u001b[0m \u001b[0mtext\u001b[0m \u001b[0;34m=\u001b[0m \u001b[0;34m\"To email Guido, try guido@python.org or the older address guido@google.com.\"\u001b[0m\u001b[0;34m\u001b[0m\u001b[0;34m\u001b[0m\u001b[0m\n\u001b[0;32m----> 2\u001b[0;31m \u001b[0memail3\u001b[0m\u001b[0;34m.\u001b[0m\u001b[0mfindall\u001b[0m\u001b[0;34m(\u001b[0m\u001b[0mtext\u001b[0m\u001b[0;34m)\u001b[0m\u001b[0;34m\u001b[0m\u001b[0;34m\u001b[0m\u001b[0m\n\u001b[0m",
            "\u001b[0;31mNameError\u001b[0m: name 'email3' is not defined"
          ]
        }
      ],
      "source": [
        "text = \"To email Guido, try guido@python.org or the older address guido@google.com.\"\n",
        "email3.findall(text)"
      ]
    },
    {
      "cell_type": "markdown",
      "metadata": {
        "id": "Q7635lmIpRbO"
      },
      "source": [
        "As we see, this grouping actually extracts a list of the sub-components of the email address.\n",
        "\n",
        "We can go a bit further and *name* the extracted components using the ``\"(?P<name> )\"`` syntax, in which case the groups can be extracted as a Python dictionary:"
      ]
    },
    {
      "cell_type": "code",
      "execution_count": 91,
      "metadata": {
        "id": "WfjNYBpTpRbO",
        "outputId": "8181d48c-9ddf-4d04-f508-2b4b8c82c8d3",
        "colab": {
          "base_uri": "https://localhost:8080/"
        }
      },
      "outputs": [
        {
          "output_type": "execute_result",
          "data": {
            "text/plain": [
              "{'user': 'guido', 'domain': 'python', 'suffix': 'org'}"
            ]
          },
          "metadata": {},
          "execution_count": 91
        }
      ],
      "source": [
        "email4 = re.compile(r'(?P<user>[\\w.]+)@(?P<domain>\\w+)\\.(?P<suffix>[a-z]{3})')\n",
        "match = email4.match('guido@python.org')\n",
        "match.groupdict()"
      ]
    },
    {
      "cell_type": "markdown",
      "metadata": {
        "id": "_Z05sQv_pRbO"
      },
      "source": [
        "Combining these ideas (as well as some of the powerful regexp syntax that we have not covered here) allows you to flexibly and quickly extract information from strings in Python."
      ]
    },
    {
      "cell_type": "markdown",
      "metadata": {
        "id": "82mn_3-_pRbP"
      },
      "source": [
        "### Further Resources on Regular Expressions\n",
        "\n",
        "The above discussion is just a quick (and far from complete) treatment of this large topic.\n",
        "If you'd like to learn more, I recommend the following resources:\n",
        "\n",
        "- [Python's ``re`` package Documentation](https://docs.python.org/3/library/re.html): I find that I promptly forget how to use regular expressions just about every time I use them. Now that I have the basics down, I have found this page to be an incredibly valuable resource to recall what each specific character or sequence means within a regular expression.\n",
        "- [Python's official regular expression HOWTO](https://docs.python.org/3/howto/regex.html): a more narrative approach to regular expressions in Python.\n",
        "- [Mastering Regular Expressions (OReilly, 2006)](http://shop.oreilly.com/product/9780596528126.do) is a 500+ page book on the subject. If you want a really complete treatment of this topic, this is the resource for you.\n",
        "\n",
        "For some examples of string manipulation and regular expressions in action at a larger scale, see [Pandas: Labeled Column-oriented Data](15-Preview-of-Data-Science-Tools.ipynb#Pandas:-Labeled-Column-oriented-Data), where we look at applying these sorts of expressions across *tables* of string data within the Pandas package."
      ]
    },
    {
      "cell_type": "markdown",
      "metadata": {
        "id": "GgcN-raWpRbP"
      },
      "source": [
        "<!--NAVIGATION-->\n",
        "< [Modules and Packages](13-Modules-and-Packages.ipynb) | [Contents](Index.ipynb) | [A Preview of Data Science Tools](15-Preview-of-Data-Science-Tools.ipynb) >"
      ]
    }
  ],
  "metadata": {
    "anaconda-cloud": {},
    "kernelspec": {
      "display_name": "Python 3",
      "language": "python",
      "name": "python3"
    },
    "language_info": {
      "codemirror_mode": {
        "name": "ipython",
        "version": 3
      },
      "file_extension": ".py",
      "mimetype": "text/x-python",
      "name": "python",
      "nbconvert_exporter": "python",
      "pygments_lexer": "ipython3",
      "version": "3.5.1"
    },
    "colab": {
      "name": "08-Strings-and-Regular-Expressions.ipynb",
      "provenance": [],
      "include_colab_link": true
    }
  },
  "nbformat": 4,
  "nbformat_minor": 0
}