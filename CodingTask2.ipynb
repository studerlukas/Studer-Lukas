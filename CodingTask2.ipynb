{
  "nbformat": 4,
  "nbformat_minor": 0,
  "metadata": {
    "colab": {
      "name": "CodingTask2.ipynb",
      "provenance": [],
      "include_colab_link": true
    },
    "kernelspec": {
      "name": "python3",
      "display_name": "Python 3"
    },
    "language_info": {
      "name": "python"
    }
  },
  "cells": [
    {
      "cell_type": "markdown",
      "metadata": {
        "id": "view-in-github",
        "colab_type": "text"
      },
      "source": [
        "<a href=\"https://colab.research.google.com/github/studerlukas/Studer-Lukas/blob/main/CodingTask2.ipynb\" target=\"_parent\"><img src=\"https://colab.research.google.com/assets/colab-badge.svg\" alt=\"Open In Colab\"/></a>"
      ]
    },
    {
      "cell_type": "markdown",
      "source": [],
      "metadata": {
        "id": "faeCt-MlqlIJ"
      }
    },
    {
      "cell_type": "markdown",
      "source": [
        "Data Science Fundamentals for DCBP, S. Haug, University of Bern "
      ],
      "metadata": {
        "id": "_-1mhuoK6uqC"
      }
    },
    {
      "cell_type": "markdown",
      "source": [
        "# Coding Task 2\n",
        "\n",
        "- Deadline (upload to Ilias): 2023-05-14 24:00\n",
        "- Solutions in lecture on 2023-05-17\n",
        "- Estimated effort: from 4 to 60 hours\n",
        "- Images (data) on Ilias in the Data folder, the images.zip file\n",
        "- Main notebook is number 11 for this task, however, also others may help you. You can also benefit a lot from googeling for code examples\n"
      ],
      "metadata": {
        "id": "gn4RkUC66-ou"
      }
    },
    {
      "cell_type": "markdown",
      "source": [
        "## Subtasks (maximum 12.5 points)"
      ],
      "metadata": {
        "id": "KYKF2iS56v1z"
      }
    },
    {
      "cell_type": "markdown",
      "source": [
        "- Upload the images to a folder on your google drive. Write a function which retrieves the filenames of the images, contains a loop converting them to png images and saves them. [about 1 hour] [max 3 points] \n",
        "- With some filtering and sthresholding, write a function which converts the colored bins into nice white segments on a black background for one image. [about 1 hour][max 3 points]\n",
        "- Write an algorithm which counts the number of bins. First approach could be a \"sliding window\" algorithm, i.e a loop sliding over the image and counting regions with substantial white content. There may also be nice segmentation tools out \"there\" already. You may google. [about 4 hours][max 3 points] \n",
        "- Write an algorithm which does the latter task on all images. As the images are quite different, this is a large task which goes beyond the time budget of this exercise, however, you can give it a try. If it works out for a couple of images, that is already good. [from 4 to 50 hours][max 3.5 points]"
      ],
      "metadata": {
        "id": "rXqhhPMu9aPx"
      }
    },
    {
      "cell_type": "markdown",
      "source": [
        "Work in teams and have fun ! "
      ],
      "metadata": {
        "id": "OfvMackX-SFc"
      }
    },
    {
      "cell_type": "code",
      "source": [
        "\n",
        "import numpy as np\n",
        "import matplotlib.pyplot as plt\n",
        "import skimage.io as io\n",
        "# from skimage.external.tifffile import TiffFile\n",
        "import skimage.filters as skf\n",
        "import skimage.morphology as skm\n",
        "from google.colab import drive\n",
        "drive.mount('/content/drive')\n",
        "!pip install pillow_heif "
      ],
      "metadata": {
        "id": "jNRHC9V00iKf",
        "colab": {
          "base_uri": "https://localhost:8080/"
        },
        "outputId": "c26415a3-3092-4158-b055-f2674b97e90e"
      },
      "execution_count": 1,
      "outputs": [
        {
          "output_type": "stream",
          "name": "stdout",
          "text": [
            "Mounted at /content/drive\n",
            "Looking in indexes: https://pypi.org/simple, https://us-python.pkg.dev/colab-wheels/public/simple/\n",
            "Collecting pillow_heif\n",
            "  Downloading pillow_heif-0.11.1-cp310-cp310-manylinux_2_17_x86_64.manylinux2014_x86_64.whl (7.3 MB)\n",
            "\u001b[2K     \u001b[90m━━━━━━━━━━━━━━━━━━━━━━━━━━━━━━━━━━━━━━━━\u001b[0m \u001b[32m7.3/7.3 MB\u001b[0m \u001b[31m75.5 MB/s\u001b[0m eta \u001b[36m0:00:00\u001b[0m\n",
            "\u001b[?25hRequirement already satisfied: pillow>=8.4.0 in /usr/local/lib/python3.10/dist-packages (from pillow_heif) (8.4.0)\n",
            "Installing collected packages: pillow_heif\n",
            "Successfully installed pillow_heif-0.11.1\n"
          ]
        }
      ]
    },
    {
      "cell_type": "code",
      "source": [
        "#CT2.1\n",
        "import os\n",
        "from PIL import Image\n",
        "import pillow_heif\n",
        "folder_path = '/content/drive/MyDrive/DSF/Images'\n",
        "def png_converter(folder_path):\n",
        "    # loop through all files in the folder\n",
        "    for filename in os.listdir(folder_path):\n",
        "        if filename.endswith('.heic'):\n",
        "            # open the HEIC file using Pillow-Heif and convert to PNG using Pillow\n",
        "            filepath = os.path.join(folder_path, filename)\n",
        "            with pillow_heif.read(filepath) as heif_file:\n",
        "                image = Image.frombytes(heif_file.mode, heif_file.size, heif_file.data, \"raw\")\n",
        "                png_filename = os.path.splitext(filename)[0] + '.png'\n",
        "                png_filepath = os.path.join(folder_path, png_filename)\n",
        "                image.save(png_filepath, format=\"png\")\n",
        "\n",
        "folder_path = '/content/drive/MyDrive/DSF/Images'\n",
        "png_converter(folder_path)\n"
      ],
      "metadata": {
        "id": "8DPteVI4pREW"
      },
      "execution_count": 2,
      "outputs": []
    },
    {
      "cell_type": "code",
      "source": [
        "#CT2.2\n",
        "from PIL import Image\n",
        "import os\n",
        "\n",
        "def convert_to_binary(image_path, threshold):\n",
        "    image = Image.open(image_path).convert('RGBA')\n",
        "    \n",
        "    binary_image = Image.new('1', image.size, color=0) #new blank image, same size\n",
        "    for x in range(image.size[0]): # Iterate over each pixel in the input image\n",
        "        for y in range(image.size[1]):\n",
        "            r, g, b, a = image.getpixel((x, y)) #RGBA values for each pixel\n",
        "            if r < threshold or g < threshold or b < threshold: # set values below threshold to white\n",
        "                binary_image.putpixel((x, y), 1)\n",
        "\n",
        "    output_filename = os.path.splitext(image_path)[0] + '.png'\n",
        "    binary_image.save(output_filename)\n",
        "    return output_filename\n",
        "    \n",
        "output_filename = convert_to_binary('/content/drive/MyDrive/DSF/img.png', 128)"
      ],
      "metadata": {
        "id": "QdqNgsFHtacj"
      },
      "execution_count": 7,
      "outputs": []
    }
  ]
}